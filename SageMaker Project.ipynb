{
 "cells": [
  {
   "cell_type": "markdown",
   "metadata": {},
   "source": [
    "# Creating a Sentiment Analysis Web App\n",
    "## Using PyTorch and SageMaker\n",
    "\n",
    "_Deep Learning Nanodegree Program | Deployment_\n",
    "\n",
    "---\n",
    "\n",
    "Now that we have a basic understanding of how SageMaker works we will try to use it to construct a complete project from end to end. Our goal will be to have a simple web page which a user can use to enter a movie review. The web page will then send the review off to our deployed model which will predict the sentiment of the entered review.\n",
    "\n",
    "## Instructions\n",
    "\n",
    "Some template code has already been provided for you, and you will need to implement additional functionality to successfully complete this notebook. You will not need to modify the included code beyond what is requested. Sections that begin with '**TODO**' in the header indicate that you need to complete or implement some portion within them. Instructions will be provided for each section and the specifics of the implementation are marked in the code block with a `# TODO: ...` comment. Please be sure to read the instructions carefully!\n",
    "\n",
    "In addition to implementing code, there will be questions for you to answer which relate to the task and your implementation. Each section where you will answer a question is preceded by a '**Question:**' header. Carefully read each question and provide your answer below the '**Answer:**' header by editing the Markdown cell.\n",
    "\n",
    "> **Note**: Code and Markdown cells can be executed using the **Shift+Enter** keyboard shortcut. In addition, a cell can be edited by typically clicking it (double-click for Markdown cells) or by pressing **Enter** while it is highlighted.\n",
    "\n",
    "## General Outline\n",
    "\n",
    "Recall the general outline for SageMaker projects using a notebook instance.\n",
    "\n",
    "1. Download or otherwise retrieve the data.\n",
    "2. Process / Prepare the data.\n",
    "3. Upload the processed data to S3.\n",
    "4. Train a chosen model.\n",
    "5. Test the trained model (typically using a batch transform job).\n",
    "6. Deploy the trained model.\n",
    "7. Use the deployed model.\n",
    "\n",
    "For this project, you will be following the steps in the general outline with some modifications. \n",
    "\n",
    "First, you will not be testing the model in its own step. You will still be testing the model, however, you will do it by deploying your model and then using the deployed model by sending the test data to it. One of the reasons for doing this is so that you can make sure that your deployed model is working correctly before moving forward.\n",
    "\n",
    "In addition, you will deploy and use your trained model a second time. In the second iteration you will customize the way that your trained model is deployed by including some of your own code. In addition, your newly deployed model will be used in the sentiment analysis web app."
   ]
  },
  {
   "cell_type": "markdown",
   "metadata": {},
   "source": [
    "## Step 1: Downloading the data\n",
    "\n",
    "As in the XGBoost in SageMaker notebook, we will be using the [IMDb dataset](http://ai.stanford.edu/~amaas/data/sentiment/)\n",
    "\n",
    "> Maas, Andrew L., et al. [Learning Word Vectors for Sentiment Analysis](http://ai.stanford.edu/~amaas/data/sentiment/). In _Proceedings of the 49th Annual Meeting of the Association for Computational Linguistics: Human Language Technologies_. Association for Computational Linguistics, 2011."
   ]
  },
  {
   "cell_type": "code",
   "execution_count": 1,
   "metadata": {},
   "outputs": [
    {
     "name": "stdout",
     "output_type": "stream",
     "text": [
      "mkdir: cannot create directory ‘../data’: File exists\n",
      "--2019-08-31 22:38:55--  http://ai.stanford.edu/~amaas/data/sentiment/aclImdb_v1.tar.gz\n",
      "Resolving ai.stanford.edu (ai.stanford.edu)... 171.64.68.10\n",
      "Connecting to ai.stanford.edu (ai.stanford.edu)|171.64.68.10|:80... connected.\n",
      "HTTP request sent, awaiting response... 200 OK\n",
      "Length: 84125825 (80M) [application/x-gzip]\n",
      "Saving to: ‘../data/aclImdb_v1.tar.gz’\n",
      "\n",
      "../data/aclImdb_v1. 100%[===================>]  80.23M  24.0MB/s    in 4.6s    \n",
      "\n",
      "2019-08-31 22:39:00 (17.5 MB/s) - ‘../data/aclImdb_v1.tar.gz’ saved [84125825/84125825]\n",
      "\n"
     ]
    }
   ],
   "source": [
    "%mkdir ../data\n",
    "!wget -O ../data/aclImdb_v1.tar.gz http://ai.stanford.edu/~amaas/data/sentiment/aclImdb_v1.tar.gz\n",
    "!tar -zxf ../data/aclImdb_v1.tar.gz -C ../data"
   ]
  },
  {
   "cell_type": "markdown",
   "metadata": {},
   "source": [
    "## Step 2: Preparing and Processing the data\n",
    "\n",
    "Also, as in the XGBoost notebook, we will be doing some initial data processing. The first few steps are the same as in the XGBoost example. To begin with, we will read in each of the reviews and combine them into a single input structure. Then, we will split the dataset into a training set and a testing set."
   ]
  },
  {
   "cell_type": "code",
   "execution_count": 1,
   "metadata": {},
   "outputs": [],
   "source": [
    "import os\n",
    "import glob\n",
    "\n",
    "def read_imdb_data(data_dir='../data/aclImdb'):\n",
    "    data = {}\n",
    "    labels = {}\n",
    "    \n",
    "    for data_type in ['train', 'test']:\n",
    "        data[data_type] = {}\n",
    "        labels[data_type] = {}\n",
    "        \n",
    "        for sentiment in ['pos', 'neg']:\n",
    "            data[data_type][sentiment] = []\n",
    "            labels[data_type][sentiment] = []\n",
    "            \n",
    "            path = os.path.join(data_dir, data_type, sentiment, '*.txt')\n",
    "            files = glob.glob(path)\n",
    "            \n",
    "            for f in files:\n",
    "                with open(f) as review:\n",
    "                    data[data_type][sentiment].append(review.read())\n",
    "                    # Here we represent a positive review by '1' and a negative review by '0'\n",
    "                    labels[data_type][sentiment].append(1 if sentiment == 'pos' else 0)\n",
    "                    \n",
    "            assert len(data[data_type][sentiment]) == len(labels[data_type][sentiment]), \\\n",
    "                    \"{}/{} data size does not match labels size\".format(data_type, sentiment)\n",
    "                \n",
    "    return data, labels"
   ]
  },
  {
   "cell_type": "code",
   "execution_count": 2,
   "metadata": {},
   "outputs": [
    {
     "name": "stdout",
     "output_type": "stream",
     "text": [
      "IMDB reviews: train = 12500 pos / 12500 neg, test = 12500 pos / 12500 neg\n"
     ]
    }
   ],
   "source": [
    "data, labels = read_imdb_data()\n",
    "print(\"IMDB reviews: train = {} pos / {} neg, test = {} pos / {} neg\".format(\n",
    "            len(data['train']['pos']), len(data['train']['neg']),\n",
    "            len(data['test']['pos']), len(data['test']['neg'])))"
   ]
  },
  {
   "cell_type": "markdown",
   "metadata": {},
   "source": [
    "Now that we've read the raw training and testing data from the downloaded dataset, we will combine the positive and negative reviews and shuffle the resulting records."
   ]
  },
  {
   "cell_type": "code",
   "execution_count": 3,
   "metadata": {},
   "outputs": [],
   "source": [
    "from sklearn.utils import shuffle\n",
    "\n",
    "def prepare_imdb_data(data, labels):\n",
    "    \"\"\"Prepare training and test sets from IMDb movie reviews.\"\"\"\n",
    "    \n",
    "    #Combine positive and negative reviews and labels\n",
    "    data_train = data['train']['pos'] + data['train']['neg']\n",
    "    data_test = data['test']['pos'] + data['test']['neg']\n",
    "    labels_train = labels['train']['pos'] + labels['train']['neg']\n",
    "    labels_test = labels['test']['pos'] + labels['test']['neg']\n",
    "    \n",
    "    #Shuffle reviews and corresponding labels within training and test sets\n",
    "    data_train, labels_train = shuffle(data_train, labels_train)\n",
    "    data_test, labels_test = shuffle(data_test, labels_test)\n",
    "    \n",
    "    # Return a unified training data, test data, training labels, test labets\n",
    "    return data_train, data_test, labels_train, labels_test"
   ]
  },
  {
   "cell_type": "code",
   "execution_count": 4,
   "metadata": {},
   "outputs": [
    {
     "name": "stdout",
     "output_type": "stream",
     "text": [
      "IMDb reviews (combined): train = 25000, test = 25000\n"
     ]
    }
   ],
   "source": [
    "train_X, test_X, train_y, test_y = prepare_imdb_data(data, labels)\n",
    "print(\"IMDb reviews (combined): train = {}, test = {}\".format(len(train_X), len(test_X)))"
   ]
  },
  {
   "cell_type": "markdown",
   "metadata": {},
   "source": [
    "Now that we have our training and testing sets unified and prepared, we should do a quick check and see an example of the data our model will be trained on. This is generally a good idea as it allows you to see how each of the further processing steps affects the reviews and it also ensures that the data has been loaded correctly."
   ]
  },
  {
   "cell_type": "code",
   "execution_count": 5,
   "metadata": {},
   "outputs": [
    {
     "name": "stdout",
     "output_type": "stream",
     "text": [
      "Other than the great cinematography by the marvelous James Wong Howe in the battle scenes, this film is a true stinker.<br /><br />This is the second film that I've seen in recent days directed by Alexander Korda. The first was Charles Laughton's \"Rembrandt.\" It was so lousy that I shut it off. This one I'm afraid is not very much better.<br /><br />Flora Robson is as ugly as ever as Queen Elizabeth. Perhaps, her performance as the virgin Queen was good for 1937 standards but when you compare it to that of a Helen Mirren, it is absolutely no match. In robotic fashion, Robson states her lines. Her battle message to the English troops is so lackluster in spirit.<br /><br />Even a dashing Laurence Olivier can't save this utter piece of boredom.<br /><br />Future wife Vivien Leigh is in a supporting role here and she doesn't really convey anything here. To think, that Scarlett was 2 years later!<br /><br />It's a shame that history with the Spanish Armada is made out to be so boring in this film.\n",
      "0\n"
     ]
    }
   ],
   "source": [
    "print(train_X[100])\n",
    "print(train_y[100])"
   ]
  },
  {
   "cell_type": "markdown",
   "metadata": {},
   "source": [
    "The first step in processing the reviews is to make sure that any html tags that appear should be removed. In addition we wish to tokenize our input, that way words such as *entertained* and *entertaining* are considered the same with regard to sentiment analysis."
   ]
  },
  {
   "cell_type": "code",
   "execution_count": 6,
   "metadata": {},
   "outputs": [],
   "source": [
    "import nltk\n",
    "from nltk.corpus import stopwords\n",
    "from nltk.stem.porter import *\n",
    "\n",
    "import re\n",
    "from bs4 import BeautifulSoup\n",
    "\n",
    "def review_to_words(review):\n",
    "    nltk.download(\"stopwords\", quiet=True)\n",
    "    stemmer = PorterStemmer()\n",
    "    \n",
    "    text = BeautifulSoup(review, \"html.parser\").get_text() # Remove HTML tags\n",
    "    text = re.sub(r\"[^a-zA-Z0-9]\", \" \", text.lower()) # Convert to lower case\n",
    "    words = text.split() # Split string into words\n",
    "    words = [w for w in words if w not in stopwords.words(\"english\")] # Remove stopwords\n",
    "    words = [PorterStemmer().stem(w) for w in words] # stem\n",
    "    \n",
    "    return words"
   ]
  },
  {
   "cell_type": "markdown",
   "metadata": {},
   "source": [
    "The `review_to_words` method defined above uses `BeautifulSoup` to remove any html tags that appear and uses the `nltk` package to tokenize the reviews. As a check to ensure we know how everything is working, try applying `review_to_words` to one of the reviews in the training set."
   ]
  },
  {
   "cell_type": "code",
   "execution_count": 7,
   "metadata": {},
   "outputs": [
    {
     "name": "stdout",
     "output_type": "stream",
     "text": [
      "['great', 'cinematographi', 'marvel', 'jame', 'wong', 'howe', 'battl', 'scene', 'film', 'true', 'stinker', 'second', 'film', 'seen', 'recent', 'day', 'direct', 'alexand', 'korda', 'first', 'charl', 'laughton', 'rembrandt', 'lousi', 'shut', 'one', 'afraid', 'much', 'better', 'flora', 'robson', 'ugli', 'ever', 'queen', 'elizabeth', 'perhap', 'perform', 'virgin', 'queen', 'good', '1937', 'standard', 'compar', 'helen', 'mirren', 'absolut', 'match', 'robot', 'fashion', 'robson', 'state', 'line', 'battl', 'messag', 'english', 'troop', 'lacklust', 'spirit', 'even', 'dash', 'laurenc', 'olivi', 'save', 'utter', 'piec', 'boredom', 'futur', 'wife', 'vivien', 'leigh', 'support', 'role', 'realli', 'convey', 'anyth', 'think', 'scarlett', '2', 'year', 'later', 'shame', 'histori', 'spanish', 'armada', 'made', 'bore', 'film']\n"
     ]
    }
   ],
   "source": [
    "# TODO: Apply review_to_words to a review (train_X[100] or any other review)\n",
    "print(review_to_words(train_X[100]))"
   ]
  },
  {
   "cell_type": "markdown",
   "metadata": {},
   "source": [
    "**Question:** Above we mentioned that `review_to_words` method removes html formatting and allows us to tokenize the words found in a review, for example, converting *entertained* and *entertaining* into *entertain* so that they are treated as though they are the same word. What else, if anything, does this method do to the input?"
   ]
  },
  {
   "cell_type": "markdown",
   "metadata": {},
   "source": [
    "**Answer:**\n",
    "1. Removed stopwords such as 'the','a','an','in'\n",
    "2. Convert to lower case\n",
    "3. Split string into words"
   ]
  },
  {
   "cell_type": "markdown",
   "metadata": {},
   "source": [
    "The method below applies the `review_to_words` method to each of the reviews in the training and testing datasets. In addition it caches the results. This is because performing this processing step can take a long time. This way if you are unable to complete the notebook in the current session, you can come back without needing to process the data a second time."
   ]
  },
  {
   "cell_type": "code",
   "execution_count": 8,
   "metadata": {},
   "outputs": [],
   "source": [
    "import pickle\n",
    "\n",
    "cache_dir = os.path.join(\"../cache\", \"sentiment_analysis\")  # where to store cache files\n",
    "os.makedirs(cache_dir, exist_ok=True)  # ensure cache directory exists\n",
    "\n",
    "def preprocess_data(data_train, data_test, labels_train, labels_test,\n",
    "                    cache_dir=cache_dir, cache_file=\"preprocessed_data.pkl\"):\n",
    "    \"\"\"Convert each review to words; read from cache if available.\"\"\"\n",
    "\n",
    "    # If cache_file is not None, try to read from it first\n",
    "    cache_data = None\n",
    "    if cache_file is not None:\n",
    "        try:\n",
    "            with open(os.path.join(cache_dir, cache_file), \"rb\") as f:\n",
    "                cache_data = pickle.load(f)\n",
    "            print(\"Read preprocessed data from cache file:\", cache_file)\n",
    "        except:\n",
    "            pass  # unable to read from cache, but that's okay\n",
    "    \n",
    "    # If cache is missing, then do the heavy lifting\n",
    "    if cache_data is None:\n",
    "        # Preprocess training and test data to obtain words for each review\n",
    "        #words_train = list(map(review_to_words, data_train))\n",
    "        #words_test = list(map(review_to_words, data_test))\n",
    "        words_train = [review_to_words(review) for review in data_train]\n",
    "        words_test = [review_to_words(review) for review in data_test]\n",
    "        \n",
    "        # Write to cache file for future runs\n",
    "        if cache_file is not None:\n",
    "            cache_data = dict(words_train=words_train, words_test=words_test,\n",
    "                              labels_train=labels_train, labels_test=labels_test)\n",
    "            with open(os.path.join(cache_dir, cache_file), \"wb\") as f:\n",
    "                pickle.dump(cache_data, f)\n",
    "            print(\"Wrote preprocessed data to cache file:\", cache_file)\n",
    "    else:\n",
    "        # Unpack data loaded from cache file\n",
    "        words_train, words_test, labels_train, labels_test = (cache_data['words_train'],\n",
    "                cache_data['words_test'], cache_data['labels_train'], cache_data['labels_test'])\n",
    "    \n",
    "    return words_train, words_test, labels_train, labels_test"
   ]
  },
  {
   "cell_type": "code",
   "execution_count": 9,
   "metadata": {},
   "outputs": [
    {
     "name": "stdout",
     "output_type": "stream",
     "text": [
      "Read preprocessed data from cache file: preprocessed_data.pkl\n"
     ]
    }
   ],
   "source": [
    "# Preprocess data\n",
    "train_X, test_X, train_y, test_y = preprocess_data(train_X, test_X, train_y, test_y)"
   ]
  },
  {
   "cell_type": "markdown",
   "metadata": {},
   "source": [
    "## Transform the data\n",
    "\n",
    "In the XGBoost notebook we transformed the data from its word representation to a bag-of-words feature representation. For the model we are going to construct in this notebook we will construct a feature representation which is very similar. To start, we will represent each word as an integer. Of course, some of the words that appear in the reviews occur very infrequently and so likely don't contain much information for the purposes of sentiment analysis. The way we will deal with this problem is that we will fix the size of our working vocabulary and we will only include the words that appear most frequently. We will then combine all of the infrequent words into a single category and, in our case, we will label it as `1`.\n",
    "\n",
    "Since we will be using a recurrent neural network, it will be convenient if the length of each review is the same. To do this, we will fix a size for our reviews and then pad short reviews with the category 'no word' (which we will label `0`) and truncate long reviews."
   ]
  },
  {
   "cell_type": "markdown",
   "metadata": {},
   "source": [
    "### (TODO) Create a word dictionary\n",
    "\n",
    "To begin with, we need to construct a way to map words that appear in the reviews to integers. Here we fix the size of our vocabulary (including the 'no word' and 'infrequent' categories) to be `5000` but you may wish to change this to see how it affects the model.\n",
    "\n",
    "> **TODO:** Complete the implementation for the `build_dict()` method below. Note that even though the vocab_size is set to `5000`, we only want to construct a mapping for the most frequently appearing `4998` words. This is because we want to reserve the special labels `0` for 'no word' and `1` for 'infrequent word'."
   ]
  },
  {
   "cell_type": "code",
   "execution_count": 10,
   "metadata": {},
   "outputs": [],
   "source": [
    "import numpy as np\n",
    "\n",
    "def build_dict(data, vocab_size = 5000):\n",
    "    \"\"\"Construct and return a dictionary mapping each of the most frequently appearing words to a unique integer.\"\"\"\n",
    "    \n",
    "    # TODO: Determine how often each word appears in `data`. Note that `data` is a list of sentences and that a\n",
    "    #       sentence is a list of words.\n",
    "    \n",
    "    word_count = {} # A dict storing the words that appear in the reviews along with how often they occur\n",
    "    from collections import Counter\n",
    "    flattened_list = [y for x in data for y in x]\n",
    "    word_count = dict(Counter(flattened_list))\n",
    "    # TODO: Sort the words found in `data` so that sorted_words[0] is the most frequently appearing word and\n",
    "    #       sorted_words[-1] is the least frequently appearing word.\n",
    "    \n",
    "    sorted_words = []\n",
    "    for key,value in sorted(word_count.items(),key = lambda x:x[1], reverse = True):\n",
    "        sorted_words.append(key)\n",
    "\n",
    "    word_dict = {} # This is what we are building, a dictionary that translates words into integers\n",
    "    for idx, word in enumerate(sorted_words[:vocab_size - 2]): # The -2 is so that we save room for the 'no word'\n",
    "        word_dict[word] = idx + 2                              # 'infrequent' labels\n",
    "        \n",
    "    return word_dict"
   ]
  },
  {
   "cell_type": "code",
   "execution_count": 11,
   "metadata": {},
   "outputs": [],
   "source": [
    "word_dict = build_dict(train_X)"
   ]
  },
  {
   "cell_type": "markdown",
   "metadata": {},
   "source": [
    "**Question:** What are the five most frequently appearing (tokenized) words in the training set? Does it makes sense that these words appear frequently in the training set?"
   ]
  },
  {
   "cell_type": "markdown",
   "metadata": {},
   "source": [
    "**Answer:**\n",
    "- 'movi': 2, 'film': 3, 'one': 4, 'like': 5, 'time': 6\n",
    "- Yes, these words do make sense, since these are movie review. "
   ]
  },
  {
   "cell_type": "code",
   "execution_count": 12,
   "metadata": {},
   "outputs": [
    {
     "name": "stdout",
     "output_type": "stream",
     "text": [
      "{'movi': 2, 'film': 3, 'one': 4, 'like': 5, 'time': 6, 'good': 7, 'make': 8, 'charact': 9, 'get': 10, 'see': 11, 'watch': 12, 'stori': 13, 'even': 14, 'would': 15, 'realli': 16, 'well': 17, 'scene': 18, 'look': 19, 'show': 20, 'much': 21, 'end': 22, 'peopl': 23, 'bad': 24, 'go': 25, 'great': 26, 'also': 27, 'first': 28, 'love': 29, 'think': 30, 'way': 31, 'act': 32, 'play': 33, 'made': 34, 'thing': 35, 'could': 36, 'know': 37, 'say': 38, 'seem': 39, 'work': 40, 'plot': 41, 'two': 42, 'actor': 43, 'year': 44, 'come': 45, 'mani': 46, 'seen': 47, 'take': 48, 'life': 49, 'want': 50, 'never': 51, 'littl': 52, 'best': 53, 'tri': 54, 'man': 55, 'ever': 56, 'give': 57, 'better': 58, 'still': 59, 'perform': 60, 'find': 61, 'feel': 62, 'part': 63, 'back': 64, 'use': 65, 'someth': 66, 'director': 67, 'actual': 68, 'interest': 69, 'lot': 70, 'real': 71, 'old': 72, 'cast': 73, 'though': 74, 'live': 75, 'star': 76, 'enjoy': 77, 'guy': 78, 'anoth': 79, 'new': 80, 'role': 81, 'noth': 82, '10': 83, 'funni': 84, 'music': 85, 'point': 86, 'start': 87, 'set': 88, 'girl': 89, 'origin': 90, 'day': 91, 'world': 92, 'everi': 93, 'believ': 94, 'turn': 95, 'quit': 96, 'direct': 97, 'us': 98, 'thought': 99, 'fact': 100, 'minut': 101, 'horror': 102, 'kill': 103, 'action': 104, 'comedi': 105, 'pretti': 106, 'young': 107, 'wonder': 108, 'happen': 109, 'around': 110, 'got': 111, 'effect': 112, 'right': 113, 'long': 114, 'howev': 115, 'big': 116, 'line': 117, 'famili': 118, 'enough': 119, 'seri': 120, 'may': 121, 'need': 122, 'fan': 123, 'bit': 124, 'script': 125, 'beauti': 126, 'person': 127, 'becom': 128, 'without': 129, 'must': 130, 'alway': 131, 'friend': 132, 'tell': 133, 'reason': 134, 'saw': 135, 'last': 136, 'final': 137, 'kid': 138, 'almost': 139, 'put': 140, 'least': 141, 'sure': 142, 'done': 143, 'whole': 144, 'place': 145, 'complet': 146, 'kind': 147, 'differ': 148, 'expect': 149, 'shot': 150, 'far': 151, 'mean': 152, 'anyth': 153, 'book': 154, 'laugh': 155, 'might': 156, 'name': 157, 'sinc': 158, 'begin': 159, '2': 160, 'probabl': 161, 'woman': 162, 'help': 163, 'entertain': 164, 'let': 165, 'screen': 166, 'call': 167, 'tv': 168, 'moment': 169, 'away': 170, 'read': 171, 'yet': 172, 'rather': 173, 'worst': 174, 'run': 175, 'fun': 176, 'lead': 177, 'hard': 178, 'audienc': 179, 'idea': 180, 'anyon': 181, 'episod': 182, 'american': 183, 'found': 184, 'appear': 185, 'bore': 186, 'especi': 187, 'although': 188, 'hope': 189, 'cours': 190, 'keep': 191, 'anim': 192, 'job': 193, 'goe': 194, 'move': 195, 'sens': 196, 'dvd': 197, 'version': 198, 'war': 199, 'money': 200, 'someon': 201, 'mind': 202, 'mayb': 203, 'problem': 204, 'true': 205, 'hous': 206, 'everyth': 207, 'nice': 208, 'second': 209, 'rate': 210, 'three': 211, 'night': 212, 'follow': 213, 'face': 214, 'recommend': 215, 'main': 216, 'product': 217, 'worth': 218, 'leav': 219, 'human': 220, 'special': 221, 'excel': 222, 'togeth': 223, 'wast': 224, 'sound': 225, 'everyon': 226, 'john': 227, 'hand': 228, '1': 229, 'father': 230, 'later': 231, 'eye': 232, 'said': 233, 'view': 234, 'instead': 235, 'review': 236, 'boy': 237, 'high': 238, 'hour': 239, 'miss': 240, 'classic': 241, 'talk': 242, 'wife': 243, 'understand': 244, 'left': 245, 'care': 246, 'black': 247, 'death': 248, 'open': 249, 'murder': 250, 'write': 251, 'half': 252, 'head': 253, 'rememb': 254, 'chang': 255, 'viewer': 256, 'fight': 257, 'gener': 258, 'surpris': 259, 'short': 260, 'includ': 261, 'die': 262, 'fall': 263, 'less': 264, 'els': 265, 'entir': 266, 'piec': 267, 'involv': 268, 'pictur': 269, 'simpli': 270, 'home': 271, 'power': 272, 'top': 273, 'total': 274, 'usual': 275, 'budget': 276, 'attempt': 277, 'suppos': 278, 'releas': 279, 'hollywood': 280, 'terribl': 281, 'song': 282, 'men': 283, 'possibl': 284, 'featur': 285, 'portray': 286, 'disappoint': 287, 'poor': 288, '3': 289, 'coupl': 290, 'stupid': 291, 'camera': 292, 'dead': 293, 'wrong': 294, 'low': 295, 'produc': 296, 'either': 297, 'video': 298, 'aw': 299, 'definit': 300, 'except': 301, 'rest': 302, 'given': 303, 'absolut': 304, 'women': 305, 'lack': 306, 'word': 307, 'writer': 308, 'titl': 309, 'talent': 310, 'decid': 311, 'full': 312, 'perfect': 313, 'along': 314, 'style': 315, 'close': 316, 'truli': 317, 'school': 318, 'emot': 319, 'save': 320, 'age': 321, 'sex': 322, 'next': 323, 'bring': 324, 'mr': 325, 'case': 326, 'killer': 327, 'heart': 328, 'comment': 329, 'sort': 330, 'creat': 331, 'perhap': 332, 'came': 333, 'brother': 334, 'sever': 335, 'joke': 336, 'art': 337, 'dialogu': 338, 'game': 339, 'small': 340, 'base': 341, 'flick': 342, 'written': 343, 'sequenc': 344, 'meet': 345, 'earli': 346, 'often': 347, 'other': 348, 'mother': 349, 'develop': 350, 'humor': 351, 'actress': 352, 'consid': 353, 'dark': 354, 'guess': 355, 'amaz': 356, 'unfortun': 357, 'light': 358, 'lost': 359, 'exampl': 360, 'cinema': 361, 'drama': 362, 'ye': 363, 'white': 364, 'experi': 365, 'imagin': 366, 'mention': 367, 'stop': 368, 'natur': 369, 'forc': 370, 'manag': 371, 'felt': 372, 'cut': 373, 'present': 374, 'children': 375, 'fail': 376, 'son': 377, 'qualiti': 378, 'car': 379, 'support': 380, 'ask': 381, 'hit': 382, 'side': 383, 'voic': 384, 'extrem': 385, 'impress': 386, 'evil': 387, 'wors': 388, 'stand': 389, 'went': 390, 'certainli': 391, 'basic': 392, 'oh': 393, 'overal': 394, 'favorit': 395, 'horribl': 396, 'mysteri': 397, 'number': 398, 'type': 399, 'danc': 400, 'wait': 401, 'hero': 402, '5': 403, 'alreadi': 404, 'learn': 405, 'matter': 406, '4': 407, 'michael': 408, 'genr': 409, 'fine': 410, 'despit': 411, 'throughout': 412, 'walk': 413, 'success': 414, 'histori': 415, 'question': 416, 'zombi': 417, 'town': 418, 'relationship': 419, 'realiz': 420, 'past': 421, 'child': 422, 'daughter': 423, 'late': 424, 'b': 425, 'wish': 426, 'credit': 427, 'hate': 428, 'event': 429, 'theme': 430, 'touch': 431, 'citi': 432, 'today': 433, 'sometim': 434, 'behind': 435, 'god': 436, 'twist': 437, 'sit': 438, 'annoy': 439, 'stay': 440, 'deal': 441, 'abl': 442, 'rent': 443, 'pleas': 444, 'edit': 445, 'blood': 446, 'deserv': 447, 'anyway': 448, 'comic': 449, 'appar': 450, 'soon': 451, 'gave': 452, 'etc': 453, 'level': 454, 'slow': 455, 'chanc': 456, 'score': 457, 'bodi': 458, 'brilliant': 459, 'incred': 460, 'figur': 461, 'situat': 462, 'major': 463, 'self': 464, 'stuff': 465, 'decent': 466, 'element': 467, 'dream': 468, 'return': 469, 'obvious': 470, 'order': 471, 'continu': 472, 'pace': 473, 'ridicul': 474, 'happi': 475, 'group': 476, 'add': 477, 'highli': 478, 'thank': 479, 'ladi': 480, 'novel': 481, 'speak': 482, 'pain': 483, 'career': 484, 'shoot': 485, 'strang': 486, 'heard': 487, 'sad': 488, 'polic': 489, 'husband': 490, 'import': 491, 'break': 492, 'took': 493, 'cannot': 494, 'strong': 495, 'predict': 496, 'robert': 497, 'violenc': 498, 'hilari': 499, 'recent': 500, 'countri': 501, 'known': 502, 'particularli': 503, 'pick': 504, 'documentari': 505, 'season': 506, 'critic': 507, 'jame': 508, 'compar': 509, 'alon': 510, 'obviou': 511, 'told': 512, 'state': 513, 'visual': 514, 'rock': 515, 'offer': 516, 'theater': 517, 'exist': 518, 'opinion': 519, 'gore': 520, 'crap': 521, 'hold': 522, 'result': 523, 'hear': 524, 'room': 525, 'realiti': 526, 'effort': 527, 'clich': 528, 'thriller': 529, 'caus': 530, 'explain': 531, 'sequel': 532, 'serious': 533, 'king': 534, 'local': 535, 'ago': 536, 'none': 537, 'hell': 538, 'note': 539, 'allow': 540, 'sister': 541, 'david': 542, 'simpl': 543, 'femal': 544, 'deliv': 545, 'ok': 546, 'class': 547, 'convinc': 548, 'check': 549, 'suspens': 550, 'win': 551, 'buy': 552, 'oscar': 553, 'huge': 554, 'valu': 555, 'sexual': 556, 'cool': 557, 'scari': 558, 'excit': 559, 'similar': 560, 'apart': 561, 'exactli': 562, 'provid': 563, 'avoid': 564, 'shown': 565, 'seriou': 566, 'english': 567, 'taken': 568, 'whose': 569, 'cinematographi': 570, 'shock': 571, 'polit': 572, 'spoiler': 573, 'offic': 574, 'across': 575, 'middl': 576, 'street': 577, 'pass': 578, 'messag': 579, 'charm': 580, 'somewhat': 581, 'silli': 582, 'modern': 583, 'confus': 584, 'filmmak': 585, 'form': 586, 'tale': 587, 'singl': 588, 'jack': 589, 'mostli': 590, 'carri': 591, 'william': 592, 'attent': 593, 'sing': 594, 'subject': 595, 'five': 596, 'richard': 597, 'prove': 598, 'stage': 599, 'team': 600, 'unlik': 601, 'cop': 602, 'georg': 603, 'monster': 604, 'televis': 605, 'earth': 606, 'villain': 607, 'cover': 608, 'pay': 609, 'marri': 610, 'toward': 611, 'build': 612, 'parent': 613, 'pull': 614, 'due': 615, 'respect': 616, 'fill': 617, 'four': 618, 'dialog': 619, 'remind': 620, 'futur': 621, 'typic': 622, 'weak': 623, '7': 624, 'cheap': 625, 'intellig': 626, 'atmospher': 627, 'british': 628, '80': 629, 'clearli': 630, 'non': 631, 'paul': 632, 'dog': 633, 'fast': 634, '8': 635, 'knew': 636, 'artist': 637, 'crime': 638, 'easili': 639, 'escap': 640, 'doubt': 641, 'adult': 642, 'detail': 643, 'date': 644, 'romant': 645, 'member': 646, 'fire': 647, 'drive': 648, 'gun': 649, 'straight': 650, 'beyond': 651, 'fit': 652, 'attack': 653, 'imag': 654, 'upon': 655, 'posit': 656, 'whether': 657, 'fantast': 658, 'peter': 659, 'appreci': 660, 'captur': 661, 'aspect': 662, 'ten': 663, 'plan': 664, 'discov': 665, 'remain': 666, 'near': 667, 'period': 668, 'realist': 669, 'air': 670, 'mark': 671, 'red': 672, 'dull': 673, 'adapt': 674, 'within': 675, 'lose': 676, 'spend': 677, 'color': 678, 'materi': 679, 'chase': 680, 'mari': 681, 'storylin': 682, 'forget': 683, 'bunch': 684, 'clear': 685, 'lee': 686, 'victim': 687, 'nearli': 688, 'box': 689, 'york': 690, 'match': 691, 'inspir': 692, 'mess': 693, 'finish': 694, 'standard': 695, 'easi': 696, 'truth': 697, 'busi': 698, 'suffer': 699, 'space': 700, 'bill': 701, 'dramat': 702, 'western': 703, 'e': 704, 'list': 705, 'battl': 706, 'notic': 707, 'de': 708, 'french': 709, 'ad': 710, '9': 711, 'tom': 712, 'larg': 713, 'among': 714, 'eventu': 715, 'train': 716, 'accept': 717, 'agre': 718, 'spirit': 719, 'soundtrack': 720, 'third': 721, 'teenag': 722, 'adventur': 723, 'soldier': 724, 'sorri': 725, 'drug': 726, 'famou': 727, 'suggest': 728, 'cri': 729, 'normal': 730, 'babi': 731, 'troubl': 732, 'ultim': 733, 'contain': 734, 'certain': 735, 'cultur': 736, 'romanc': 737, 'rare': 738, 'lame': 739, 'somehow': 740, 'disney': 741, 'mix': 742, 'gone': 743, 'cartoon': 744, 'student': 745, 'reveal': 746, 'fear': 747, 'suck': 748, 'kept': 749, 'attract': 750, 'appeal': 751, 'premis': 752, 'secret': 753, 'design': 754, 'greatest': 755, 'shame': 756, 'throw': 757, 'scare': 758, 'copi': 759, 'wit': 760, 'america': 761, 'admit': 762, 'brought': 763, 'particular': 764, 'relat': 765, 'screenplay': 766, 'whatev': 767, 'pure': 768, '70': 769, 'averag': 770, 'harri': 771, 'master': 772, 'describ': 773, 'treat': 774, 'male': 775, '20': 776, 'fantasi': 777, 'issu': 778, 'warn': 779, 'inde': 780, 'forward': 781, 'background': 782, 'free': 783, 'project': 784, 'memor': 785, 'japanes': 786, 'poorli': 787, 'award': 788, 'locat': 789, 'potenti': 790, 'amus': 791, 'struggl': 792, 'weird': 793, 'magic': 794, 'societi': 795, 'okay': 796, 'accent': 797, 'imdb': 798, 'doctor': 799, 'hot': 800, 'water': 801, 'dr': 802, 'alien': 803, '30': 804, 'express': 805, 'odd': 806, 'choic': 807, 'crazi': 808, 'fiction': 809, 'studio': 810, 'control': 811, 'becam': 812, 'masterpiec': 813, 'fli': 814, 'difficult': 815, 'joe': 816, 'scream': 817, 'costum': 818, 'lover': 819, 'uniqu': 820, 'refer': 821, 'remak': 822, 'girlfriend': 823, 'vampir': 824, 'prison': 825, 'execut': 826, 'wear': 827, 'jump': 828, 'wood': 829, 'unless': 830, 'creepi': 831, 'cheesi': 832, 'superb': 833, 'otherwis': 834, 'parti': 835, 'roll': 836, 'ghost': 837, 'mad': 838, 'public': 839, 'depict': 840, 'earlier': 841, 'badli': 842, 'jane': 843, 'week': 844, 'moral': 845, 'fi': 846, 'dumb': 847, 'flaw': 848, 'grow': 849, 'deep': 850, 'sci': 851, 'maker': 852, 'cat': 853, 'connect': 854, 'older': 855, 'footag': 856, 'plenti': 857, 'bother': 858, 'outsid': 859, 'stick': 860, 'gay': 861, 'catch': 862, 'co': 863, 'plu': 864, 'popular': 865, 'equal': 866, 'social': 867, 'disturb': 868, 'quickli': 869, 'perfectli': 870, 'dress': 871, '90': 872, 'era': 873, 'mistak': 874, 'lie': 875, 'previou': 876, 'ride': 877, 'combin': 878, 'concept': 879, 'band': 880, 'surviv': 881, 'rich': 882, 'answer': 883, 'front': 884, 'sweet': 885, 'christma': 886, 'insid': 887, 'bare': 888, 'concern': 889, 'eat': 890, 'beat': 891, 'listen': 892, 'ben': 893, 'c': 894, 'term': 895, 'serv': 896, 'la': 897, 'german': 898, 'meant': 899, 'stereotyp': 900, 'hardli': 901, 'innoc': 902, 'law': 903, 'desper': 904, 'memori': 905, 'promis': 906, 'intent': 907, 'cute': 908, 'steal': 909, 'inform': 910, 'variou': 911, 'brain': 912, 'post': 913, 'tone': 914, 'island': 915, 'amount': 916, 'nuditi': 917, 'track': 918, 'compani': 919, 'claim': 920, 'store': 921, '50': 922, 'flat': 923, 'hair': 924, 'land': 925, 'univers': 926, 'kick': 927, 'danger': 928, 'fairli': 929, 'scott': 930, 'player': 931, 'step': 932, 'plain': 933, 'crew': 934, 'toni': 935, 'share': 936, 'centuri': 937, 'tast': 938, 'engag': 939, 'achiev': 940, 'cold': 941, 'travel': 942, 'suit': 943, 'record': 944, 'rip': 945, 'sadli': 946, 'manner': 947, 'wrote': 948, 'spot': 949, 'tension': 950, 'intens': 951, 'fascin': 952, 'familiar': 953, 'depth': 954, 'remark': 955, 'burn': 956, 'destroy': 957, 'histor': 958, 'sleep': 959, 'purpos': 960, 'languag': 961, 'ignor': 962, 'ruin': 963, 'delight': 964, 'italian': 965, 'unbeliev': 966, 'abil': 967, 'collect': 968, 'soul': 969, 'clever': 970, 'detect': 971, 'violent': 972, 'rape': 973, 'reach': 974, 'door': 975, 'liter': 976, 'scienc': 977, 'trash': 978, 'reveng': 979, 'commun': 980, 'caught': 981, 'creatur': 982, 'approach': 983, 'trip': 984, 'fashion': 985, 'intrigu': 986, 'paint': 987, 'introduc': 988, 'skill': 989, 'channel': 990, 'complex': 991, 'camp': 992, 'christian': 993, 'hole': 994, 'extra': 995, 'limit': 996, 'mental': 997, 'immedi': 998, 'ann': 999, 'million': 1000, 'comput': 1001, 'slightli': 1002, 'mere': 1003, '6': 1004, 'conclus': 1005, 'slasher': 1006, 'suddenli': 1007, 'imposs': 1008, 'crimin': 1009, 'teen': 1010, 'neither': 1011, 'nation': 1012, 'physic': 1013, 'spent': 1014, 'respons': 1015, 'planet': 1016, 'receiv': 1017, 'fake': 1018, 'sick': 1019, 'blue': 1020, 'bizarr': 1021, 'embarrass': 1022, 'indian': 1023, '15': 1024, 'ring': 1025, 'drop': 1026, 'pop': 1027, 'drag': 1028, 'haunt': 1029, 'suspect': 1030, 'pointless': 1031, 'search': 1032, 'edg': 1033, 'handl': 1034, 'common': 1035, 'biggest': 1036, 'hurt': 1037, 'faith': 1038, 'arriv': 1039, 'technic': 1040, 'angel': 1041, 'dad': 1042, 'genuin': 1043, 'f': 1044, 'awesom': 1045, 'solid': 1046, 'former': 1047, 'colleg': 1048, 'van': 1049, 'focu': 1050, 'count': 1051, 'tear': 1052, 'heavi': 1053, 'rais': 1054, 'wall': 1055, 'younger': 1056, 'visit': 1057, 'laughabl': 1058, 'fair': 1059, 'excus': 1060, 'sign': 1061, 'cult': 1062, 'motion': 1063, 'key': 1064, 'tough': 1065, 'desir': 1066, 'super': 1067, 'stun': 1068, 'addit': 1069, 'exploit': 1070, 'cloth': 1071, 'tortur': 1072, 'smith': 1073, 'race': 1074, 'davi': 1075, 'author': 1076, 'cross': 1077, 'jim': 1078, 'focus': 1079, 'minor': 1080, 'consist': 1081, 'compel': 1082, 'pathet': 1083, 'chemistri': 1084, 'commit': 1085, 'park': 1086, 'frank': 1087, 'tradit': 1088, 'obsess': 1089, 'grade': 1090, '60': 1091, 'asid': 1092, 'brutal': 1093, 'somewher': 1094, 'steve': 1095, 'explor': 1096, 'rule': 1097, 'grant': 1098, 'depress': 1099, 'u': 1100, 'opportun': 1101, 'besid': 1102, 'honest': 1103, 'dub': 1104, 'anti': 1105, 'intend': 1106, 'trailer': 1107, 'bar': 1108, 'regard': 1109, 'scientist': 1110, 'longer': 1111, 'west': 1112, 'judg': 1113, 'decad': 1114, 'silent': 1115, 'creativ': 1116, 'armi': 1117, 'wild': 1118, 'stewart': 1119, 'south': 1120, 'g': 1121, 'draw': 1122, 'road': 1123, 'govern': 1124, 'boss': 1125, 'ex': 1126, 'practic': 1127, 'surprisingli': 1128, 'motiv': 1129, 'club': 1130, 'festiv': 1131, 'gang': 1132, 'london': 1133, 'green': 1134, 'redeem': 1135, 'page': 1136, 'display': 1137, 'machin': 1138, 'aliv': 1139, 'idiot': 1140, 'militari': 1141, 'thrill': 1142, 'repeat': 1143, '100': 1144, 'folk': 1145, 'nobodi': 1146, 'yeah': 1147, '40': 1148, 'garbag': 1149, 'journey': 1150, 'ground': 1151, 'tire': 1152, 'smile': 1153, 'mood': 1154, 'bought': 1155, 'sam': 1156, 'cost': 1157, 'stone': 1158, 'mouth': 1159, 'noir': 1160, 'terrif': 1161, 'agent': 1162, 'requir': 1163, 'utterli': 1164, 'sexi': 1165, 'honestli': 1166, 'area': 1167, 'geniu': 1168, 'report': 1169, 'investig': 1170, 'enter': 1171, 'glad': 1172, 'humour': 1173, 'serial': 1174, 'narr': 1175, 'occasion': 1176, 'passion': 1177, 'marriag': 1178, 'climax': 1179, 'studi': 1180, 'industri': 1181, 'nowher': 1182, 'demon': 1183, 'center': 1184, 'ship': 1185, 'charli': 1186, 'hors': 1187, 'bear': 1188, 'loos': 1189, 'hang': 1190, 'wow': 1191, 'graphic': 1192, 'giant': 1193, 'admir': 1194, 'send': 1195, 'loud': 1196, 'damn': 1197, 'rel': 1198, 'subtl': 1199, 'nake': 1200, 'profession': 1201, 'blow': 1202, 'bottom': 1203, 'insult': 1204, 'batman': 1205, 'r': 1206, 'doubl': 1207, 'boyfriend': 1208, 'kelli': 1209, 'initi': 1210, 'frame': 1211, 'gem': 1212, 'opera': 1213, 'drawn': 1214, 'challeng': 1215, 'church': 1216, 'affect': 1217, 'cinemat': 1218, 'evid': 1219, 'fulli': 1220, 'l': 1221, 'nightmar': 1222, 'j': 1223, 'seek': 1224, 'conflict': 1225, 'arm': 1226, 'essenti': 1227, 'henri': 1228, 'christoph': 1229, 'wind': 1230, 'grace': 1231, 'assum': 1232, 'witch': 1233, 'narrat': 1234, 'hunt': 1235, 'push': 1236, 'chri': 1237, 'wise': 1238, 'month': 1239, 'repres': 1240, 'nomin': 1241, 'avail': 1242, 'sceneri': 1243, 'affair': 1244, 'hide': 1245, 'justic': 1246, 'bond': 1247, 'thu': 1248, 'smart': 1249, 'outstand': 1250, 'flashback': 1251, 'interview': 1252, 'constantli': 1253, 'satisfi': 1254, 'presenc': 1255, 'central': 1256, 'bed': 1257, 'sell': 1258, 'iron': 1259, 'content': 1260, 'everybodi': 1261, 'gag': 1262, 'slowli': 1263, 'hotel': 1264, 'hire': 1265, 'system': 1266, 'adam': 1267, 'hey': 1268, 'thrown': 1269, 'charl': 1270, 'individu': 1271, 'jone': 1272, 'allen': 1273, 'mediocr': 1274, 'ray': 1275, 'billi': 1276, 'lesson': 1277, 'cameo': 1278, 'photographi': 1279, 'pari': 1280, 'fellow': 1281, 'strike': 1282, 'absurd': 1283, 'rise': 1284, 'independ': 1285, 'brief': 1286, 'neg': 1287, 'impact': 1288, 'phone': 1289, 'born': 1290, 'ill': 1291, 'model': 1292, 'fresh': 1293, 'spoil': 1294, 'angl': 1295, 'likabl': 1296, 'abus': 1297, 'discuss': 1298, 'hill': 1299, 'ahead': 1300, 'sight': 1301, 'photograph': 1302, 'sent': 1303, 'shine': 1304, 'logic': 1305, 'occur': 1306, 'blame': 1307, 'mainli': 1308, 'bruce': 1309, 'commerci': 1310, 'skip': 1311, 'forev': 1312, 'segment': 1313, 'surround': 1314, 'teacher': 1315, 'held': 1316, 'blond': 1317, 'zero': 1318, 'trap': 1319, 'resembl': 1320, 'satir': 1321, 'summer': 1322, 'ball': 1323, 'queen': 1324, 'six': 1325, 'fool': 1326, 'tragedi': 1327, 'twice': 1328, 'sub': 1329, 'reaction': 1330, 'pack': 1331, 'bomb': 1332, 'hospit': 1333, 'will': 1334, 'protagonist': 1335, 'sport': 1336, 'mile': 1337, 'drink': 1338, 'trust': 1339, 'mom': 1340, 'vote': 1341, 'jerri': 1342, 'encount': 1343, 'plane': 1344, 'al': 1345, 'station': 1346, 'program': 1347, 'current': 1348, 'celebr': 1349, 'martin': 1350, 'choos': 1351, 'join': 1352, 'lord': 1353, 'tragic': 1354, 'favourit': 1355, 'round': 1356, 'field': 1357, 'jean': 1358, 'vision': 1359, 'robot': 1360, 'tie': 1361, 'arthur': 1362, 'roger': 1363, 'fortun': 1364, 'random': 1365, 'intern': 1366, 'psycholog': 1367, 'dread': 1368, 'nonsens': 1369, 'epic': 1370, 'prefer': 1371, 'improv': 1372, 'pleasur': 1373, 'formula': 1374, 'highlight': 1375, 'legend': 1376, 'dollar': 1377, 'tape': 1378, '11': 1379, 'wide': 1380, 'object': 1381, 'gorgeou': 1382, 'porn': 1383, 'thin': 1384, 'fox': 1385, 'ugli': 1386, 'influenc': 1387, 'buddi': 1388, 'prepar': 1389, 'nasti': 1390, 'ii': 1391, 'reflect': 1392, 'warm': 1393, 'supposedli': 1394, 'progress': 1395, 'youth': 1396, 'worthi': 1397, 'latter': 1398, 'unusu': 1399, 'length': 1400, 'crash': 1401, 'superior': 1402, 'childhood': 1403, 'seven': 1404, 'shop': 1405, 'theatr': 1406, 'remot': 1407, 'funniest': 1408, 'disgust': 1409, 'pilot': 1410, 'paid': 1411, 'trick': 1412, 'castl': 1413, 'fell': 1414, 'convers': 1415, 'gangster': 1416, 'establish': 1417, 'rob': 1418, 'disast': 1419, 'mine': 1420, 'heaven': 1421, 'disappear': 1422, 'ident': 1423, 'suicid': 1424, 'tend': 1425, 'singer': 1426, 'forgotten': 1427, 'mask': 1428, 'heroin': 1429, 'decis': 1430, 'brian': 1431, 'partner': 1432, 'desert': 1433, 'recogn': 1434, 'alan': 1435, 'sky': 1436, 'thoroughli': 1437, 'stuck': 1438, 'ms': 1439, 'p': 1440, 'replac': 1441, 'accur': 1442, 'market': 1443, 'uncl': 1444, 'clue': 1445, 'andi': 1446, 'danni': 1447, 'commentari': 1448, 'eddi': 1449, 'seemingli': 1450, 'devil': 1451, 'jackson': 1452, 'pair': 1453, 'refus': 1454, 'that': 1455, 'therefor': 1456, 'fault': 1457, 'ed': 1458, 'fate': 1459, 'accid': 1460, 'unit': 1461, 'river': 1462, 'tune': 1463, 'afraid': 1464, 'hidden': 1465, 'stephen': 1466, 'clean': 1467, 'russian': 1468, 'convey': 1469, 'irrit': 1470, 'captain': 1471, 'instanc': 1472, 'readi': 1473, 'quick': 1474, 'test': 1475, 'european': 1476, 'insan': 1477, 'daniel': 1478, 'frustrat': 1479, 'wed': 1480, '1950': 1481, 'food': 1482, 'rescu': 1483, 'chines': 1484, 'lock': 1485, 'dirti': 1486, 'angri': 1487, 'joy': 1488, 'price': 1489, 'steven': 1490, 'cage': 1491, 'bland': 1492, 'rang': 1493, 'anymor': 1494, 'wooden': 1495, 'rush': 1496, 'news': 1497, 'jason': 1498, 'n': 1499, 'worri': 1500, '12': 1501, 'led': 1502, 'board': 1503, 'twenti': 1504, 'martial': 1505, 'symbol': 1506, 'hunter': 1507, 'transform': 1508, 'cgi': 1509, 'sentiment': 1510, 'invent': 1511, 'x': 1512, 'onto': 1513, 'johnni': 1514, 'piti': 1515, 'explan': 1516, 'attitud': 1517, 'process': 1518, 'awar': 1519, 'owner': 1520, 'aim': 1521, 'floor': 1522, 'favor': 1523, 'necessari': 1524, 'target': 1525, 'energi': 1526, 'opposit': 1527, 'religi': 1528, 'chick': 1529, 'window': 1530, 'insight': 1531, 'blind': 1532, 'movement': 1533, 'deepli': 1534, 'comparison': 1535, 'possess': 1536, 'research': 1537, 'mountain': 1538, 'whatsoev': 1539, 'rain': 1540, 'grand': 1541, 'comed': 1542, 'shadow': 1543, 'bank': 1544, 'began': 1545, 'mid': 1546, 'parodi': 1547, 'princ': 1548, 'taylor': 1549, 'friendship': 1550, 'pre': 1551, 'weapon': 1552, 'credibl': 1553, 'teach': 1554, 'flesh': 1555, 'dougla': 1556, 'protect': 1557, 'hint': 1558, 'terror': 1559, 'bloodi': 1560, 'marvel': 1561, 'load': 1562, 'accord': 1563, 'leader': 1564, 'drunk': 1565, 'anybodi': 1566, 'superman': 1567, 'watchabl': 1568, 'brown': 1569, 'freddi': 1570, 'appropri': 1571, 'jeff': 1572, 'seat': 1573, 'tim': 1574, 'hitler': 1575, 'unknown': 1576, 'villag': 1577, 'charg': 1578, 'knock': 1579, 'keaton': 1580, 'england': 1581, 'unnecessari': 1582, 'media': 1583, 'enemi': 1584, 'empti': 1585, 'utter': 1586, 'perspect': 1587, 'wave': 1588, 'buck': 1589, 'strength': 1590, 'craft': 1591, 'dare': 1592, 'nativ': 1593, 'kiss': 1594, 'contrast': 1595, 'correct': 1596, 'ford': 1597, 'magnific': 1598, 'chill': 1599, 'anywher': 1600, 'speed': 1601, 'distract': 1602, 'soap': 1603, 'nazi': 1604, 'knowledg': 1605, 'mission': 1606, 'fred': 1607, '1980': 1608, 'breath': 1609, 'ice': 1610, 'moon': 1611, 'jr': 1612, 'crowd': 1613, 'joan': 1614, 'soft': 1615, 'frighten': 1616, 'kate': 1617, '000': 1618, 'dan': 1619, 'dick': 1620, 'hundr': 1621, 'nick': 1622, 'dozen': 1623, 'simon': 1624, 'radio': 1625, 'somebodi': 1626, 'loss': 1627, 'academi': 1628, 'andrew': 1629, 'shakespear': 1630, 'thousand': 1631, 'sum': 1632, 'root': 1633, 'quot': 1634, 'account': 1635, 'vehicl': 1636, 'leg': 1637, 'convent': 1638, '1970': 1639, 'behavior': 1640, 'gold': 1641, 'regular': 1642, 'compet': 1643, 'demand': 1644, 'worker': 1645, 'pretenti': 1646, 'candi': 1647, 'japan': 1648, 'notabl': 1649, 'stretch': 1650, 'privat': 1651, 'interpret': 1652, 'lynch': 1653, 'explos': 1654, 'tarzan': 1655, 'constant': 1656, 'debut': 1657, 'translat': 1658, 'revolv': 1659, 'prais': 1660, 'sea': 1661, 'spi': 1662, 'technolog': 1663, 'quiet': 1664, 'franc': 1665, 'ass': 1666, 'sat': 1667, 'failur': 1668, 'threaten': 1669, 'jesu': 1670, 'met': 1671, 'punch': 1672, 'toy': 1673, 'kevin': 1674, 'aid': 1675, 'higher': 1676, 'mike': 1677, 'abandon': 1678, 'interact': 1679, 'vh': 1680, 'bet': 1681, 'separ': 1682, 'confront': 1683, 'command': 1684, 'servic': 1685, 'recal': 1686, 'site': 1687, 'techniqu': 1688, 'stunt': 1689, 'belong': 1690, 'gotten': 1691, 'cabl': 1692, 'bug': 1693, 'freak': 1694, 'foot': 1695, 'bright': 1696, 'african': 1697, 'fu': 1698, 'capabl': 1699, 'jimmi': 1700, 'fat': 1701, 'boat': 1702, 'clark': 1703, 'succeed': 1704, 'presid': 1705, 'stock': 1706, 'structur': 1707, 'gene': 1708, 'spanish': 1709, 'kidnap': 1710, 'paper': 1711, 'belief': 1712, 'whilst': 1713, 'factor': 1714, 'realism': 1715, 'witti': 1716, 'tree': 1717, 'realis': 1718, 'bob': 1719, 'complic': 1720, 'attend': 1721, 'educ': 1722, 'assist': 1723, 'finest': 1724, 'santa': 1725, 'broken': 1726, 'determin': 1727, 'up': 1728, 'smoke': 1729, 'observ': 1730, 'v': 1731, 'depart': 1732, 'rubbish': 1733, 'lewi': 1734, 'routin': 1735, 'hat': 1736, 'oper': 1737, 'fame': 1738, 'domin': 1739, 'kinda': 1740, 'advanc': 1741, 'foreign': 1742, 'morgan': 1743, 'hook': 1744, 'lone': 1745, 'safe': 1746, 'numer': 1747, 'rank': 1748, 'shape': 1749, 'shallow': 1750, 'rose': 1751, 'civil': 1752, 'werewolf': 1753, 'vs': 1754, 'washington': 1755, 'gari': 1756, 'morn': 1757, 'winner': 1758, 'accomplish': 1759, 'kong': 1760, 'ordinari': 1761, 'whenev': 1762, 'peac': 1763, 'grab': 1764, 'virtual': 1765, 'luck': 1766, 'offens': 1767, 'h': 1768, 'bigger': 1769, 'activ': 1770, 'unfunni': 1771, 'contriv': 1772, 'patient': 1773, 'complain': 1774, 'welcom': 1775, 'dimension': 1776, 'trek': 1777, 'pretend': 1778, 'con': 1779, 'lesbian': 1780, 'wake': 1781, 'dri': 1782, 'eric': 1783, 'cain': 1784, 'code': 1785, 'flash': 1786, 'dancer': 1787, 'guard': 1788, 'albert': 1789, 'statu': 1790, 'manipul': 1791, 'corrupt': 1792, 'awkward': 1793, 'sourc': 1794, 'context': 1795, 'signific': 1796, 'gain': 1797, 'speech': 1798, 'corni': 1799, 'sean': 1800, 'clip': 1801, 'anthoni': 1802, 'psycho': 1803, '13': 1804, 'w': 1805, 'priest': 1806, 'religion': 1807, 'curiou': 1808, 'reli': 1809, 'theatric': 1810, 'advic': 1811, 'flow': 1812, 'addict': 1813, 'howard': 1814, 'specif': 1815, 'skin': 1816, 'jennif': 1817, 'secur': 1818, 'asian': 1819, 'comfort': 1820, 'core': 1821, 'organ': 1822, 'promot': 1823, 'golden': 1824, 'luke': 1825, 'cash': 1826, 'cheat': 1827, 'lucki': 1828, 'lower': 1829, 'dislik': 1830, 'associ': 1831, 'degre': 1832, 'wing': 1833, 'balanc': 1834, 'regret': 1835, 'devic': 1836, 'frequent': 1837, 'spell': 1838, 'contribut': 1839, 'frankli': 1840, 'sake': 1841, 'forgiv': 1842, 'print': 1843, 'lake': 1844, 'mass': 1845, 'thoma': 1846, 'betti': 1847, 'gordon': 1848, 'crack': 1849, 'unexpect': 1850, 'construct': 1851, 'invit': 1852, 'unfold': 1853, 'depend': 1854, 'grown': 1855, 'amateur': 1856, 'categori': 1857, 'grew': 1858, 'matur': 1859, 'walter': 1860, 'condit': 1861, 'honor': 1862, 'intellectu': 1863, 'anna': 1864, 'sudden': 1865, 'spectacular': 1866, 'sole': 1867, 'mirror': 1868, 'veteran': 1869, 'robin': 1870, 'grip': 1871, 'freedom': 1872, 'meanwhil': 1873, 'liner': 1874, 'gift': 1875, 'overli': 1876, 'experienc': 1877, 'card': 1878, 'demonstr': 1879, 'oliv': 1880, 'brilliantli': 1881, 'colour': 1882, 'circumst': 1883, 'unabl': 1884, 'subtitl': 1885, 'section': 1886, 'theori': 1887, 'drew': 1888, 'sheriff': 1889, 'crappi': 1890, 'sheer': 1891, 'path': 1892, 'laughter': 1893, 'altern': 1894, 'pile': 1895, 'parker': 1896, 'cook': 1897, 'matt': 1898, 'sinatra': 1899, 'relief': 1900, 'wander': 1901, 'accident': 1902, 'treatment': 1903, 'lawyer': 1904, 'defin': 1905, 'hall': 1906, 'dragon': 1907, 'hank': 1908, 'captiv': 1909, 'moor': 1910, 'gratuit': 1911, 'halloween': 1912, 'broadway': 1913, 'unintent': 1914, 'wayn': 1915, 'kung': 1916, 'k': 1917, 'cowboy': 1918, 'barbara': 1919, 'wound': 1920, 'jacki': 1921, 'surreal': 1922, 'canadian': 1923, 'winter': 1924, 'spoof': 1925, 'statement': 1926, 'cheer': 1927, 'gonna': 1928, 'compos': 1929, 'treasur': 1930, 'fish': 1931, 'fare': 1932, 'sensit': 1933, 'unrealist': 1934, 'emerg': 1935, 'woodi': 1936, 'victor': 1937, 'neighbor': 1938, 'ran': 1939, 'sympathet': 1940, 'driven': 1941, 'menac': 1942, 'authent': 1943, 'overlook': 1944, 'topic': 1945, 'glass': 1946, 'expos': 1947, 'chief': 1948, 'handsom': 1949, 'michel': 1950, 'gross': 1951, 'ancient': 1952, 'stranger': 1953, 'pleasant': 1954, 'comedian': 1955, 'contemporari': 1956, 'feet': 1957, 'russel': 1958, 'nevertheless': 1959, 'network': 1960, 'built': 1961, 'cinderella': 1962, 'gori': 1963, 'letter': 1964, 'underr': 1965, 'endless': 1966, 'miser': 1967, 'consider': 1968, 'blockbust': 1969, 'earn': 1970, 'brook': 1971, 'solv': 1972, 'switch': 1973, 'joseph': 1974, 'convict': 1975, 'bullet': 1976, 'victoria': 1977, 'edward': 1978, 'virgin': 1979, '0': 1980, 'cynic': 1981, 'chosen': 1982, 'alex': 1983, 'scale': 1984, 'scenario': 1985, 'curs': 1986, 'com': 1987, 'gut': 1988, 'sword': 1989, 'outrag': 1990, 'juli': 1991, 'uk': 1992, 'proper': 1993, 'monkey': 1994, 'substanc': 1995, 'screenwrit': 1996, 'wrap': 1997, 'driver': 1998, 'remov': 1999, 'par': 2000, 'indic': 2001, 'bird': 2002, 'court': 2003, 'consequ': 2004, 'naiv': 2005, 'inevit': 2006, 'rental': 2007, 'nanci': 2008, 'advertis': 2009, 'grave': 2010, 'loser': 2011, 'roy': 2012, 'brave': 2013, 'bridg': 2014, 'le': 2015, 'fatal': 2016, 'germani': 2017, 'invis': 2018, 'slap': 2019, 'footbal': 2020, 'provok': 2021, 'ador': 2022, 'loui': 2023, 'anger': 2024, 'alcohol': 2025, 'anderson': 2026, 'chan': 2027, 'stumbl': 2028, 'ryan': 2029, 'willi': 2030, 'professor': 2031, 'patrick': 2032, 'bat': 2033, '1930': 2034, 'sharp': 2035, 'assassin': 2036, 'australian': 2037, 'trilog': 2038, 'ape': 2039, 'strongli': 2040, 'eight': 2041, 'saturday': 2042, 'deni': 2043, 'heck': 2044, 'lousi': 2045, 'liber': 2046, 'cell': 2047, 'refresh': 2048, 'amateurish': 2049, 'sin': 2050, 'resid': 2051, 'justifi': 2052, 'vagu': 2053, 'san': 2054, 'terrifi': 2055, 'reput': 2056, 'creator': 2057, 'mini': 2058, 'sympathi': 2059, 'defeat': 2060, 'indi': 2061, 'endur': 2062, 'tediou': 2063, 'task': 2064, 'expert': 2065, 'prevent': 2066, 'tabl': 2067, 'employ': 2068, 'trial': 2069, 'basebal': 2070, 'imit': 2071, 'offend': 2072, 'rival': 2073, 'che': 2074, 'complaint': 2075, 'fairi': 2076, 'max': 2077, 'weekend': 2078, 'europ': 2079, 'dig': 2080, 'beach': 2081, 'pitch': 2082, 'murphi': 2083, 'risk': 2084, 'purchas': 2085, 'format': 2086, 'harsh': 2087, 'hype': 2088, 'tini': 2089, 'glimps': 2090, 'titan': 2091, 'bite': 2092, 'nois': 2093, 'reminisc': 2094, 'powel': 2095, '14': 2096, 'north': 2097, 'fals': 2098, 'strip': 2099, 'till': 2100, 'asleep': 2101, 'prime': 2102, 'africa': 2103, 'texa': 2104, 'revel': 2105, 'destruct': 2106, 'descript': 2107, 'uninterest': 2108, 'spin': 2109, 'sitcom': 2110, 'semi': 2111, 'arrest': 2112, 'excess': 2113, 'surfac': 2114, 'inner': 2115, 'massiv': 2116, 'controversi': 2117, 'makeup': 2118, 'argu': 2119, 'hitchcock': 2120, 'dinosaur': 2121, 'twin': 2122, 'maintain': 2123, 'expens': 2124, 'stare': 2125, 'insist': 2126, 'ideal': 2127, 'melodrama': 2128, 'reject': 2129, 'ludicr': 2130, 'kim': 2131, 'nail': 2132, 'forest': 2133, 'atroci': 2134, 'subplot': 2135, 'erot': 2136, 'host': 2137, 'ala': 2138, 'columbo': 2139, 'press': 2140, 'ga': 2141, 'supernatur': 2142, 'notch': 2143, 'dude': 2144, 'identifi': 2145, 'presum': 2146, 'cant': 2147, 'forgett': 2148, 'character': 2149, 'closer': 2150, 'method': 2151, 'crude': 2152, 'guest': 2153, 'plagu': 2154, 'landscap': 2155, 'lion': 2156, 'ear': 2157, 'border': 2158, 'foster': 2159, 'princess': 2160, 'beast': 2161, 'pacino': 2162, 'jungl': 2163, 'birth': 2164, 'bound': 2165, 'aunt': 2166, 'previous': 2167, 'damag': 2168, 'accus': 2169, 'storytel': 2170, 'urban': 2171, 'propaganda': 2172, 'doll': 2173, 'nude': 2174, 'guid': 2175, 'thirti': 2176, 'jess': 2177, 'emma': 2178, 'chose': 2179, 'mainstream': 2180, 'pet': 2181, 'whoever': 2182, '25': 2183, 'mate': 2184, 'warrior': 2185, 'cooper': 2186, 'poster': 2187, 'size': 2188, 'deadli': 2189, 'upset': 2190, 'friday': 2191, 'merit': 2192, 'gritti': 2193, 'latest': 2194, 'exact': 2195, 'blend': 2196, 'sun': 2197, 'rough': 2198, 'buff': 2199, 'ton': 2200, 'citizen': 2201, 'contest': 2202, '1990': 2203, 'wilson': 2204, 'warner': 2205, 'settl': 2206, 'contact': 2207, 'corps': 2208, 'popul': 2209, 'overcom': 2210, 'widow': 2211, 'bu': 2212, 'environ': 2213, 'alic': 2214, 'mgm': 2215, 'metal': 2216, 'rat': 2217, 'select': 2218, 'pitt': 2219, 'particip': 2220, 'lift': 2221, 'link': 2222, 'revolut': 2223, 'guilti': 2224, 'ted': 2225, 'johnson': 2226, 'prostitut': 2227, 'matrix': 2228, 'corpor': 2229, 'accompani': 2230, 'moron': 2231, 'afternoon': 2232, 'exagger': 2233, 'corner': 2234, '1960': 2235, 'friendli': 2236, 'holm': 2237, 'multipl': 2238, 'instal': 2239, 'sincer': 2240, 'clair': 2241, 'doom': 2242, 'hood': 2243, 'leagu': 2244, 'irish': 2245, 'junk': 2246, 'advis': 2247, 'campi': 2248, 'hip': 2249, 'aka': 2250, 'defend': 2251, 'examin': 2252, 'lugosi': 2253, 'blah': 2254, 'string': 2255, 'sunday': 2256, 'grim': 2257, 'varieti': 2258, 'icon': 2259, 'pro': 2260, 'shut': 2261, 'rachel': 2262, 'tight': 2263, 'shake': 2264, 'confid': 2265, 'denni': 2266, 'jaw': 2267, 'medic': 2268, 'attach': 2269, 'mexican': 2270, 'goal': 2271, 'directli': 2272, 'sullivan': 2273, 'sarah': 2274, 'breast': 2275, 'dean': 2276, 'sentenc': 2277, 'terrorist': 2278, 'vietnam': 2279, 'legendari': 2280, 'prior': 2281, 'courag': 2282, 'truck': 2283, 'duke': 2284, 'bourn': 2285, 'proceed': 2286, 'donald': 2287, 'nose': 2288, 'un': 2289, 'behav': 2290, 'entri': 2291, 'split': 2292, 'yell': 2293, 'hong': 2294, 'unconvinc': 2295, 'buri': 2296, 'stolen': 2297, 'forth': 2298, 'swim': 2299, 'lifetim': 2300, 'borrow': 2301, 'everywher': 2302, 'jerk': 2303, 'crush': 2304, 'gather': 2305, 'confess': 2306, 'concentr': 2307, 'pan': 2308, 'spite': 2309, 'julia': 2310, 'california': 2311, 'turkey': 2312, 'lip': 2313, 'deliveri': 2314, 'china': 2315, 'offici': 2316, 'quest': 2317, 'downright': 2318, 'freeman': 2319, 'reward': 2320, 'hoffman': 2321, 'proud': 2322, 'flight': 2323, 'inept': 2324, 'betray': 2325, 'notori': 2326, 'fabul': 2327, 'worthwhil': 2328, 'sink': 2329, 'sir': 2330, 'encourag': 2331, 'fade': 2332, 'lazi': 2333, 'jon': 2334, 'jail': 2335, 'bag': 2336, 'bell': 2337, 'retard': 2338, 'imageri': 2339, 'shower': 2340, 'storm': 2341, 'susan': 2342, 'survivor': 2343, 'lisa': 2344, 'relev': 2345, 'teeth': 2346, 'cousin': 2347, 'branagh': 2348, 'hugh': 2349, 'alright': 2350, 'finger': 2351, 'summari': 2352, 'tremend': 2353, 'stab': 2354, 'quirki': 2355, 'bride': 2356, 'trade': 2357, 'toler': 2358, 'shark': 2359, 'mexico': 2360, 'facial': 2361, 'pose': 2362, 'von': 2363, 'hyster': 2364, 'bitter': 2365, 'blown': 2366, 'ha': 2367, 'ron': 2368, 'bone': 2369, 'christ': 2370, 'larri': 2371, 'cruel': 2372, 'scheme': 2373, 'address': 2374, 'ned': 2375, 'afterward': 2376, 'feed': 2377, 'distinct': 2378, 'snake': 2379, 'tour': 2380, 'screw': 2381, 'beg': 2382, 'pursu': 2383, 'swear': 2384, 'traci': 2385, 'thumb': 2386, 'stomach': 2387, 'mechan': 2388, 'obscur': 2389, 'chair': 2390, 'raw': 2391, 'photo': 2392, 'occas': 2393, 'resist': 2394, 'heavili': 2395, 'gruesom': 2396, 'chain': 2397, 'render': 2398, 'necessarili': 2399, 'argument': 2400, 'cabin': 2401, 'holiday': 2402, 'hardi': 2403, 'sidney': 2404, 'southern': 2405, 'indulg': 2406, 'satan': 2407, 'understood': 2408, 'philip': 2409, 'racist': 2410, 'india': 2411, 'lay': 2412, 'belov': 2413, 'obnoxi': 2414, 'stalk': 2415, 'fourth': 2416, 'integr': 2417, 'outfit': 2418, 'tongu': 2419, 'midnight': 2420, 'forgot': 2421, 'pregnant': 2422, 'deeper': 2423, 'slapstick': 2424, 'carol': 2425, '17': 2426, 'restor': 2427, 'ticket': 2428, 'inhabit': 2429, 'garden': 2430, 'magazin': 2431, 'devot': 2432, 'incid': 2433, 'shoe': 2434, 'brad': 2435, 'lincoln': 2436, 'lili': 2437, 'anticip': 2438, 'benefit': 2439, 'elizabeth': 2440, 'maria': 2441, 'disbelief': 2442, 'divorc': 2443, 'guarante': 2444, 'sandler': 2445, 'underground': 2446, 'creation': 2447, 'princip': 2448, 'capit': 2449, 'explod': 2450, 'greater': 2451, 'bbc': 2452, 'amazingli': 2453, 'mildli': 2454, 'cring': 2455, 'slave': 2456, 'halfway': 2457, 'lesli': 2458, 'extraordinari': 2459, 'introduct': 2460, 'funnier': 2461, 'overwhelm': 2462, 'wreck': 2463, 'tap': 2464, 'advantag': 2465, 'transfer': 2466, 'enhanc': 2467, 'extent': 2468, 'text': 2469, 'punish': 2470, 'dynam': 2471, 'horrif': 2472, 'deliber': 2473, 'error': 2474, 'preview': 2475, 'lo': 2476, 'lane': 2477, 'east': 2478, 'jessica': 2479, 'plant': 2480, 'miscast': 2481, 'vacat': 2482, 'basi': 2483, 'sophist': 2484, 'miller': 2485, 'appli': 2486, 'homosexu': 2487, '2000': 2488, 'ensu': 2489, 'vincent': 2490, 'mansion': 2491, 'uncomfort': 2492, 'sleazi': 2493, 'steel': 2494, 'measur': 2495, 'extend': 2496, 'spoken': 2497, 'elev': 2498, 'via': 2499, 'bollywood': 2500, 'reed': 2501, 'breathtak': 2502, 'cathol': 2503, 'assign': 2504, 'conceiv': 2505, 'beer': 2506, 'daili': 2507, 'fix': 2508, 'alter': 2509, 'hippi': 2510, 'overact': 2511, 'blair': 2512, 'stanley': 2513, 'mous': 2514, 'goofi': 2515, 'savag': 2516, 'dentist': 2517, 'melt': 2518, 'properli': 2519, 'subsequ': 2520, 'sacrific': 2521, 'oppos': 2522, 'inspector': 2523, 'succe': 2524, 'burt': 2525, 'carpent': 2526, 'nowaday': 2527, 'everyday': 2528, 'neck': 2529, 'massacr': 2530, 'circl': 2531, 'block': 2532, 'laura': 2533, 'christi': 2534, 'fallen': 2535, 'fay': 2536, 'lesser': 2537, 'mob': 2538, 'portrait': 2539, 'access': 2540, 'pool': 2541, 'grey': 2542, 'concert': 2543, 'seagal': 2544, 'jewish': 2545, 'relax': 2546, 'jake': 2547, 'isol': 2548, 'sinist': 2549, 'usa': 2550, 'competit': 2551, 'react': 2552, 'chees': 2553, 'immens': 2554, 'suitabl': 2555, 'chop': 2556, 'lyric': 2557, 'creep': 2558, 'nonetheless': 2559, '2006': 2560, 'spiritu': 2561, 'ironi': 2562, 'stink': 2563, 'nine': 2564, 'appal': 2565, 'showcas': 2566, 'nut': 2567, 'sold': 2568, 'user': 2569, 'franchis': 2570, 'rage': 2571, 'adopt': 2572, 'navi': 2573, 'spring': 2574, 'shirt': 2575, 'retir': 2576, 'reduc': 2577, 'needless': 2578, 'luci': 2579, 'bulli': 2580, 'nurs': 2581, 'per': 2582, 'asham': 2583, 'jay': 2584, 'bath': 2585, 'zone': 2586, 'digit': 2587, 'uninspir': 2588, 'stanwyck': 2589, 'sutherland': 2590, 'illustr': 2591, '2001': 2592, 'upper': 2593, 'broadcast': 2594, 'oddli': 2595, 'laid': 2596, '1940': 2597, 'amongst': 2598, 'brando': 2599, 'throat': 2600, 'disguis': 2601, 'baker': 2602, 'aspir': 2603, 'stylish': 2604, 'fulfil': 2605, 'neighborhood': 2606, 'endear': 2607, 'em': 2608, 'impli': 2609, 'pound': 2610, 'thief': 2611, 'pride': 2612, 'wanna': 2613, '18': 2614, 'wwii': 2615, 'nobl': 2616, 'cinematograph': 2617, 'bo': 2618, 'rochest': 2619, 'dawn': 2620, 'dinner': 2621, 'albeit': 2622, 'shift': 2623, 'tens': 2624, 'distribut': 2625, 'diseas': 2626, 'bett': 2627, 'coher': 2628, 'prop': 2629, 'shoulder': 2630, '16': 2631, 'knife': 2632, 'rebel': 2633, 'snow': 2634, 'wash': 2635, 'forti': 2636, 'silenc': 2637, 'matthau': 2638, 'poignant': 2639, 'surf': 2640, 'shout': 2641, 'contract': 2642, 'function': 2643, 'heat': 2644, 'eeri': 2645, 'proof': 2646, 'internet': 2647, 'derek': 2648, 'chuck': 2649, 'silver': 2650, 'cancel': 2651, 'reunion': 2652, 'duti': 2653, 'horrend': 2654, 'instinct': 2655, 'widmark': 2656, 'elvira': 2657, 'henc': 2658, 'cannib': 2659, 'height': 2660, 'mindless': 2661, 'greatli': 2662, 'incoher': 2663, 'repetit': 2664, 'glori': 2665, 'etern': 2666, 'torn': 2667, 'elvi': 2668, 'musician': 2669, 'mill': 2670, 'alik': 2671, 'spielberg': 2672, 'neat': 2673, 'innov': 2674, 'premier': 2675, 'absorb': 2676, 'pie': 2677, 'horrifi': 2678, 'fbi': 2679, 'diamond': 2680, 'homag': 2681, 'lovabl': 2682, 'crisi': 2683, 'precis': 2684, 'infam': 2685, 'trite': 2686, 'burton': 2687, 'wealthi': 2688, 'blank': 2689, 'bang': 2690, 'itali': 2691, 'racism': 2692, 'redempt': 2693, 'nelson': 2694, 'announc': 2695, 'britain': 2696, 'resolut': 2697, 'parallel': 2698, 'ensembl': 2699, 'pat': 2700, 'wilder': 2701, 'dedic': 2702, 'helen': 2703, 'flop': 2704, 'hammer': 2705, 'happili': 2706, 'streisand': 2707, 'chaplin': 2708, 'cube': 2709, 'conclud': 2710, 'st': 2711, 'factori': 2712, 'triumph': 2713, 'plastic': 2714, 'oil': 2715, 'disagre': 2716, 'mar': 2717, 'broke': 2718, 'carter': 2719, 'bush': 2720, 'vega': 2721, 'row': 2722, 'rocket': 2723, 'march': 2724, 'fighter': 2725, 'weight': 2726, 'climb': 2727, 'chuckl': 2728, 'own': 2729, 'boot': 2730, 'mst3k': 2731, 'lust': 2732, 'unforgett': 2733, 'meaning': 2734, 'thug': 2735, 'kurt': 2736, 'sensibl': 2737, 'wherea': 2738, 'luca': 2739, 'enorm': 2740, 'spare': 2741, 'dump': 2742, 'dane': 2743, 'engin': 2744, 'fifti': 2745, 'brand': 2746, 'adequ': 2747, 'butt': 2748, 'bobbi': 2749, 'rap': 2750, 'arnold': 2751, 'stress': 2752, 'caricatur': 2753, 'dear': 2754, 'threat': 2755, 'difficulti': 2756, 'karloff': 2757, 'elabor': 2758, 'arrog': 2759, 'secretari': 2760, 'ralph': 2761, 'swing': 2762, 'polish': 2763, 'ego': 2764, 'homeless': 2765, 'barri': 2766, 'flynn': 2767, 'journalist': 2768, 'fest': 2769, 'hamlet': 2770, 'float': 2771, 'unbear': 2772, 'fanci': 2773, 'grate': 2774, 'induc': 2775, 'conspiraci': 2776, 'arrang': 2777, 'spike': 2778, 'resort': 2779, 'tool': 2780, 'simpson': 2781, 'puppet': 2782, 'tribut': 2783, 'basement': 2784, 'choreograph': 2785, 'phillip': 2786, 'cruis': 2787, 'exercis': 2788, 'pig': 2789, 'boll': 2790, 'guilt': 2791, 'muppet': 2792, 'layer': 2793, 'toilet': 2794, 'puzzl': 2795, 'file': 2796, '24': 2797, 'item': 2798, 'korean': 2799, 'fianc': 2800, 'ward': 2801, 'babe': 2802, 'medium': 2803, 'tower': 2804, 'stan': 2805, 'ham': 2806, 'editor': 2807, 'document': 2808, 'scarecrow': 2809, 'slip': 2810, 'minim': 2811, 'transit': 2812, 'slaughter': 2813, 'persona': 2814, 'territori': 2815, 'librari': 2816, 'assur': 2817, 'portion': 2818, 'doc': 2819, 'glover': 2820, 'catherin': 2821, 'larger': 2822, 'spark': 2823, 'orient': 2824, 'philosoph': 2825, 'superfici': 2826, 'inexplic': 2827, 'denzel': 2828, 'ban': 2829, 'walken': 2830, 'owe': 2831, 'jet': 2832, 'dorothi': 2833, 'curti': 2834, 'jeremi': 2835, 'pg': 2836, 'boredom': 2837, 'financi': 2838, 'sneak': 2839, 'wolf': 2840, 'shi': 2841, 'multi': 2842, 'eleph': 2843, 'profound': 2844, 'metaphor': 2845, 'cusack': 2846, 'backdrop': 2847, 'hudson': 2848, 'ambigu': 2849, 'whale': 2850, 'birthday': 2851, 'ultra': 2852, '2005': 2853, 'hack': 2854, 'implaus': 2855, 'rave': 2856, 'union': 2857, 'stiff': 2858, 'viru': 2859, 'notion': 2860, 'elsewher': 2861, 'gadget': 2862, 'hawk': 2863, 'canada': 2864, 'reader': 2865, 'newspap': 2866, 'slight': 2867, 'deriv': 2868, 'urg': 2869, 'afford': 2870, 'distanc': 2871, 'eva': 2872, 'disc': 2873, '1st': 2874, 'squar': 2875, 'eastwood': 2876, 'bibl': 2877, 'poison': 2878, 'lloyd': 2879, 'pad': 2880, 'superhero': 2881, 'restaur': 2882, 'drown': 2883, 'montag': 2884, 'sadist': 2885, 'charisma': 2886, 'button': 2887, 'essenc': 2888, 'cure': 2889, 'heston': 2890, 'spread': 2891, 'skit': 2892, 'huh': 2893, 'health': 2894, 'godfath': 2895, 'fetch': 2896, 'companion': 2897, 'dealt': 2898, 'lab': 2899, 'peak': 2900, 'invest': 2901, 'maniac': 2902, 'estat': 2903, 'gradual': 2904, 'muslim': 2905, 'scoobi': 2906, 'subtleti': 2907, 'servant': 2908, 'tea': 2909, 'kane': 2910, 'cup': 2911, 'gothic': 2912, 'alli': 2913, 'countless': 2914, 'ritter': 2915, 'miik': 2916, 'briefli': 2917, 'charismat': 2918, 'iii': 2919, 'heroic': 2920, 'electr': 2921, 'salli': 2922, 'elect': 2923, 'cole': 2924, 'nuanc': 2925, 'neil': 2926, 'admittedli': 2927, 'bud': 2928, 'grandmoth': 2929, 'ingredi': 2930, 'wannab': 2931, 'tender': 2932, 'reel': 2933, 'toss': 2934, 'resourc': 2935, 'pit': 2936, 'mafia': 2937, 'stronger': 2938, 'kubrick': 2939, 'poverti': 2940, 'label': 2941, 'mild': 2942, 'reev': 2943, 'punk': 2944, 'pauli': 2945, 'shall': 2946, 'dawson': 2947, 'gate': 2948, 'stood': 2949, 'carrey': 2950, 'easier': 2951, 'cardboard': 2952, 'ian': 2953, 'astair': 2954, 'smash': 2955, 'useless': 2956, 'terri': 2957, 'outcom': 2958, 'tag': 2959, 'updat': 2960, 'fond': 2961, 'smooth': 2962, 'assault': 2963, 'cox': 2964, 'burst': 2965, 'bakshi': 2966, 'coincid': 2967, 'fist': 2968, 'vulner': 2969, 'exchang': 2970, 'increasingli': 2971, 'rex': 2972, 'samurai': 2973, 'sketch': 2974, 'resolv': 2975, 'vari': 2976, 'divers': 2977, 'melodramat': 2978, 'qualifi': 2979, '2002': 2980, 'scratch': 2981, 'conveni': 2982, 'insert': 2983, 'luckili': 2984, 'templ': 2985, 'tame': 2986, 'blast': 2987, 'reynold': 2988, 'brillianc': 2989, 'suspend': 2990, 'be': 2991, 'nuclear': 2992, 'hamilton': 2993, 'gotta': 2994, 'jami': 2995, 'farm': 2996, 'seventi': 2997, 'matthew': 2998, 'pin': 2999, 'meat': 3000, 'walker': 3001, 'ambiti': 3002, 'soprano': 3003, 'coach': 3004, 'strictli': 3005, 'fisher': 3006, 'kudo': 3007, 'empir': 3008, 'monk': 3009, 'brosnan': 3010, 'cave': 3011, 'spooki': 3012, 'convolut': 3013, 'worthless': 3014, 'clock': 3015, 'struck': 3016, 'discoveri': 3017, 'revers': 3018, 'recreat': 3019, 'closet': 3020, 'ninja': 3021, 'instantli': 3022, 'butcher': 3023, 'timeless': 3024, 'joey': 3025, 'eccentr': 3026, 'grasp': 3027, 'importantli': 3028, 'cliff': 3029, 'communist': 3030, 'partli': 3031, 'bleak': 3032, 'sloppi': 3033, 'fifteen': 3034, 'evok': 3035, 'pal': 3036, 'seller': 3037, 'selfish': 3038, 'sidekick': 3039, 'eighti': 3040, 'wipe': 3041, 'norman': 3042, 'clown': 3043, 'miracl': 3044, 'inconsist': 3045, 'gray': 3046, 'declar': 3047, 'mitchel': 3048, 'superbl': 3049, 'psychiatrist': 3050, 'websit': 3051, 'ho': 3052, 'chew': 3053, '45': 3054, 'aforement': 3055, 'debat': 3056, 'flawless': 3057, 'cheek': 3058, 'australia': 3059, 'piano': 3060, 'enthusiast': 3061, 'destin': 3062, 'stoog': 3063, 'farc': 3064, 'seed': 3065, 'lifestyl': 3066, 'emili': 3067, 'slice': 3068, 'pressur': 3069, 'regardless': 3070, 'soviet': 3071, 'drivel': 3072, 'kitchen': 3073, 'anni': 3074, 'bash': 3075, 'dire': 3076, 'wrestl': 3077, 'directori': 3078, 'wick': 3079, 'incompet': 3080, 'dash': 3081, 'splatter': 3082, 'akshay': 3083, 'abc': 3084, 'flower': 3085, 'curios': 3086, 'jar': 3087, 'suppli': 3088, 'duo': 3089, 'beaten': 3090, 'seduc': 3091, 'cameron': 3092, 'mann': 3093, 'boil': 3094, 'artifici': 3095, 'prize': 3096, 'recov': 3097, 'helicopt': 3098, 'ken': 3099, 'pleasantli': 3100, 'cia': 3101, 'increas': 3102, 'cagney': 3103, 'distant': 3104, 'judi': 3105, 'dave': 3106, 'lou': 3107, 'chapter': 3108, 'doo': 3109, 'glow': 3110, 'blob': 3111, 'ellen': 3112, 'splendid': 3113, 'drunken': 3114, 'glenn': 3115, 'hop': 3116, 'turner': 3117, 'psychot': 3118, 'craig': 3119, 'favour': 3120, 'web': 3121, 'eleg': 3122, 'combat': 3123, 'goldberg': 3124, 'perri': 3125, 'craven': 3126, 'laurel': 3127, 'panic': 3128, 'ranger': 3129, 'francisco': 3130, 'rid': 3131, 'greek': 3132, 'gentl': 3133, 'flip': 3134, 'fx': 3135, 'alexand': 3136, 'graduat': 3137, 'gandhi': 3138, 'slightest': 3139, 'philosophi': 3140, 'shortli': 3141, 'wizard': 3142, 'falk': 3143, 'min': 3144, 'ruth': 3145, '20th': 3146, 'hatr': 3147, 'plausibl': 3148, 'modesti': 3149, 'preciou': 3150, 'unpleas': 3151, 'dracula': 3152, 'futurist': 3153, 'holi': 3154, 'fund': 3155, 'jealou': 3156, 'legal': 3157, 'knight': 3158, 'we': 3159, 'ocean': 3160, 'lend': 3161, 'manhattan': 3162, 'tall': 3163, 'felix': 3164, 'harm': 3165, 'thread': 3166, 'childish': 3167, 'overdon': 3168, 'nod': 3169, 'explicit': 3170, 'scientif': 3171, 'forbidden': 3172, 'ami': 3173, 'reviv': 3174, 'digniti': 3175, 'bless': 3176, 'tank': 3177, 'mock': 3178, 'giallo': 3179, 'margaret': 3180, 'fever': 3181, 'broad': 3182, 'repeatedli': 3183, 'awe': 3184, 'eve': 3185, 'yesterday': 3186, 'mel': 3187, 'nerv': 3188, '2004': 3189, 'elderli': 3190, '99': 3191, 'pirat': 3192, 'torment': 3193, 'unwatch': 3194, 'verhoeven': 3195, 'awaken': 3196, 'thick': 3197, 'kay': 3198, 'lean': 3199, 'ah': 3200, 'roman': 3201, 'eas': 3202, 'publish': 3203, 'romero': 3204, 'absenc': 3205, 'ambit': 3206, 'acclaim': 3207, 'royal': 3208, 'automat': 3209, 'griffith': 3210, 'custom': 3211, 'uniform': 3212, 'politician': 3213, 'launch': 3214, 'bin': 3215, 'timothi': 3216, 'rivet': 3217, 'stiller': 3218, 'pierc': 3219, 'antic': 3220, 'darker': 3221, 'gabriel': 3222, 'termin': 3223, 'transport': 3224, 'wallac': 3225, 'crook': 3226, 'phrase': 3227, 'foul': 3228, 'warren': 3229, 'sunshin': 3230, 'stinker': 3231, 'pulp': 3232, 'tomato': 3233, 'homicid': 3234, 'purpl': 3235, 'bathroom': 3236, 'coloni': 3237, 'choreographi': 3238, 'saint': 3239, 'rambo': 3240, 'prom': 3241, 'packag': 3242, 'q': 3243, 'awak': 3244, 'hollow': 3245, 'contrari': 3246, 'album': 3247, 'eyr': 3248, 'marin': 3249, 'juvenil': 3250, 'karen': 3251, 'horrid': 3252, 'pray': 3253, 'revolutionari': 3254, 'brazil': 3255, 'evolv': 3256, 'ought': 3257, 'sixti': 3258, '2003': 3259, 'li': 3260, 'donna': 3261, 'viciou': 3262, 'kenneth': 3263, 'ireland': 3264, 'conserv': 3265, 'stole': 3266, 'boast': 3267, 'mummi': 3268, 'twelv': 3269, 'overr': 3270, 'blade': 3271, 'option': 3272, 'kapoor': 3273, 'candid': 3274, 'dose': 3275, 'defi': 3276, 'ramon': 3277, 'beatti': 3278, 'nerd': 3279, 'mildr': 3280, 'natali': 3281, 'funer': 3282, 'detract': 3283, 'flame': 3284, 'kirk': 3285, 'global': 3286, 'collabor': 3287, 'jazz': 3288, 'confirm': 3289, 'astonish': 3290, 'protest': 3291, 'fulci': 3292, 'trio': 3293, 'altman': 3294, 'mystic': 3295, 'spit': 3296, 'bottl': 3297, 'enterpris': 3298, 'whip': 3299, 'racial': 3300, 'audio': 3301, 'yellow': 3302, 'nicholson': 3303, 'shade': 3304, 'delici': 3305, 'bull': 3306, 'blake': 3307, 'leap': 3308, 'tommi': 3309, 'destini': 3310, 'visibl': 3311, 'staff': 3312, 'bedroom': 3313, 'meaningless': 3314, 'adolesc': 3315, 'neo': 3316, 'threw': 3317, 'pseudo': 3318, 'vivid': 3319, 'inherit': 3320, 'harder': 3321, 'altogeth': 3322, 'enchant': 3323, 'popcorn': 3324, 'reunit': 3325, 'todd': 3326, 'merci': 3327, 'swedish': 3328, 'fonda': 3329, 'moodi': 3330, 'await': 3331, 'exhibit': 3332, 'leonard': 3333, 'uneven': 3334, 'madonna': 3335, 'synopsi': 3336, 'suspici': 3337, 'reserv': 3338, 'bust': 3339, 'ruthless': 3340, 'tip': 3341, 'wire': 3342, 'respond': 3343, 'roommat': 3344, 'voight': 3345, 'kennedi': 3346, 'crocodil': 3347, 'lemmon': 3348, 'lawrenc': 3349, 'befriend': 3350, 'edi': 3351, 'decor': 3352, 'jew': 3353, 'fanat': 3354, 'atlanti': 3355, 'incident': 3356, 'bargain': 3357, 'palma': 3358, 'rural': 3359, 'ventur': 3360, 'chao': 3361, 'dimens': 3362, 'audit': 3363, 'bradi': 3364, 'abysm': 3365, 'centr': 3366, 'clint': 3367, 'carl': 3368, '2007': 3369, 'clumsi': 3370, 'garner': 3371, 'unsettl': 3372, 'bold': 3373, 'holli': 3374, 'voyag': 3375, 'daddi': 3376, 'poetic': 3377, 'cuba': 3378, 'tiger': 3379, 'wealth': 3380, 'imperson': 3381, 'cd': 3382, 'humili': 3383, 'neglect': 3384, 'elimin': 3385, 'versu': 3386, 'echo': 3387, 'characterist': 3388, 'mall': 3389, 'immigr': 3390, 'hart': 3391, 'lit': 3392, 'troop': 3393, 'acknowledg': 3394, 'nearbi': 3395, '2nd': 3396, 'trail': 3397, 'ant': 3398, 'timon': 3399, 'cari': 3400, 'saga': 3401, 'solo': 3402, 'domest': 3403, 'marshal': 3404, 'mistaken': 3405, 'paus': 3406, 'prejudic': 3407, 'repuls': 3408, 'jeffrey': 3409, 'celluloid': 3410, 'infect': 3411, 'collaps': 3412, 'pun': 3413, 'mickey': 3414, 'homer': 3415, 'gear': 3416, 'sore': 3417, 'tribe': 3418, 'ginger': 3419, 'coat': 3420, 'pant': 3421, 'equip': 3422, 'milk': 3423, 'apolog': 3424, 'assembl': 3425, 'coffe': 3426, '1996': 3427, 'inan': 3428, 'inappropri': 3429, 'promin': 3430, 'chest': 3431, 'interrupt': 3432, 'cake': 3433, 'undoubtedli': 3434, 'leon': 3435, 'hbo': 3436, 'harvey': 3437, 'olivi': 3438, 'furthermor': 3439, 'florida': 3440, 'brooklyn': 3441, 'highest': 3442, 'pen': 3443, 'trace': 3444, 'retain': 3445, 'airplan': 3446, 'solut': 3447, 'pot': 3448, 'primari': 3449, 'aveng': 3450, 'humbl': 3451, 'consum': 3452, 'colleagu': 3453, 'instant': 3454, 'colonel': 3455, 'institut': 3456, 'jenni': 3457, 'exot': 3458, 'maggi': 3459, 'embrac': 3460, 'vulgar': 3461, 'polanski': 3462, 'devast': 3463, 'godzilla': 3464, 'cope': 3465, 'disabl': 3466, '3rd': 3467, 'dutch': 3468, 'wive': 3469, 'descend': 3470, 'illog': 3471, 'ya': 3472, '1999': 3473, 'poke': 3474, 'bowl': 3475, 'principl': 3476, 'outer': 3477, 'strain': 3478, 'linda': 3479, 'smaller': 3480, 'seduct': 3481, 'dian': 3482, 'rick': 3483, 'sale': 3484, 'gender': 3485, 'gloriou': 3486, 'inferior': 3487, 'mixtur': 3488, 'blatant': 3489, 'devoid': 3490, 'scope': 3491, 'lol': 3492, 'rabbit': 3493, 'bubbl': 3494, 'dud': 3495, 'gundam': 3496, 'predecessor': 3497, 'secondli': 3498, 'glamor': 3499, 'vast': 3500, 'yard': 3501, 'beneath': 3502, 'primarili': 3503, 'hal': 3504, 'dive': 3505, 'cue': 3506, 'grinch': 3507, 'myer': 3508, 'hideou': 3509, 'senseless': 3510, 'breed': 3511, 'talki': 3512, 'museum': 3513, 'z': 3514, 'alfr': 3515, 'shirley': 3516, 'simplist': 3517, 'disjoint': 3518, 'aggress': 3519, 'streep': 3520, 'invas': 3521, 'alert': 3522, 'shelf': 3523, 'pearl': 3524, 'countrysid': 3525, 'april': 3526, 'trademark': 3527, 'arab': 3528, 'garbo': 3529, 'casual': 3530, 'domino': 3531, 'et': 3532, 'rendit': 3533, 'obtain': 3534, 'defens': 3535, 'stack': 3536, 'vanish': 3537, 'robberi': 3538, 'experiment': 3539, 'stir': 3540, 'boom': 3541, 'hardcor': 3542, 'slide': 3543, 'loyal': 3544, 'stellar': 3545, 'hopeless': 3546, 'oz': 3547, 'maci': 3548, 'illeg': 3549, 'mail': 3550, 'uwe': 3551, 'sh': 3552, 'khan': 3553, 'disgrac': 3554, 'unhappi': 3555, 'applaud': 3556, 'acid': 3557, 'robinson': 3558, 'mayor': 3559, 'wont': 3560, 'craze': 3561, 'grandfath': 3562, 'soccer': 3563, 'rifl': 3564, 'scroog': 3565, 'dismiss': 3566, 'diana': 3567, 'fri': 3568, 'amanda': 3569, 'counter': 3570, 'blew': 3571, 'tempt': 3572, 'incomprehens': 3573, 'declin': 3574, 'emphasi': 3575, 'berlin': 3576, 'tenant': 3577, 'hartley': 3578, 'psychic': 3579, 'span': 3580, 'topless': 3581, 'recruit': 3582, 'spider': 3583, 'dicken': 3584, 'ethnic': 3585, 'bitch': 3586, 'trashi': 3587, 'sibl': 3588, 'sympath': 3589, 'ration': 3590, 'resurrect': 3591, 'faster': 3592, 'riot': 3593, 'porno': 3594, 'shed': 3595, 'goer': 3596, 'shaw': 3597, 'intim': 3598, 'justin': 3599, 'revolt': 3600, 'parad': 3601, 'woo': 3602, 'lumet': 3603, 'niro': 3604, 'wet': 3605, 'slick': 3606, 'enlighten': 3607, 'hesit': 3608, 'immort': 3609, 'steam': 3610, 'choru': 3611, 'ballet': 3612, 'region': 3613, 'biographi': 3614, 'eager': 3615, 'mario': 3616, 'nephew': 3617, 'honesti': 3618, 'hopper': 3619, 'commend': 3620, 'weakest': 3621, 'unreal': 3622, 'lena': 3623, 'wheel': 3624, 'farmer': 3625, 'jonathan': 3626, 'gap': 3627, 'ensur': 3628, 'wendi': 3629, 'feminist': 3630, 'rider': 3631, 'dealer': 3632, '00': 3633, 'patriot': 3634, 'partial': 3635, 'andr': 3636, 'worm': 3637, 'snap': 3638, 'properti': 3639, 'safeti': 3640, 'mutant': 3641, 'franco': 3642, 'composit': 3643, 'psychopath': 3644, 'victori': 3645, 'charlott': 3646, 'nostalg': 3647, 'util': 3648, 'vice': 3649, 'leo': 3650, 'confin': 3651, 'kingdom': 3652, 'skull': 3653, 'macarthur': 3654, 'owen': 3655, 'sandra': 3656, 'wore': 3657, 'prequel': 3658, 'morri': 3659, 'repress': 3660, 'sappi': 3661, 'blunt': 3662, 'similarli': 3663, 'hung': 3664, 'rope': 3665, 'rambl': 3666, 'dust': 3667, 'montana': 3668, 'snl': 3669, 'valuabl': 3670, 'dalton': 3671, 'bow': 3672, 'compens': 3673, 'nervou': 3674, 'drain': 3675, 'farrel': 3676, 'bonu': 3677, 'tail': 3678, 'speci': 3679, 'compass': 3680, 'despair': 3681, '1972': 3682, 'acquir': 3683, 'whoopi': 3684, 'latin': 3685, 'bumbl': 3686, 'miseri': 3687, 'hyde': 3688, 'strand': 3689, 'exit': 3690, 'emperor': 3691, 'recycl': 3692, 'drum': 3693, 'cg': 3694, 'rocki': 3695, 'heartbreak': 3696, 'del': 3697, 'pattern': 3698, 'deed': 3699, 'repli': 3700, 'bergman': 3701, 'campbel': 3702, 'thru': 3703, 'tad': 3704, 'kyle': 3705, 'gimmick': 3706, 'contempl': 3707, 'chess': 3708, 'slug': 3709, 'downhil': 3710, 'bleed': 3711, 'carradin': 3712, 'radic': 3713, 'da': 3714, 'rapist': 3715, 'tonight': 3716, 'orson': 3717, 'olli': 3718, '35': 3719, 'gal': 3720, 'pour': 3721, 'mistress': 3722, 'romp': 3723, 'martian': 3724, 'airport': 3725, 'wacki': 3726, 'percept': 3727, 'rotten': 3728, 'roth': 3729, 'oppress': 3730, 'heal': 3731, 'belt': 3732, 'pervert': 3733, 'edgar': 3734, 'taught': 3735, 'mislead': 3736, 'melodi': 3737, 'arguabl': 3738, 'arc': 3739, 'slash': 3740, 'champion': 3741, 'paltrow': 3742, '1983': 3743, 'stilt': 3744, 'banal': 3745, 'dazzl': 3746, 'pursuit': 3747, 'tackl': 3748, 'unpredict': 3749, 'pervers': 3750, 'shelley': 3751, 'attorney': 3752, 'tooth': 3753, 'preach': 3754, 'programm': 3755, 'gambl': 3756, 'franki': 3757, 'marti': 3758, 'orang': 3759, 'conneri': 3760, 'tiresom': 3761, 'maid': 3762, 'poem': 3763, 'closest': 3764, 'chicken': 3765, 'sensat': 3766, 'bela': 3767, 'vocal': 3768, 'uplift': 3769, 'vengeanc': 3770, 'graham': 3771, 'plight': 3772, 'mesmer': 3773, 'duval': 3774, 'employe': 3775, 'cleverli': 3776, 'virginia': 3777, 'rubi': 3778, 'raymond': 3779, 'passeng': 3780, 'dixon': 3781, 'volum': 3782, 'clone': 3783, 'bay': 3784, 'pokemon': 3785, 'tube': 3786, 'calm': 3787, 'iran': 3788, 'yawn': 3789, 'habit': 3790, 'giggl': 3791, 'engross': 3792, 'amitabh': 3793, 'swallow': 3794, 'quarter': 3795, 'suffic': 3796, 'numb': 3797, 'extens': 3798, 'profan': 3799, 'paranoia': 3800, '1968': 3801, 'convincingli': 3802, 'inject': 3803, 'lundgren': 3804, 'outing': 3805, 'mute': 3806, 'crystal': 3807, 'whine': 3808, 'secretli': 3809, 'climact': 3810, 'monologu': 3811, 'abraham': 3812, 'scottish': 3813, 'sirk': 3814, 'gerard': 3815, 'ethan': 3816, 'grotesqu': 3817, 'frankenstein': 3818, 'plod': 3819, 'linger': 3820, 'abort': 3821, 'im': 3822, 'dispos': 3823, 'backward': 3824, 'austen': 3825, 'profess': 3826, 'meander': 3827, 'earl': 3828, 'richardson': 3829, 'fed': 3830, 'junior': 3831, 'trend': 3832, 'underst': 3833, 'chicago': 3834, 'nichola': 3835, 'septemb': 3836, 'expand': 3837, 'lowest': 3838, 'poetri': 3839, 'bend': 3840, 'surpass': 3841, 'taxi': 3842, 'spock': 3843, 'franci': 3844, 'sue': 3845, 'econom': 3846, 'catchi': 3847, 'tourist': 3848, 'rant': 3849, 'nostalgia': 3850, 'simplic': 3851, 'cannon': 3852, 'muddl': 3853, 'spoke': 3854, 'literatur': 3855, 'rubber': 3856, 'myth': 3857, 'greedi': 3858, 'der': 3859, 'hum': 3860, 'stallon': 3861, 'dysfunct': 3862, 'compliment': 3863, 'lure': 3864, 'instrument': 3865, 'eugen': 3866, 'household': 3867, 'mundan': 3868, 'descent': 3869, 'waitress': 3870, 'deaf': 3871, 'damon': 3872, 'coast': 3873, 'lang': 3874, 'hello': 3875, 'dictat': 3876, 'recognit': 3877, 'dement': 3878, 'duck': 3879, 'flee': 3880, 'firstli': 3881, 'stale': 3882, 'equival': 3883, 'mankind': 3884, 'cent': 3885, 'alongsid': 3886, 'recognis': 3887, 'map': 3888, 'crucial': 3889, 'carel': 3890, 'sissi': 3891, 'omen': 3892, 'mortal': 3893, 'phantom': 3894, 'molli': 3895, 'irrelev': 3896, 'occupi': 3897, 'eaten': 3898, 'bacal': 3899, 'louis': 3900, 'randi': 3901, 'insur': 3902, 'phoni': 3903, 'furi': 3904, 'june': 3905, '1973': 3906, 'loyalti': 3907, 'wisdom': 3908, 'blackmail': 3909, 'daisi': 3910, 'cyborg': 3911, 'freez': 3912, 'buffalo': 3913, 'twilight': 3914, 'onlin': 3915, 'heel': 3916, 'ashley': 3917, 'damm': 3918, 'bike': 3919, 'likewis': 3920, 'lengthi': 3921, 'reign': 3922, 'newli': 3923, 'bump': 3924, 'rooney': 3925, 'drake': 3926, 'rude': 3927, 'dreari': 3928, 'labor': 3929, 'distinguish': 3930, 'antwon': 3931, 'grayson': 3932, 'biko': 3933, 'baddi': 3934, 'chronicl': 3935, 'worn': 3936, 'proce': 3937, 'startl': 3938, 'prey': 3939, 'tunnel': 3940, 'boxer': 3941, 'approv': 3942, 'keith': 3943, 'unorigin': 3944, 'butler': 3945, 'pink': 3946, 'incorpor': 3947, 'exposur': 3948, 'nineti': 3949, 'emphas': 3950, 'provoc': 3951, 'attribut': 3952, 'analysi': 3953, 'interior': 3954, 'barrymor': 3955, 'basketbal': 3956, 'ridden': 3957, 'vein': 3958, 'inher': 3959, 'sailor': 3960, 'simmon': 3961, 'degrad': 3962, 'barrel': 3963, 'indiffer': 3964, 'fleet': 3965, 'belushi': 3966, 'hypnot': 3967, 'meg': 3968, 'millionair': 3969, 'mighti': 3970, 'er': 3971, 'robbin': 3972, 'underli': 3973, 'nicol': 3974, 'condemn': 3975, 'improvis': 3976, 'meyer': 3977, 'elm': 3978, 'julian': 3979, 'substitut': 3980, 'undeni': 3981, 'walsh': 3982, 'stalker': 3983, 'bunni': 3984, 'drift': 3985, 'mormon': 3986, 'othello': 3987, 'carla': 3988, 'predat': 3989, 'unrel': 3990, 'agenda': 3991, 'hay': 3992, 'watson': 3993, 'shove': 3994, 'enthusiasm': 3995, 'vital': 3996, 'mtv': 3997, 'firm': 3998, 'disord': 3999, 'alison': 4000, 'exquisit': 4001, 'greed': 4002, 'palac': 4003, 'priceless': 4004, 'edgi': 4005, 'nyc': 4006, 'dolph': 4007, 'roof': 4008, 'alarm': 4009, 'unawar': 4010, 'novak': 4011, 'errol': 4012, 'marion': 4013, 'warmth': 4014, 'rukh': 4015, 'reid': 4016, '3d': 4017, 'lampoon': 4018, 'peril': 4019, 'peck': 4020, 'sergeant': 4021, '1933': 4022, 'showdown': 4023, 'preserv': 4024, 'profit': 4025, 'israel': 4026, 'session': 4027, 'petti': 4028, 'what': 4029, 'beatl': 4030, 'championship': 4031, 'thompson': 4032, 'coup': 4033, 'unleash': 4034, '13th': 4035, 'glanc': 4036, 'gestur': 4037, 'eastern': 4038, 'drip': 4039, 'iraq': 4040, 'spain': 4041, 'campaign': 4042, 'orlean': 4043, 'randomli': 4044, 'ponder': 4045, 'cassidi': 4046, 'valentin': 4047, 'crown': 4048, 'testament': 4049, 'minimum': 4050, 'nun': 4051, 'distort': 4052, 'simultan': 4053, 'angela': 4054, 'pamela': 4055, 'zizek': 4056, 'han': 4057, 'cooki': 4058, 'brenda': 4059, 'unimagin': 4060, 'fido': 4061, 'quinn': 4062, 'stake': 4063, 'stroke': 4064, '1984': 4065, 'restrain': 4066, 'miyazaki': 4067, 'reson': 4068, 'regist': 4069, 'gentleman': 4070, 'jan': 4071, 'wig': 4072, 'calib': 4073, 'valley': 4074, 'crawl': 4075, 'contradict': 4076, 'bro': 4077, 'shootout': 4078, 'rout': 4079, 'empathi': 4080, 'exposit': 4081, 'climat': 4082, 'mon': 4083, 'realm': 4084, 'represent': 4085, 'perpetu': 4086, 'travesti': 4087, 'cream': 4088, 'crow': 4089, 'buster': 4090, 'scotland': 4091, 'sabrina': 4092, 'kurosawa': 4093, 'din': 4094, 'painter': 4095, 'ross': 4096, 'delic': 4097, 'unseen': 4098, 'greg': 4099, 'warrant': 4100, 'wax': 4101, 'passabl': 4102, 'abomin': 4103, 'shoddi': 4104, 'pretens': 4105, 'tacki': 4106, 'absent': 4107, 'derang': 4108, 'unsatisfi': 4109, 'perceiv': 4110, 'pole': 4111, 'crawford': 4112, 'meryl': 4113, '1997': 4114, 'monoton': 4115, 'traumat': 4116, 'censor': 4117, 'stargat': 4118, 'demis': 4119, 'sucker': 4120, 'businessman': 4121, 'mclaglen': 4122, 'josh': 4123, 'ustinov': 4124, 'distress': 4125, 'baldwin': 4126, '1987': 4127, 'dana': 4128, 'darren': 4129, 'spacey': 4130, 'cloud': 4131, 'soderbergh': 4132, 'shaki': 4133, 'sammi': 4134, 'femm': 4135, 'geek': 4136, 'compromis': 4137, 'fuller': 4138, 'nathan': 4139, 'accuraci': 4140, 'austin': 4141, 'uncov': 4142, 'primit': 4143, 'seal': 4144, 'tech': 4145, 'click': 4146, 'correctli': 4147, 'dee': 4148, 'norm': 4149, 'kumar': 4150, 'furiou': 4151, 'antonioni': 4152, 'unravel': 4153, 'jewel': 4154, 'fenc': 4155, 'deniro': 4156, 'wholli': 4157, 'reluct': 4158, 'judgment': 4159, 'polici': 4160, 'valid': 4161, 'exclus': 4162, 'fog': 4163, 'expedit': 4164, 'verbal': 4165, 'deceas': 4166, 'sid': 4167, 'tarantino': 4168, 'anchor': 4169, '1993': 4170, 'clash': 4171, 'alec': 4172, '2008': 4173, 'pocket': 4174, 'joel': 4175, 'patienc': 4176, '1995': 4177, 'sheet': 4178, 'roller': 4179, 'bake': 4180, 'hallucin': 4181, 'sand': 4182, 'slam': 4183, 'tax': 4184, 'fart': 4185, '3000': 4186, 'unfair': 4187, 'behold': 4188, 'malon': 4189, 'temper': 4190, 'trait': 4191, 'sunni': 4192, 'enforc': 4193, '1971': 4194, 'wretch': 4195, 'seldom': 4196, 'clerk': 4197, 'logan': 4198, 'wang': 4199, 'shanghai': 4200, 'debt': 4201, 'murray': 4202, 'ritual': 4203, 'fought': 4204, 'darn': 4205, 'mode': 4206, 'conduct': 4207, 'dreck': 4208, 'nicola': 4209, 'fabric': 4210, 'sustain': 4211, 'crippl': 4212, 'vanc': 4213, 'isabel': 4214, 'conscious': 4215, 'penni': 4216, 'sweep': 4217, 'preposter': 4218, 'soup': 4219, 'technicolor': 4220, 'runner': 4221, 'outlin': 4222, 'preston': 4223, 'stuart': 4224, 'helpless': 4225, 'divid': 4226, 'clau': 4227, 'pete': 4228, 'exhaust': 4229, 'tactic': 4230, 'despis': 4231, 'grief': 4232, 'bias': 4233, 'schedul': 4234, 'shell': 4235, 'phil': 4236, 'legaci': 4237, 'canyon': 4238, 'guitar': 4239, 'rita': 4240, 'scriptwrit': 4241, 'squad': 4242, 'robber': 4243, 'critiqu': 4244, 'stark': 4245, 'fundament': 4246, 'bridget': 4247, 'bloom': 4248, 'unexpectedli': 4249, 'passag': 4250, 'inabl': 4251, 'russia': 4252, 'boyl': 4253, 'gregori': 4254, 'jacket': 4255, 'cigarett': 4256, 'alley': 4257, 'sugar': 4258, 'marc': 4259, 'flair': 4260, 'lacklust': 4261, 'invad': 4262, 'culmin': 4263, 'rear': 4264, 'sentinel': 4265, 'delv': 4266, 'rehash': 4267, 'vomit': 4268, 'palanc': 4269, 'implic': 4270, 'sniper': 4271, 'drove': 4272, 'consciou': 4273, 'restrict': 4274, 'newman': 4275, 'downey': 4276, 'agenc': 4277, 'propos': 4278, 'connor': 4279, 'kansa': 4280, 'liberti': 4281, 'alicia': 4282, 'jodi': 4283, 'horn': 4284, 'pale': 4285, 'chainsaw': 4286, 'tripe': 4287, '22': 4288, 'ladder': 4289, 'rampag': 4290, 'cap': 4291, 'improb': 4292, 'behaviour': 4293, 'karl': 4294, 'rod': 4295, 'sharon': 4296, 'feat': 4297, 'wrench': 4298, 'vet': 4299, 'yeti': 4300, 'tendenc': 4301, 'arrow': 4302, 'lush': 4303, 'aesthet': 4304, 'foxx': 4305, 'awhil': 4306, 'delet': 4307, '1936': 4308, 'bacon': 4309, 'kolchak': 4310, 'rehears': 4311, 'mccoy': 4312, 'asylum': 4313, 'shortcom': 4314, 'minu': 4315, 'financ': 4316, 'stream': 4317, 'prank': 4318, 'rumor': 4319, 'coaster': 4320, 'tasteless': 4321, 'tomorrow': 4322, 'spice': 4323, 'globe': 4324, 'paradis': 4325, 'hackney': 4326, '1920': 4327, 'rhythm': 4328, 'basing': 4329, '1978': 4330, 'el': 4331, 'aristocrat': 4332, 'elit': 4333, 'underneath': 4334, 'lurk': 4335, 'suffici': 4336, 'hungri': 4337, '1988': 4338, 'newcom': 4339, 'fright': 4340, 'suspicion': 4341, 'conscienc': 4342, 'weav': 4343, 'visitor': 4344, 'wildli': 4345, 'amazon': 4346, 'filler': 4347, 'sung': 4348, 'scoop': 4349, 'loneli': 4350, '19th': 4351, 'paramount': 4352, 'thunderbird': 4353, 'hulk': 4354, 'wagner': 4355, 'penn': 4356, 'secondari': 4357, 'ram': 4358, 'atroc': 4359, 'ingeni': 4360, '1939': 4361, 'worship': 4362, 'smell': 4363, 'iv': 4364, 'literari': 4365, 'lectur': 4366, 'en': 4367, 'standout': 4368, 'wwe': 4369, 'teas': 4370, 'heist': 4371, 'grudg': 4372, 'couch': 4373, 'chavez': 4374, 'curli': 4375, 'leigh': 4376, 'recogniz': 4377, 'straightforward': 4378, 'naughti': 4379, 'inmat': 4380, '1989': 4381, 'choppi': 4382, 'chamberlain': 4383, 'minist': 4384, '75': 4385, 'entranc': 4386, 'brit': 4387, 'quietli': 4388, 'dirt': 4389, 'impos': 4390, 'beverli': 4391, 'tierney': 4392, 'cancer': 4393, 'posey': 4394, 'rub': 4395, 'hopkin': 4396, 'abrupt': 4397, 'springer': 4398, 'paxton': 4399, 'counterpart': 4400, 'immers': 4401, 'bread': 4402, 'laurenc': 4403, 'transcend': 4404, 'yearn': 4405, 'skeptic': 4406, 'sassi': 4407, 'entitl': 4408, 'net': 4409, 'attenborough': 4410, 'injuri': 4411, 'duel': 4412, 'bernard': 4413, 'morbid': 4414, 'clan': 4415, 'policeman': 4416, 'sublim': 4417, 'enthral': 4418, 'quaid': 4419, 'watcher': 4420, '1986': 4421, 'ratso': 4422, 'variat': 4423, 'nemesi': 4424, 'cattl': 4425, 'misguid': 4426, 'geni': 4427, 'lindsay': 4428, 'heartfelt': 4429, 'ace': 4430, 'moreov': 4431, 'esther': 4432, 'nolan': 4433, 'missil': 4434, 'convert': 4435, 'bean': 4436, 'graini': 4437, 'out': 4438, 'cruelti': 4439, 'youngest': 4440, 'moder': 4441, 'uncut': 4442, 'bye': 4443, 'hopelessli': 4444, 'puppi': 4445, 'grin': 4446, 'facil': 4447, 'carlito': 4448, 'dont': 4449, 'setup': 4450, 'kidman': 4451, 'unexplain': 4452, 'enabl': 4453, 'vader': 4454, 'poe': 4455, 'hk': 4456, 'egg': 4457, 'brood': 4458, 'rosemari': 4459, 'kitti': 4460, '1979': 4461, 'artsi': 4462, 'spiral': 4463, 'tyler': 4464, 'obstacl': 4465, 'diari': 4466, 'buzz': 4467, 'steadi': 4468, 'mytholog': 4469, 'reliabl': 4470, 'characteris': 4471, 'niec': 4472, 'christin': 4473, 'clueless': 4474, 'bounc': 4475, 'brendan': 4476, 'weather': 4477, 'bronson': 4478, 'effici': 4479, 'acquaint': 4480, 'narrow': 4481, 'oblig': 4482, 'baffl': 4483, 'hammi': 4484, 'heap': 4485, 'decept': 4486, 'despic': 4487, 'underworld': 4488, '1969': 4489, 'athlet': 4490, 'spontan': 4491, 'preming': 4492, 'hain': 4493, 'bewar': 4494, 'kline': 4495, 'disastr': 4496, 'sweat': 4497, 'martha': 4498, 'exterior': 4499, 'patricia': 4500, 'fuel': 4501, 'gina': 4502, 'gillian': 4503, 'tick': 4504, 'housewif': 4505, 'insipid': 4506, 'analyz': 4507, 'viewpoint': 4508, 'virtu': 4509, 'taboo': 4510, 'loi': 4511, 'injur': 4512, 'angst': 4513, '19': 4514, 'headach': 4515, 'enlist': 4516, 'loath': 4517, 'scar': 4518, 'dandi': 4519, 'rome': 4520, 'astound': 4521, 'outlaw': 4522, 'circu': 4523, 'mayhem': 4524, 'biker': 4525, 'dilemma': 4526, 'sleepwalk': 4527, 'sooner': 4528, 'mermaid': 4529, 'uh': 4530, 'shatter': 4531, 'renaiss': 4532, '73': 4533, 'preachi': 4534, 'hepburn': 4535, 'lester': 4536, 'harmless': 4537, 'trigger': 4538, 'suprem': 4539, 'candl': 4540, 'goof': 4541, 'fontain': 4542, 'oldest': 4543, 'ebert': 4544, 'phenomenon': 4545, 'steer': 4546, 'foolish': 4547, 'guin': 4548, 'stair': 4549, 'redund': 4550, 'contempt': 4551, 'hokey': 4552, 'hooker': 4553, 'boston': 4554, 'tripl': 4555, 'salt': 4556, 'surgeri': 4557, 'glorifi': 4558, 'scorses': 4559, 'overlong': 4560, 'cassavet': 4561, 'hostag': 4562, 'ariel': 4563, 'claustrophob': 4564, 'zoom': 4565, 'dish': 4566, 'bent': 4567, 'filth': 4568, 'amor': 4569, 'slimi': 4570, 'spade': 4571, 'camcord': 4572, 'gere': 4573, 'intric': 4574, 'sox': 4575, 'idol': 4576, 'dismal': 4577, 'immatur': 4578, 'whore': 4579, 'stimul': 4580, 'fluff': 4581, 'corbett': 4582, 'macho': 4583, 'perman': 4584, 'obligatori': 4585, 'muscl': 4586, 'assert': 4587, 'strongest': 4588, 'proport': 4589, 'conquer': 4590, 'cohen': 4591, 'schlock': 4592, 'flashi': 4593, 'shred': 4594, 'preced': 4595, 'alvin': 4596, 'frantic': 4597, 'dwarf': 4598, 'remad': 4599, '1976': 4600, 'joker': 4601, 'flirt': 4602, 'margin': 4603, 'cow': 4604, 'nolt': 4605, 'mount': 4606, 'down': 4607, 'shield': 4608, 'corman': 4609, 'gasp': 4610, 'gabl': 4611, 'antagonist': 4612, 'trivia': 4613, 'harold': 4614, 'spree': 4615, 'radiat': 4616, 'mutual': 4617, 'flag': 4618, 'transplant': 4619, 'widescreen': 4620, 'spinal': 4621, 'messi': 4622, 'zane': 4623, 'naschi': 4624, 'fascist': 4625, 'rhyme': 4626, 'beard': 4627, 'astronaut': 4628, 'keen': 4629, '1981': 4630, 'cush': 4631, 'faint': 4632, 'repris': 4633, 'carey': 4634, 'divin': 4635, '1945': 4636, 'instruct': 4637, 'neurot': 4638, 'barn': 4639, 'interestingli': 4640, '95': 4641, 'off': 4642, 'scandal': 4643, 'brush': 4644, 'sensual': 4645, 'triangl': 4646, 'danish': 4647, 'persuad': 4648, 'resum': 4649, 'mol': 4650, 'raj': 4651, 'flock': 4652, 'discern': 4653, 'departur': 4654, 'someday': 4655, 'strive': 4656, 'boob': 4657, '28': 4658, 'inflict': 4659, 'www': 4660, 'bachelor': 4661, 'info': 4662, 'wield': 4663, 'hara': 4664, 'mobil': 4665, 'fishburn': 4666, 'vaniti': 4667, 'deer': 4668, 'bitten': 4669, 'aborigin': 4670, 'ritchi': 4671, 'archiv': 4672, 'claud': 4673, 'carlo': 4674, 'anton': 4675, 'dame': 4676, 'mobster': 4677, 'cher': 4678, 'colin': 4679, 'ish': 4680, 'proclaim': 4681, 'europa': 4682, 'frontier': 4683, 'loretta': 4684, 'cliffhang': 4685, 'helm': 4686, 'casino': 4687, 'prophet': 4688, 'bate': 4689, 'submit': 4690, 'banter': 4691, 'heartwarm': 4692, 'pickford': 4693, 'dylan': 4694, 'biblic': 4695, 'clad': 4696, 'harrison': 4697, 'axe': 4698, 'jade': 4699, 'rot': 4700, 'hapless': 4701, 'fragil': 4702, 'traffic': 4703, 'artwork': 4704, 'parson': 4705, 'pixar': 4706, 'recit': 4707, 'earnest': 4708, 'miracul': 4709, 'kathryn': 4710, 'undermin': 4711, 'dim': 4712, 'cb': 4713, 'wendigo': 4714, 'cycl': 4715, 'senior': 4716, 'luka': 4717, 'hilar': 4718, 'hug': 4719, 'pacif': 4720, 'neill': 4721, 'timberlak': 4722, 'vibrant': 4723, 'melissa': 4724, 'holocaust': 4725, 'marlon': 4726, 'orphan': 4727, 'pc': 4728, 'winchest': 4729, 'venom': 4730, 'wardrob': 4731, 'trier': 4732, 'redneck': 4733, 'estrang': 4734, 'razor': 4735, 'bondag': 4736, 'blatantli': 4737, 'bikini': 4738, 'nope': 4739, 'articl': 4740, 'sicken': 4741, 'rooki': 4742, 'vile': 4743, 'legitim': 4744, 'lui': 4745, 'toronto': 4746, 'choke': 4747, 'flavor': 4748, 'foil': 4749, 'vanessa': 4750, 'misfortun': 4751, 'northern': 4752, 'eli': 4753, 'lucil': 4754, 'http': 4755, 'aris': 4756, 'feast': 4757, 'token': 4758, 'electron': 4759, 'illus': 4760, 'alexandr': 4761, 'static': 4762, 'akin': 4763, 'shepherd': 4764, 'breakfast': 4765, 'uma': 4766, 'cerebr': 4767, 'isra': 4768, 'mason': 4769, 'antholog': 4770, 'jordan': 4771, 'seedi': 4772, 'milo': 4773, 'jo': 4774, 'mathieu': 4775, 'clinic': 4776, 'outdat': 4777, 'feminin': 4778, 'oppon': 4779, 'disregard': 4780, 'howl': 4781, 'highway': 4782, 'retriev': 4783, 'charlton': 4784, 'gilbert': 4785, 'ideolog': 4786, 'shorter': 4787, 'audrey': 4788, 'tack': 4789, 'knightley': 4790, 'abund': 4791, 'leather': 4792, 'affleck': 4793, 'wrestler': 4794, 'turd': 4795, 'psych': 4796, 'styliz': 4797, 'peer': 4798, 'huston': 4799, 'cartoonish': 4800, 'smack': 4801, 'swept': 4802, 'boyer': 4803, 'ceremoni': 4804, 'linear': 4805, 'deem': 4806, 'nightclub': 4807, 'glare': 4808, 'fifth': 4809, 'magician': 4810, 'frog': 4811, 'comprehend': 4812, 'dudley': 4813, 'gunga': 4814, '1994': 4815, 'cuban': 4816, '4th': 4817, 'spine': 4818, 'collector': 4819, 'lifeless': 4820, 'lavish': 4821, 'conrad': 4822, 'durat': 4823, 'sleaz': 4824, 'breakdown': 4825, 'bogu': 4826, 'summar': 4827, 'whack': 4828, 'goldsworthi': 4829, 'newer': 4830, 'deliver': 4831, 'einstein': 4832, 'evolut': 4833, 'senat': 4834, 'monument': 4835, 'spawn': 4836, '1991': 4837, 'boo': 4838, 'greet': 4839, 'chip': 4840, 'plate': 4841, 'corn': 4842, 'client': 4843, 'toe': 4844, 'phenomen': 4845, 'lighter': 4846, 'mitch': 4847, 'energet': 4848, 'btw': 4849, 'snatch': 4850, 'salman': 4851, 'bastard': 4852, 'cemeteri': 4853, 'compris': 4854, 'potter': 4855, 'tara': 4856, 'uniformli': 4857, 'moe': 4858, 'braveheart': 4859, 'nina': 4860, 'alleg': 4861, 'fluid': 4862, 'belli': 4863, 'jare': 4864, 'sorrow': 4865, 'clara': 4866, 'luxuri': 4867, 'kent': 4868, 'randolph': 4869, 'healthi': 4870, 'pronounc': 4871, 'spectacl': 4872, 'embark': 4873, 'inaccuraci': 4874, 'undertak': 4875, 'trauma': 4876, 'signal': 4877, 'wtf': 4878, 'ie': 4879, 'eleven': 4880, 'appl': 4881, 'jedi': 4882, 'kazan': 4883, 'replay': 4884, '1977': 4885, 'firmli': 4886, 'ol': 4887, '1974': 4888, 'bori': 4889, 'armstrong': 4890, 'constitut': 4891, 'outright': 4892, 'occup': 4893, 'historian': 4894, 'lex': 4895, 'judd': 4896, 'undead': 4897, 'creek': 4898, 'gilliam': 4899, 'neatli': 4900, 'cecil': 4901, 'liu': 4902, 'capot': 4903, 'mcqueen': 4904, 'jule': 4905, 'evelyn': 4906, 'jam': 4907, 'bulk': 4908, 'antonio': 4909, 'miami': 4910, 'porter': 4911, 'groan': 4912, 'propheci': 4913, 'tokyo': 4914, 'forgiven': 4915, 'spray': 4916, 'meal': 4917, 'pepper': 4918, 'mum': 4919, 'kiddi': 4920, 'conan': 4921, 'aussi': 4922, 'congratul': 4923, 'walt': 4924, 'sacrif': 4925, 'unattract': 4926, 'comprehens': 4927, 'knee': 4928, 'id': 4929, 'abound': 4930, 'ash': 4931, 'vain': 4932, 'galaxi': 4933, 'decapit': 4934, 'genet': 4935, 'roar': 4936, 'comb': 4937, 'blur': 4938, 'sidewalk': 4939, 'poker': 4940, '1985': 4941, 'unsuspect': 4942, 'fruit': 4943, 'lanc': 4944, 'paula': 4945, 'goldblum': 4946, 'cape': 4947, 'vignett': 4948, 'pioneer': 4949, 'lauren': 4950, 'inclus': 4951, 'curtain': 4952, 'palm': 4953, 'inaccur': 4954, 'basket': 4955, 'subtli': 4956, 'bait': 4957, 'relentless': 4958, 'miniseri': 4959, 'truman': 4960, 'carmen': 4961, 'rosario': 4962, 'bsg': 4963, 'masterson': 4964, 'scarfac': 4965, 'dubiou': 4966, 'ingrid': 4967, 'optimist': 4968, 'playboy': 4969, 'spill': 4970, 'monti': 4971, 'incorrect': 4972, 'evan': 4973, 'macabr': 4974, 'motorcycl': 4975, 'sophi': 4976, 'verg': 4977, 'orchestr': 4978, 'hostil': 4979, 'hackman': 4980, 'jill': 4981, 'asset': 4982, 'rapidli': 4983, 'weari': 4984, 'drone': 4985, 'growth': 4986, '21st': 4987, 'bravo': 4988, 'handicap': 4989, 'modest': 4990, 'scariest': 4991, 'epitom': 4992, 'ghetto': 4993, 'mice': 4994, 'reincarn': 4995, 'omin': 4996, 'frontal': 4997, 'profil': 4998, 'sparkl': 4999}\n"
     ]
    }
   ],
   "source": [
    "# TODO: Use this space to determine the five most frequently appearing words in the training set.\n",
    "print(word_dict)"
   ]
  },
  {
   "cell_type": "markdown",
   "metadata": {},
   "source": [
    "### Save `word_dict`\n",
    "\n",
    "Later on when we construct an endpoint which processes a submitted review we will need to make use of the `word_dict` which we have created. As such, we will save it to a file now for future use."
   ]
  },
  {
   "cell_type": "code",
   "execution_count": 13,
   "metadata": {},
   "outputs": [],
   "source": [
    "data_dir = '../data/pytorch' # The folder we will use for storing data\n",
    "if not os.path.exists(data_dir): # Make sure that the folder exists\n",
    "    os.makedirs(data_dir)"
   ]
  },
  {
   "cell_type": "code",
   "execution_count": 14,
   "metadata": {},
   "outputs": [],
   "source": [
    "with open(os.path.join(data_dir, 'word_dict.pkl'), \"wb\") as f:\n",
    "    pickle.dump(word_dict, f)"
   ]
  },
  {
   "cell_type": "markdown",
   "metadata": {},
   "source": [
    "### Transform the reviews\n",
    "\n",
    "Now that we have our word dictionary which allows us to transform the words appearing in the reviews into integers, it is time to make use of it and convert our reviews to their integer sequence representation, making sure to pad or truncate to a fixed length, which in our case is `500`."
   ]
  },
  {
   "cell_type": "code",
   "execution_count": 15,
   "metadata": {},
   "outputs": [],
   "source": [
    "def convert_and_pad(word_dict, sentence, pad=500):\n",
    "    NOWORD = 0 # We will use 0 to represent the 'no word' category\n",
    "    INFREQ = 1 # and we use 1 to represent the infrequent words, i.e., words not appearing in word_dict\n",
    "    \n",
    "    working_sentence = [NOWORD] * pad\n",
    "    \n",
    "    for word_index, word in enumerate(sentence[:pad]):\n",
    "        if word in word_dict:\n",
    "            working_sentence[word_index] = word_dict[word]\n",
    "        else:\n",
    "            working_sentence[word_index] = INFREQ\n",
    "            \n",
    "    return working_sentence, min(len(sentence), pad)\n",
    "\n",
    "def convert_and_pad_data(word_dict, data, pad=500):\n",
    "    result = []\n",
    "    lengths = []\n",
    "    \n",
    "    for sentence in data:\n",
    "        converted, leng = convert_and_pad(word_dict, sentence, pad)\n",
    "        result.append(converted)\n",
    "        lengths.append(leng)\n",
    "        \n",
    "    return np.array(result), np.array(lengths)"
   ]
  },
  {
   "cell_type": "code",
   "execution_count": 16,
   "metadata": {},
   "outputs": [],
   "source": [
    "train_X, train_X_len = convert_and_pad_data(word_dict, train_X)\n",
    "test_X, test_X_len = convert_and_pad_data(word_dict, test_X)"
   ]
  },
  {
   "cell_type": "markdown",
   "metadata": {},
   "source": [
    "As a quick check to make sure that things are working as intended, check to see what one of the reviews in the training set looks like after having been processeed. Does this look reasonable? What is the length of a review in the training set?"
   ]
  },
  {
   "cell_type": "code",
   "execution_count": 17,
   "metadata": {},
   "outputs": [
    {
     "name": "stdout",
     "output_type": "stream",
     "text": [
      "500\n"
     ]
    },
    {
     "data": {
      "text/plain": [
       "array([ 135,   80,  690,   29,  433,   29,   16,   19,  781,   11,   12,\n",
       "       1280,    1, 1521,  394,   30,    5,    4,   21,   58,  332,  122,\n",
       "         12, 1280,    1, 1521,   37,  171,  236,    1,    1,  363,    2,\n",
       "        129, 1457,  609, 2783,  432,    5,   80,  690,   10,  173, 2462,\n",
       "         82,   39, 1059,  119,  432,  615, 1246,  129, 2758,    3, 4314,\n",
       "        251,    5,  601, 1280,    1, 1521,   67,  260,    3, 2519, 1313,\n",
       "        309,    1,    1,   46,  236,  184,    1,   13,    1,    9,  439,\n",
       "         14,  584,   99,  834,   29,   13, 1812,    4,  187,    5,    1,\n",
       "          9,  156,    1,  143,  347,    3,   59,    5,   61,  370,  180,\n",
       "        854,   22,    1,   14,    1,  378,  156,   61, 1799,   61,  126,\n",
       "          5,    3,    4,  431,    4,    1,    1, 1870,    1, 4356, 1237,\n",
       "       2186,   17,   32,  125,  746,   22,    1,  421,  763, 1052,  729,\n",
       "        412, 1313,  213,  131,    5,    1, 4356,   27,  123, 1237, 2186,\n",
       "       3150, 1210,  209,  389,  510,  859, 2882,   10,  167,  482, 3782,\n",
       "       2186,  967, 1469,    9,  129,   38,  153,   13,    3,  268,    9,\n",
       "        297,  345,   28,    6, 1671,  500,  301,  407,  403,   13,    9,\n",
       "        502,  114,    6,   39,  156,  294,   13,  148,   54,  648,  271,\n",
       "         86,  122,   14,  932,   64,  234,   80,  358,   23,   35,  502,\n",
       "         75,  114,    6,   11,   23,   35,  110,  232, 1953,  660, 1671,\n",
       "        135,   28,    6,    3,    5,    4,    1,    1,    1, 4248,    1,\n",
       "          1, 3281,    1, 4674,    1, 1549, 3416,    1,    1, 4675,    1,\n",
       "          1,    1,    1,    1, 1991, 2534,    1,    1,  227, 1037,    4,\n",
       "          1,    1, 3816, 2863, 3067,    1,    1,   16,  122,   11,   40,\n",
       "          1,    1,   39,    5,   70,  394,   12,    2,  249,  202,  171,\n",
       "        236,   12,  156,   75,  149,    2,   29,   80,  690,  641,    2,\n",
       "         16,   75,  879,   12,    2,    7,   85,  126, 2155,  570, 3068,\n",
       "         49, 1820,   13,   42,  156,    1,    1,    0,    0,    0,    0,\n",
       "          0,    0,    0,    0,    0,    0,    0,    0,    0,    0,    0,\n",
       "          0,    0,    0,    0,    0,    0,    0,    0,    0,    0,    0,\n",
       "          0,    0,    0,    0,    0,    0,    0,    0,    0,    0,    0,\n",
       "          0,    0,    0,    0,    0,    0,    0,    0,    0,    0,    0,\n",
       "          0,    0,    0,    0,    0,    0,    0,    0,    0,    0,    0,\n",
       "          0,    0,    0,    0,    0,    0,    0,    0,    0,    0,    0,\n",
       "          0,    0,    0,    0,    0,    0,    0,    0,    0,    0,    0,\n",
       "          0,    0,    0,    0,    0,    0,    0,    0,    0,    0,    0,\n",
       "          0,    0,    0,    0,    0,    0,    0,    0,    0,    0,    0,\n",
       "          0,    0,    0,    0,    0,    0,    0,    0,    0,    0,    0,\n",
       "          0,    0,    0,    0,    0,    0,    0,    0,    0,    0,    0,\n",
       "          0,    0,    0,    0,    0,    0,    0,    0,    0,    0,    0,\n",
       "          0,    0,    0,    0,    0,    0,    0,    0,    0,    0,    0,\n",
       "          0,    0,    0,    0,    0,    0,    0,    0,    0,    0,    0,\n",
       "          0,    0,    0,    0,    0,    0,    0,    0,    0,    0,    0,\n",
       "          0,    0,    0,    0,    0,    0,    0,    0,    0,    0,    0,\n",
       "          0,    0,    0,    0,    0,    0,    0,    0,    0,    0,    0,\n",
       "          0,    0,    0,    0,    0,    0,    0,    0,    0,    0,    0,\n",
       "          0,    0,    0,    0,    0])"
      ]
     },
     "execution_count": 17,
     "metadata": {},
     "output_type": "execute_result"
    }
   ],
   "source": [
    "# Use this cell to examine one of the processed reviews to make sure everything is working as intended.\n",
    "print(len(train_X[100]))\n",
    "(train_X[0])"
   ]
  },
  {
   "cell_type": "markdown",
   "metadata": {},
   "source": [
    "**Question:** In the cells above we use the `preprocess_data` and `convert_and_pad_data` methods to process both the training and testing set. Why or why not might this be a problem?"
   ]
  },
  {
   "cell_type": "markdown",
   "metadata": {},
   "source": [
    "**Answer:**\n",
    "- The word_dict is built using training data only. \n",
    "- It may not represent the vocabulary used in the test data.\n",
    "- This might be a problem because train and test data are of the same size (25000 reviews)"
   ]
  },
  {
   "cell_type": "markdown",
   "metadata": {},
   "source": [
    "## Step 3: Upload the data to S3\n",
    "\n",
    "As in the XGBoost notebook, we will need to upload the training dataset to S3 in order for our training code to access it. For now we will save it locally and we will upload to S3 later on.\n",
    "\n",
    "### Save the processed training dataset locally\n",
    "\n",
    "It is important to note the format of the data that we are saving as we will need to know it when we write the training code. In our case, each row of the dataset has the form `label`, `length`, `review[500]` where `review[500]` is a sequence of `500` integers representing the words in the review."
   ]
  },
  {
   "cell_type": "code",
   "execution_count": 18,
   "metadata": {},
   "outputs": [],
   "source": [
    "import pandas as pd\n",
    "    \n",
    "pd.concat([pd.DataFrame(train_y), pd.DataFrame(train_X_len), pd.DataFrame(train_X)], axis=1) \\\n",
    "        .to_csv(os.path.join(data_dir, 'train.csv'), header=False, index=False)"
   ]
  },
  {
   "cell_type": "markdown",
   "metadata": {},
   "source": [
    "### Uploading the training data\n",
    "\n",
    "\n",
    "Next, we need to upload the training data to the SageMaker default S3 bucket so that we can provide access to it while training our model."
   ]
  },
  {
   "cell_type": "code",
   "execution_count": 19,
   "metadata": {},
   "outputs": [],
   "source": [
    "import sagemaker\n",
    "\n",
    "sagemaker_session = sagemaker.Session()\n",
    "\n",
    "bucket = sagemaker_session.default_bucket()\n",
    "prefix = 'sagemaker/sentiment_rnn'\n",
    "\n",
    "role = sagemaker.get_execution_role()"
   ]
  },
  {
   "cell_type": "code",
   "execution_count": 20,
   "metadata": {},
   "outputs": [],
   "source": [
    "input_data = sagemaker_session.upload_data(path=data_dir, bucket=bucket, key_prefix=prefix)"
   ]
  },
  {
   "cell_type": "markdown",
   "metadata": {},
   "source": [
    "**NOTE:** The cell above uploads the entire contents of our data directory. This includes the `word_dict.pkl` file. This is fortunate as we will need this later on when we create an endpoint that accepts an arbitrary review. For now, we will just take note of the fact that it resides in the data directory (and so also in the S3 training bucket) and that we will need to make sure it gets saved in the model directory."
   ]
  },
  {
   "cell_type": "markdown",
   "metadata": {},
   "source": [
    "## Step 4: Build and Train the PyTorch Model\n",
    "\n",
    "In the XGBoost notebook we discussed what a model is in the SageMaker framework. In particular, a model comprises three objects\n",
    "\n",
    " - Model Artifacts,\n",
    " - Training Code, and\n",
    " - Inference Code,\n",
    " \n",
    "each of which interact with one another. In the XGBoost example we used training and inference code that was provided by Amazon. Here we will still be using containers provided by Amazon with the added benefit of being able to include our own custom code.\n",
    "\n",
    "We will start by implementing our own neural network in PyTorch along with a training script. For the purposes of this project we have provided the necessary model object in the `model.py` file, inside of the `train` folder. You can see the provided implementation by running the cell below."
   ]
  },
  {
   "cell_type": "code",
   "execution_count": 60,
   "metadata": {},
   "outputs": [
    {
     "name": "stdout",
     "output_type": "stream",
     "text": [
      "\u001b[34mimport\u001b[39;49;00m \u001b[04m\u001b[36mtorch.nn\u001b[39;49;00m \u001b[34mas\u001b[39;49;00m \u001b[04m\u001b[36mnn\u001b[39;49;00m\r\n",
      "\r\n",
      "\u001b[34mclass\u001b[39;49;00m \u001b[04m\u001b[32mLSTMClassifier\u001b[39;49;00m(nn.Module):\r\n",
      "    \u001b[33m\"\"\"\u001b[39;49;00m\r\n",
      "\u001b[33m    This is the simple RNN model we will be using to perform Sentiment Analysis.\u001b[39;49;00m\r\n",
      "\u001b[33m    \"\"\"\u001b[39;49;00m\r\n",
      "\r\n",
      "    \u001b[34mdef\u001b[39;49;00m \u001b[32m__init__\u001b[39;49;00m(\u001b[36mself\u001b[39;49;00m, embedding_dim, hidden_dim, vocab_size):\r\n",
      "        \u001b[33m\"\"\"\u001b[39;49;00m\r\n",
      "\u001b[33m        Initialize the model by settingg up the various layers.\u001b[39;49;00m\r\n",
      "\u001b[33m        \"\"\"\u001b[39;49;00m\r\n",
      "        \u001b[36msuper\u001b[39;49;00m(LSTMClassifier, \u001b[36mself\u001b[39;49;00m).\u001b[32m__init__\u001b[39;49;00m()\r\n",
      "\r\n",
      "        \u001b[36mself\u001b[39;49;00m.embedding = nn.Embedding(vocab_size, embedding_dim, padding_idx=\u001b[34m0\u001b[39;49;00m)\r\n",
      "        \u001b[36mself\u001b[39;49;00m.lstm = nn.LSTM(embedding_dim, hidden_dim)\r\n",
      "        \u001b[36mself\u001b[39;49;00m.dense = nn.Linear(in_features=hidden_dim, out_features=\u001b[34m1\u001b[39;49;00m)\r\n",
      "        \u001b[36mself\u001b[39;49;00m.sig = nn.Sigmoid()\r\n",
      "        \r\n",
      "        \u001b[36mself\u001b[39;49;00m.word_dict = \u001b[36mNone\u001b[39;49;00m\r\n",
      "\r\n",
      "    \u001b[34mdef\u001b[39;49;00m \u001b[32mforward\u001b[39;49;00m(\u001b[36mself\u001b[39;49;00m, x):\r\n",
      "        \u001b[33m\"\"\"\u001b[39;49;00m\r\n",
      "\u001b[33m        Perform a forward pass of our model on some input.\u001b[39;49;00m\r\n",
      "\u001b[33m        \"\"\"\u001b[39;49;00m\r\n",
      "        x = x.t()\r\n",
      "        lengths = x[\u001b[34m0\u001b[39;49;00m,:]\r\n",
      "        reviews = x[\u001b[34m1\u001b[39;49;00m:,:]\r\n",
      "        embeds = \u001b[36mself\u001b[39;49;00m.embedding(reviews)\r\n",
      "        lstm_out, _ = \u001b[36mself\u001b[39;49;00m.lstm(embeds)\r\n",
      "        out = \u001b[36mself\u001b[39;49;00m.dense(lstm_out)\r\n",
      "        out = out[lengths - \u001b[34m1\u001b[39;49;00m, \u001b[36mrange\u001b[39;49;00m(\u001b[36mlen\u001b[39;49;00m(lengths))]\r\n",
      "        \u001b[34mreturn\u001b[39;49;00m \u001b[36mself\u001b[39;49;00m.sig(out.squeeze())\r\n"
     ]
    }
   ],
   "source": [
    "!pygmentize train/model.py"
   ]
  },
  {
   "cell_type": "markdown",
   "metadata": {},
   "source": [
    "The important takeaway from the implementation provided is that there are three parameters that we may wish to tweak to improve the performance of our model. These are the embedding dimension, the hidden dimension and the size of the vocabulary. We will likely want to make these parameters configurable in the training script so that if we wish to modify them we do not need to modify the script itself. We will see how to do this later on. To start we will write some of the training code in the notebook so that we can more easily diagnose any issues that arise.\n",
    "\n",
    "First we will load a small portion of the training data set to use as a sample. It would be very time consuming to try and train the model completely in the notebook as we do not have access to a gpu and the compute instance that we are using is not particularly powerful. However, we can work on a small bit of the data to get a feel for how our training script is behaving."
   ]
  },
  {
   "cell_type": "code",
   "execution_count": 21,
   "metadata": {},
   "outputs": [],
   "source": [
    "import torch\n",
    "import torch.utils.data\n",
    "\n",
    "# Read in only the first 250 rows\n",
    "train_sample = pd.read_csv(os.path.join(data_dir, 'train.csv'), header=None, names=None, nrows=250)\n",
    "\n",
    "# Turn the input pandas dataframe into tensors\n",
    "train_sample_y = torch.from_numpy(train_sample[[0]].values).float().squeeze()\n",
    "train_sample_X = torch.from_numpy(train_sample.drop([0], axis=1).values).long()\n",
    "\n",
    "# Build the dataset\n",
    "train_sample_ds = torch.utils.data.TensorDataset(train_sample_X, train_sample_y)\n",
    "# Build the dataloader\n",
    "train_sample_dl = torch.utils.data.DataLoader(train_sample_ds, batch_size=50)"
   ]
  },
  {
   "cell_type": "markdown",
   "metadata": {},
   "source": [
    "### (TODO) Writing the training method\n",
    "\n",
    "Next we need to write the training code itself. This should be very similar to training methods that you have written before to train PyTorch models. We will leave any difficult aspects such as model saving / loading and parameter loading until a little later."
   ]
  },
  {
   "cell_type": "code",
   "execution_count": 22,
   "metadata": {},
   "outputs": [],
   "source": [
    "def train(model, train_loader, epochs, optimizer, loss_fn, device):\n",
    "    for epoch in range(1, epochs + 1):\n",
    "        model.train()\n",
    "        total_loss = 0\n",
    "        for batch in train_loader:         \n",
    "            batch_X, batch_y = batch\n",
    "            \n",
    "            batch_X = batch_X.to(device)\n",
    "            batch_y = batch_y.to(device)\n",
    "            \n",
    "            # TODO: Complete this train method to train the model provided.\n",
    "            optimizer.zero_grad()\n",
    "            output = model.forward(batch_X)\n",
    "            loss = loss_fn(output,batch_y)\n",
    "            loss.backward()\n",
    "            optimizer.step()\n",
    "            \n",
    "            total_loss += loss.data.item()\n",
    "        print(\"Epoch: {}, BCELoss: {}\".format(epoch, total_loss / len(train_loader)))"
   ]
  },
  {
   "cell_type": "markdown",
   "metadata": {},
   "source": [
    "Supposing we have the training method above, we will test that it is working by writing a bit of code in the notebook that executes our training method on the small sample training set that we loaded earlier. The reason for doing this in the notebook is so that we have an opportunity to fix any errors that arise early when they are easier to diagnose."
   ]
  },
  {
   "cell_type": "code",
   "execution_count": 23,
   "metadata": {},
   "outputs": [
    {
     "name": "stdout",
     "output_type": "stream",
     "text": [
      "Epoch: 1, BCELoss: 0.6965985178947449\n",
      "Epoch: 2, BCELoss: 0.685363495349884\n",
      "Epoch: 3, BCELoss: 0.6753462672233581\n",
      "Epoch: 4, BCELoss: 0.6644396185874939\n",
      "Epoch: 5, BCELoss: 0.651617419719696\n"
     ]
    }
   ],
   "source": [
    "import torch.optim as optim\n",
    "from train.model import LSTMClassifier\n",
    "\n",
    "device = torch.device(\"cuda\" if torch.cuda.is_available() else \"cpu\")\n",
    "model = LSTMClassifier(32, 100, 5000).to(device)\n",
    "optimizer = optim.Adam(model.parameters())\n",
    "loss_fn = torch.nn.BCELoss()\n",
    "\n",
    "train(model, train_sample_dl, 5, optimizer, loss_fn, device)"
   ]
  },
  {
   "cell_type": "markdown",
   "metadata": {},
   "source": [
    "In order to construct a PyTorch model using SageMaker we must provide SageMaker with a training script. We may optionally include a directory which will be copied to the container and from which our training code will be run. When the training container is executed it will check the uploaded directory (if there is one) for a `requirements.txt` file and install any required Python libraries, after which the training script will be run."
   ]
  },
  {
   "cell_type": "markdown",
   "metadata": {},
   "source": [
    "### (TODO) Training the model\n",
    "\n",
    "When a PyTorch model is constructed in SageMaker, an entry point must be specified. This is the Python file which will be executed when the model is trained. Inside of the `train` directory is a file called `train.py` which has been provided and which contains most of the necessary code to train our model. The only thing that is missing is the implementation of the `train()` method which you wrote earlier in this notebook.\n",
    "\n",
    "**TODO**: Copy the `train()` method written above and paste it into the `train/train.py` file where required.\n",
    "\n",
    "The way that SageMaker passes hyperparameters to the training script is by way of arguments. These arguments can then be parsed and used in the training script. To see how this is done take a look at the provided `train/train.py` file."
   ]
  },
  {
   "cell_type": "code",
   "execution_count": 24,
   "metadata": {},
   "outputs": [],
   "source": [
    "from sagemaker.pytorch import PyTorch\n",
    "\n",
    "estimator = PyTorch(entry_point=\"train.py\",\n",
    "                    source_dir=\"train\",\n",
    "                    role=role,\n",
    "                    framework_version='0.4.0',\n",
    "                    train_instance_count=1,\n",
    "                    train_instance_type='ml.p2.xlarge',\n",
    "                    hyperparameters={\n",
    "                        'epochs': 10,\n",
    "                        'hidden_dim': 200,\n",
    "                    })"
   ]
  },
  {
   "cell_type": "code",
   "execution_count": 25,
   "metadata": {},
   "outputs": [
    {
     "name": "stdout",
     "output_type": "stream",
     "text": [
      "2019-09-02 20:41:05 Starting - Starting the training job...\n",
      "2019-09-02 20:41:10 Starting - Launching requested ML instances......\n",
      "2019-09-02 20:42:11 Starting - Preparing the instances for training......\n",
      "2019-09-02 20:43:20 Downloading - Downloading input data...\n",
      "2019-09-02 20:43:56 Training - Downloading the training image...\n",
      "2019-09-02 20:44:24 Training - Training image download completed. Training in progress.\n",
      "\u001b[31mbash: cannot set terminal process group (-1): Inappropriate ioctl for device\u001b[0m\n",
      "\u001b[31mbash: no job control in this shell\u001b[0m\n",
      "\u001b[31m2019-09-02 20:44:23,811 sagemaker-containers INFO     Imported framework sagemaker_pytorch_container.training\u001b[0m\n",
      "\u001b[31m2019-09-02 20:44:23,837 sagemaker_pytorch_container.training INFO     Block until all host DNS lookups succeed.\u001b[0m\n",
      "\u001b[31m2019-09-02 20:44:30,086 sagemaker_pytorch_container.training INFO     Invoking user training script.\u001b[0m\n",
      "\u001b[31m2019-09-02 20:44:30,331 sagemaker-containers INFO     Module train does not provide a setup.py. \u001b[0m\n",
      "\u001b[31mGenerating setup.py\u001b[0m\n",
      "\u001b[31m2019-09-02 20:44:30,331 sagemaker-containers INFO     Generating setup.cfg\u001b[0m\n",
      "\u001b[31m2019-09-02 20:44:30,331 sagemaker-containers INFO     Generating MANIFEST.in\u001b[0m\n",
      "\u001b[31m2019-09-02 20:44:30,331 sagemaker-containers INFO     Installing module with the following command:\u001b[0m\n",
      "\u001b[31m/usr/bin/python -m pip install -U . -r requirements.txt\u001b[0m\n",
      "\u001b[31mProcessing /opt/ml/code\u001b[0m\n",
      "\u001b[31mCollecting pandas (from -r requirements.txt (line 1))\n",
      "  Downloading https://files.pythonhosted.org/packages/74/24/0cdbf8907e1e3bc5a8da03345c23cbed7044330bb8f73bb12e711a640a00/pandas-0.24.2-cp35-cp35m-manylinux1_x86_64.whl (10.0MB)\u001b[0m\n",
      "\u001b[31mCollecting numpy (from -r requirements.txt (line 2))\u001b[0m\n",
      "\u001b[31m  Downloading https://files.pythonhosted.org/packages/d4/64/7619774f0bd8ef364d46a5df8eb1bc78784cd787324b9624f6793e72f787/numpy-1.17.1-cp35-cp35m-manylinux1_x86_64.whl (20.1MB)\u001b[0m\n",
      "\u001b[31mCollecting nltk (from -r requirements.txt (line 3))\n",
      "  Downloading https://files.pythonhosted.org/packages/f6/1d/d925cfb4f324ede997f6d47bea4d9babba51b49e87a767c170b77005889d/nltk-3.4.5.zip (1.5MB)\u001b[0m\n",
      "\u001b[31mCollecting beautifulsoup4 (from -r requirements.txt (line 4))\n",
      "  Downloading https://files.pythonhosted.org/packages/1a/b7/34eec2fe5a49718944e215fde81288eec1fa04638aa3fb57c1c6cd0f98c3/beautifulsoup4-4.8.0-py3-none-any.whl (97kB)\u001b[0m\n",
      "\u001b[31mCollecting html5lib (from -r requirements.txt (line 5))\n",
      "  Downloading https://files.pythonhosted.org/packages/a5/62/bbd2be0e7943ec8504b517e62bab011b4946e1258842bc159e5dfde15b96/html5lib-1.0.1-py2.py3-none-any.whl (117kB)\u001b[0m\n",
      "\u001b[31mCollecting pytz>=2011k (from pandas->-r requirements.txt (line 1))\n",
      "  Downloading https://files.pythonhosted.org/packages/87/76/46d697698a143e05f77bec5a526bf4e56a0be61d63425b68f4ba553b51f2/pytz-2019.2-py2.py3-none-any.whl (508kB)\u001b[0m\n",
      "\u001b[31mRequirement already satisfied, skipping upgrade: python-dateutil>=2.5.0 in /usr/local/lib/python3.5/dist-packages (from pandas->-r requirements.txt (line 1)) (2.7.5)\u001b[0m\n",
      "\u001b[31mRequirement already satisfied, skipping upgrade: six in /usr/local/lib/python3.5/dist-packages (from nltk->-r requirements.txt (line 3)) (1.11.0)\u001b[0m\n",
      "\u001b[31mCollecting soupsieve>=1.2 (from beautifulsoup4->-r requirements.txt (line 4))\n",
      "  Downloading https://files.pythonhosted.org/packages/0b/44/0474f2207fdd601bb25787671c81076333d2c80e6f97e92790f8887cf682/soupsieve-1.9.3-py2.py3-none-any.whl\u001b[0m\n",
      "\u001b[31mCollecting webencodings (from html5lib->-r requirements.txt (line 5))\u001b[0m\n",
      "\u001b[31m  Downloading https://files.pythonhosted.org/packages/f4/24/2a3e3df732393fed8b3ebf2ec078f05546de641fe1b667ee316ec1dcf3b7/webencodings-0.5.1-py2.py3-none-any.whl\u001b[0m\n",
      "\u001b[31mBuilding wheels for collected packages: nltk, train\n",
      "  Running setup.py bdist_wheel for nltk: started\n",
      "  Running setup.py bdist_wheel for nltk: finished with status 'done'\n",
      "  Stored in directory: /root/.cache/pip/wheels/96/86/f6/68ab24c23f207c0077381a5e3904b2815136b879538a24b483\n",
      "  Running setup.py bdist_wheel for train: started\u001b[0m\n",
      "\u001b[31m  Running setup.py bdist_wheel for train: finished with status 'done'\n",
      "  Stored in directory: /tmp/pip-ephem-wheel-cache-243bmddf/wheels/35/24/16/37574d11bf9bde50616c67372a334f94fa8356bc7164af8ca3\u001b[0m\n",
      "\u001b[31mSuccessfully built nltk train\u001b[0m\n",
      "\u001b[31mInstalling collected packages: numpy, pytz, pandas, nltk, soupsieve, beautifulsoup4, webencodings, html5lib, train\n",
      "  Found existing installation: numpy 1.15.4\n",
      "    Uninstalling numpy-1.15.4:\u001b[0m\n",
      "\u001b[31m      Successfully uninstalled numpy-1.15.4\u001b[0m\n",
      "\u001b[31mSuccessfully installed beautifulsoup4-4.8.0 html5lib-1.0.1 nltk-3.4.5 numpy-1.17.1 pandas-0.24.2 pytz-2019.2 soupsieve-1.9.3 train-1.0.0 webencodings-0.5.1\u001b[0m\n",
      "\u001b[31mYou are using pip version 18.1, however version 19.2.3 is available.\u001b[0m\n",
      "\u001b[31mYou should consider upgrading via the 'pip install --upgrade pip' command.\u001b[0m\n",
      "\u001b[31m2019-09-02 20:44:42,445 sagemaker-containers INFO     Invoking user script\n",
      "\u001b[0m\n",
      "\u001b[31mTraining Env:\n",
      "\u001b[0m\n",
      "\u001b[31m{\n",
      "    \"model_dir\": \"/opt/ml/model\",\n",
      "    \"resource_config\": {\n",
      "        \"network_interface_name\": \"eth0\",\n",
      "        \"hosts\": [\n",
      "            \"algo-1\"\n",
      "        ],\n",
      "        \"current_host\": \"algo-1\"\n",
      "    },\n",
      "    \"output_data_dir\": \"/opt/ml/output/data\",\n",
      "    \"input_dir\": \"/opt/ml/input\",\n",
      "    \"channel_input_dirs\": {\n",
      "        \"training\": \"/opt/ml/input/data/training\"\n",
      "    },\n",
      "    \"job_name\": \"sagemaker-pytorch-2019-09-02-20-41-05-460\",\n",
      "    \"output_intermediate_dir\": \"/opt/ml/output/intermediate\",\n",
      "    \"hosts\": [\n",
      "        \"algo-1\"\n",
      "    ],\n",
      "    \"current_host\": \"algo-1\",\n",
      "    \"input_data_config\": {\n",
      "        \"training\": {\n",
      "            \"TrainingInputMode\": \"File\",\n",
      "            \"RecordWrapperType\": \"None\",\n",
      "            \"S3DistributionType\": \"FullyReplicated\"\n",
      "        }\n",
      "    },\n",
      "    \"framework_module\": \"sagemaker_pytorch_container.training:main\",\n",
      "    \"network_interface_name\": \"eth0\",\n",
      "    \"output_dir\": \"/opt/ml/output\",\n",
      "    \"input_config_dir\": \"/opt/ml/input/config\",\n",
      "    \"module_dir\": \"s3://sagemaker-us-east-1-117240919775/sagemaker-pytorch-2019-09-02-20-41-05-460/source/sourcedir.tar.gz\",\n",
      "    \"log_level\": 20,\n",
      "    \"num_gpus\": 1,\n",
      "    \"additional_framework_parameters\": {},\n",
      "    \"user_entry_point\": \"train.py\",\n",
      "    \"hyperparameters\": {\n",
      "        \"epochs\": 10,\n",
      "        \"hidden_dim\": 200\n",
      "    },\n",
      "    \"module_name\": \"train\",\n",
      "    \"num_cpus\": 4\u001b[0m\n",
      "\u001b[31m}\n",
      "\u001b[0m\n",
      "\u001b[31mEnvironment variables:\n",
      "\u001b[0m\n",
      "\u001b[31mPYTHONPATH=/usr/local/bin:/usr/lib/python35.zip:/usr/lib/python3.5:/usr/lib/python3.5/plat-x86_64-linux-gnu:/usr/lib/python3.5/lib-dynload:/usr/local/lib/python3.5/dist-packages:/usr/lib/python3/dist-packages\u001b[0m\n",
      "\u001b[31mSM_NETWORK_INTERFACE_NAME=eth0\u001b[0m\n",
      "\u001b[31mSM_OUTPUT_DIR=/opt/ml/output\u001b[0m\n",
      "\u001b[31mSM_NUM_GPUS=1\u001b[0m\n",
      "\u001b[31mSM_RESOURCE_CONFIG={\"current_host\":\"algo-1\",\"hosts\":[\"algo-1\"],\"network_interface_name\":\"eth0\"}\u001b[0m\n",
      "\u001b[31mSM_HPS={\"epochs\":10,\"hidden_dim\":200}\u001b[0m\n",
      "\u001b[31mSM_MODULE_NAME=train\u001b[0m\n",
      "\u001b[31mSM_INPUT_CONFIG_DIR=/opt/ml/input/config\u001b[0m\n",
      "\u001b[31mSM_USER_ARGS=[\"--epochs\",\"10\",\"--hidden_dim\",\"200\"]\u001b[0m\n",
      "\u001b[31mSM_LOG_LEVEL=20\u001b[0m\n",
      "\u001b[31mSM_CHANNEL_TRAINING=/opt/ml/input/data/training\u001b[0m\n",
      "\u001b[31mSM_NUM_CPUS=4\u001b[0m\n",
      "\u001b[31mSM_FRAMEWORK_MODULE=sagemaker_pytorch_container.training:main\u001b[0m\n",
      "\u001b[31mSM_HOSTS=[\"algo-1\"]\u001b[0m\n",
      "\u001b[31mSM_HP_EPOCHS=10\u001b[0m\n",
      "\u001b[31mSM_OUTPUT_DATA_DIR=/opt/ml/output/data\u001b[0m\n",
      "\u001b[31mSM_OUTPUT_INTERMEDIATE_DIR=/opt/ml/output/intermediate\u001b[0m\n",
      "\u001b[31mSM_HP_HIDDEN_DIM=200\u001b[0m\n",
      "\u001b[31mSM_CHANNELS=[\"training\"]\u001b[0m\n",
      "\u001b[31mSM_TRAINING_ENV={\"additional_framework_parameters\":{},\"channel_input_dirs\":{\"training\":\"/opt/ml/input/data/training\"},\"current_host\":\"algo-1\",\"framework_module\":\"sagemaker_pytorch_container.training:main\",\"hosts\":[\"algo-1\"],\"hyperparameters\":{\"epochs\":10,\"hidden_dim\":200},\"input_config_dir\":\"/opt/ml/input/config\",\"input_data_config\":{\"training\":{\"RecordWrapperType\":\"None\",\"S3DistributionType\":\"FullyReplicated\",\"TrainingInputMode\":\"File\"}},\"input_dir\":\"/opt/ml/input\",\"job_name\":\"sagemaker-pytorch-2019-09-02-20-41-05-460\",\"log_level\":20,\"model_dir\":\"/opt/ml/model\",\"module_dir\":\"s3://sagemaker-us-east-1-117240919775/sagemaker-pytorch-2019-09-02-20-41-05-460/source/sourcedir.tar.gz\",\"module_name\":\"train\",\"network_interface_name\":\"eth0\",\"num_cpus\":4,\"num_gpus\":1,\"output_data_dir\":\"/opt/ml/output/data\",\"output_dir\":\"/opt/ml/output\",\"output_intermediate_dir\":\"/opt/ml/output/intermediate\",\"resource_config\":{\"current_host\":\"algo-1\",\"hosts\":[\"algo-1\"],\"network_interface_name\":\"eth0\"},\"user_entry_point\":\"train.py\"}\u001b[0m\n",
      "\u001b[31mSM_USER_ENTRY_POINT=train.py\u001b[0m\n",
      "\u001b[31mSM_INPUT_DATA_CONFIG={\"training\":{\"RecordWrapperType\":\"None\",\"S3DistributionType\":\"FullyReplicated\",\"TrainingInputMode\":\"File\"}}\u001b[0m\n",
      "\u001b[31mSM_CURRENT_HOST=algo-1\u001b[0m\n",
      "\u001b[31mSM_MODEL_DIR=/opt/ml/model\u001b[0m\n",
      "\u001b[31mSM_INPUT_DIR=/opt/ml/input\u001b[0m\n",
      "\u001b[31mSM_FRAMEWORK_PARAMS={}\u001b[0m\n",
      "\u001b[31mSM_MODULE_DIR=s3://sagemaker-us-east-1-117240919775/sagemaker-pytorch-2019-09-02-20-41-05-460/source/sourcedir.tar.gz\n",
      "\u001b[0m\n",
      "\u001b[31mInvoking script with the following command:\n",
      "\u001b[0m\n",
      "\u001b[31m/usr/bin/python -m train --epochs 10 --hidden_dim 200\n",
      "\n",
      "\u001b[0m\n",
      "\u001b[31mUsing device cuda.\u001b[0m\n",
      "\u001b[31mGet train data loader.\u001b[0m\n"
     ]
    },
    {
     "name": "stdout",
     "output_type": "stream",
     "text": [
      "\u001b[31mModel loaded with embedding_dim 32, hidden_dim 200, vocab_size 5000.\u001b[0m\n",
      "\u001b[31mEpoch: 1, BCELoss: 0.6690507324374452\u001b[0m\n",
      "\u001b[31mEpoch: 2, BCELoss: 0.6041979826226527\u001b[0m\n",
      "\u001b[31mEpoch: 3, BCELoss: 0.5103505801181404\u001b[0m\n",
      "\u001b[31mEpoch: 4, BCELoss: 0.42610825263724034\u001b[0m\n",
      "\u001b[31mEpoch: 5, BCELoss: 0.3892929365440291\u001b[0m\n",
      "\u001b[31mEpoch: 6, BCELoss: 0.3622063635563364\u001b[0m\n",
      "\u001b[31mEpoch: 7, BCELoss: 0.34563010626909685\u001b[0m\n",
      "\u001b[31mEpoch: 8, BCELoss: 0.304587474282907\u001b[0m\n",
      "\u001b[31mEpoch: 9, BCELoss: 0.2882863696740598\u001b[0m\n",
      "\u001b[31mEpoch: 10, BCELoss: 0.27674087638757666\u001b[0m\n",
      "\u001b[31m2019-09-02 20:47:41,719 sagemaker-containers INFO     Reporting training SUCCESS\u001b[0m\n",
      "\n",
      "2019-09-02 20:47:52 Uploading - Uploading generated training model\n",
      "2019-09-02 20:47:52 Completed - Training job completed\n",
      "Billable seconds: 273\n"
     ]
    }
   ],
   "source": [
    "estimator.fit({'training': input_data})"
   ]
  },
  {
   "cell_type": "markdown",
   "metadata": {},
   "source": [
    "## Step 5: Testing the model\n",
    "\n",
    "As mentioned at the top of this notebook, we will be testing this model by first deploying it and then sending the testing data to the deployed endpoint. We will do this so that we can make sure that the deployed model is working correctly.\n",
    "\n",
    "## Step 6: Deploy the model for testing\n",
    "\n",
    "Now that we have trained our model, we would like to test it to see how it performs. Currently our model takes input of the form `review_length, review[500]` where `review[500]` is a sequence of `500` integers which describe the words present in the review, encoded using `word_dict`. Fortunately for us, SageMaker provides built-in inference code for models with simple inputs such as this.\n",
    "\n",
    "There is one thing that we need to provide, however, and that is a function which loads the saved model. This function must be called `model_fn()` and takes as its only parameter a path to the directory where the model artifacts are stored. This function must also be present in the python file which we specified as the entry point. In our case the model loading function has been provided and so no changes need to be made.\n",
    "\n",
    "**NOTE**: When the built-in inference code is run it must import the `model_fn()` method from the `train.py` file. This is why the training code is wrapped in a main guard ( ie, `if __name__ == '__main__':` )\n",
    "\n",
    "Since we don't need to change anything in the code that was uploaded during training, we can simply deploy the current model as-is.\n",
    "\n",
    "**NOTE:** When deploying a model you are asking SageMaker to launch an compute instance that will wait for data to be sent to it. As a result, this compute instance will continue to run until *you* shut it down. This is important to know since the cost of a deployed endpoint depends on how long it has been running for.\n",
    "\n",
    "In other words **If you are no longer using a deployed endpoint, shut it down!**\n",
    "\n",
    "**TODO:** Deploy the trained model."
   ]
  },
  {
   "cell_type": "code",
   "execution_count": 125,
   "metadata": {},
   "outputs": [
    {
     "name": "stderr",
     "output_type": "stream",
     "text": [
      "Using already existing model: sagemaker-pytorch-2019-09-01-21-21-29-182\n"
     ]
    },
    {
     "name": "stdout",
     "output_type": "stream",
     "text": [
      "---------------------------------------------------------------------------------------------------------------!"
     ]
    }
   ],
   "source": [
    "# TODO: Deploy the trained model\n",
    "predictor = estimator.deploy(initial_instance_count = 1, instance_type = 'ml.m4.xlarge')"
   ]
  },
  {
   "cell_type": "markdown",
   "metadata": {},
   "source": [
    "## Step 7 - Use the model for testing\n",
    "\n",
    "Once deployed, we can read in the test data and send it off to our deployed model to get some results. Once we collect all of the results we can determine how accurate our model is."
   ]
  },
  {
   "cell_type": "code",
   "execution_count": 98,
   "metadata": {},
   "outputs": [],
   "source": [
    "test_X = pd.concat([pd.DataFrame(test_X_len), pd.DataFrame(test_X)], axis=1)"
   ]
  },
  {
   "cell_type": "code",
   "execution_count": 36,
   "metadata": {},
   "outputs": [],
   "source": [
    "# We split the data into chunks and send each chunk seperately, accumulating the results.\n",
    "\n",
    "def predict(data, rows=512):\n",
    "    split_array = np.array_split(data, int(data.shape[0] / float(rows) + 1))\n",
    "    predictions = np.array([])\n",
    "    for array in split_array:\n",
    "        predictions = np.append(predictions, predictor.predict(array))\n",
    "    \n",
    "    return predictions"
   ]
  },
  {
   "cell_type": "code",
   "execution_count": 37,
   "metadata": {},
   "outputs": [],
   "source": [
    "predictions = predict(test_X.values)\n",
    "predictions = [round(num) for num in predictions]"
   ]
  },
  {
   "cell_type": "code",
   "execution_count": 38,
   "metadata": {},
   "outputs": [
    {
     "data": {
      "text/plain": [
       "0.84712"
      ]
     },
     "execution_count": 38,
     "metadata": {},
     "output_type": "execute_result"
    }
   ],
   "source": [
    "from sklearn.metrics import accuracy_score\n",
    "accuracy_score(test_y, predictions)"
   ]
  },
  {
   "cell_type": "code",
   "execution_count": 58,
   "metadata": {},
   "outputs": [
    {
     "data": {
      "text/plain": [
       "(25000, 502)"
      ]
     },
     "execution_count": 58,
     "metadata": {},
     "output_type": "execute_result"
    }
   ],
   "source": [
    "test_X.shape"
   ]
  },
  {
   "cell_type": "markdown",
   "metadata": {},
   "source": [
    "**Question:** How does this model compare to the XGBoost model you created earlier? Why might these two models perform differently on this dataset? Which do *you* think is better for sentiment analysis?"
   ]
  },
  {
   "cell_type": "markdown",
   "metadata": {},
   "source": [
    "**Answer:**\n",
    "- Pytorch LSTM method has a test accuracy of 0.847\n",
    "- XGBoost method has a test accuracy of 0.857"
   ]
  },
  {
   "cell_type": "markdown",
   "metadata": {},
   "source": [
    "### (TODO) More testing\n",
    "\n",
    "We now have a trained model which has been deployed and which we can send processed reviews to and which returns the predicted sentiment. However, ultimately we would like to be able to send our model an unprocessed review. That is, we would like to send the review itself as a string. For example, suppose we wish to send the following review to our model."
   ]
  },
  {
   "cell_type": "code",
   "execution_count": 32,
   "metadata": {},
   "outputs": [],
   "source": [
    "test_review = 'The simplest pleasures in life are the best, and this film is one of them. Combining a rather basic storyline of love and adventure this movie transcends the usual weekend fair with wit and unmitigated charm.'"
   ]
  },
  {
   "cell_type": "markdown",
   "metadata": {},
   "source": [
    "The question we now need to answer is, how do we send this review to our model?\n",
    "\n",
    "Recall in the first section of this notebook we did a bunch of data processing to the IMDb dataset. In particular, we did two specific things to the provided reviews.\n",
    " - Removed any html tags and stemmed the input\n",
    " - Encoded the review as a sequence of integers using `word_dict`\n",
    " \n",
    "In order process the review we will need to repeat these two steps.\n",
    "\n",
    "**TODO**: Using the `review_to_words` and `convert_and_pad` methods from section one, convert `test_review` into a numpy array `test_data` suitable to send to our model. Remember that our model expects input of the form `review_length, review[500]`."
   ]
  },
  {
   "cell_type": "code",
   "execution_count": 127,
   "metadata": {},
   "outputs": [],
   "source": [
    "# TODO: Convert test_review into a form usable by the model and save the results in test_data\n",
    "test_data = review_to_words(test_review)\n",
    "test_data,test_length= convert_and_pad(word_dict, test_data)"
   ]
  },
  {
   "cell_type": "code",
   "execution_count": 128,
   "metadata": {},
   "outputs": [],
   "source": [
    "test_data = pd.concat([pd.DataFrame([test_length]), pd.DataFrame([test_data])], axis=1)"
   ]
  },
  {
   "cell_type": "code",
   "execution_count": 129,
   "metadata": {},
   "outputs": [
    {
     "data": {
      "text/html": [
       "<div>\n",
       "<style scoped>\n",
       "    .dataframe tbody tr th:only-of-type {\n",
       "        vertical-align: middle;\n",
       "    }\n",
       "\n",
       "    .dataframe tbody tr th {\n",
       "        vertical-align: top;\n",
       "    }\n",
       "\n",
       "    .dataframe thead th {\n",
       "        text-align: right;\n",
       "    }\n",
       "</style>\n",
       "<table border=\"1\" class=\"dataframe\">\n",
       "  <thead>\n",
       "    <tr style=\"text-align: right;\">\n",
       "      <th></th>\n",
       "      <th>0</th>\n",
       "      <th>0</th>\n",
       "      <th>1</th>\n",
       "      <th>2</th>\n",
       "      <th>3</th>\n",
       "      <th>4</th>\n",
       "      <th>5</th>\n",
       "      <th>6</th>\n",
       "      <th>7</th>\n",
       "      <th>8</th>\n",
       "      <th>...</th>\n",
       "      <th>490</th>\n",
       "      <th>491</th>\n",
       "      <th>492</th>\n",
       "      <th>493</th>\n",
       "      <th>494</th>\n",
       "      <th>495</th>\n",
       "      <th>496</th>\n",
       "      <th>497</th>\n",
       "      <th>498</th>\n",
       "      <th>499</th>\n",
       "    </tr>\n",
       "  </thead>\n",
       "  <tbody>\n",
       "    <tr>\n",
       "      <th>0</th>\n",
       "      <td>20</td>\n",
       "      <td>1</td>\n",
       "      <td>1373</td>\n",
       "      <td>49</td>\n",
       "      <td>53</td>\n",
       "      <td>3</td>\n",
       "      <td>4</td>\n",
       "      <td>878</td>\n",
       "      <td>173</td>\n",
       "      <td>392</td>\n",
       "      <td>...</td>\n",
       "      <td>0</td>\n",
       "      <td>0</td>\n",
       "      <td>0</td>\n",
       "      <td>0</td>\n",
       "      <td>0</td>\n",
       "      <td>0</td>\n",
       "      <td>0</td>\n",
       "      <td>0</td>\n",
       "      <td>0</td>\n",
       "      <td>0</td>\n",
       "    </tr>\n",
       "  </tbody>\n",
       "</table>\n",
       "<p>1 rows × 501 columns</p>\n",
       "</div>"
      ],
      "text/plain": [
       "   0    0     1    2    3    4    5    6    7    8    ...  490  491  492  493  \\\n",
       "0   20    1  1373   49   53    3    4  878  173  392  ...    0    0    0    0   \n",
       "\n",
       "   494  495  496  497  498  499  \n",
       "0    0    0    0    0    0    0  \n",
       "\n",
       "[1 rows x 501 columns]"
      ]
     },
     "execution_count": 129,
     "metadata": {},
     "output_type": "execute_result"
    }
   ],
   "source": [
    "test_data"
   ]
  },
  {
   "cell_type": "markdown",
   "metadata": {},
   "source": [
    "Now that we have processed the review, we can send the resulting array to our model to predict the sentiment of the review."
   ]
  },
  {
   "cell_type": "code",
   "execution_count": 130,
   "metadata": {},
   "outputs": [
    {
     "data": {
      "text/plain": [
       "numpy.ndarray"
      ]
     },
     "execution_count": 130,
     "metadata": {},
     "output_type": "execute_result"
    }
   ],
   "source": [
    "type(predictor.predict(test_data))"
   ]
  },
  {
   "cell_type": "markdown",
   "metadata": {},
   "source": [
    "Since the return value of our model is close to `1`, we can be certain that the review we submitted is positive."
   ]
  },
  {
   "cell_type": "markdown",
   "metadata": {},
   "source": [
    "### Delete the endpoint\n",
    "\n",
    "Of course, just like in the XGBoost notebook, once we've deployed an endpoint it continues to run until we tell it to shut down. Since we are done using our endpoint for now, we can delete it."
   ]
  },
  {
   "cell_type": "code",
   "execution_count": 131,
   "metadata": {},
   "outputs": [],
   "source": [
    "estimator.delete_endpoint()"
   ]
  },
  {
   "cell_type": "markdown",
   "metadata": {},
   "source": [
    "## Step 6 (again) - Deploy the model for the web app\n",
    "\n",
    "Now that we know that our model is working, it's time to create some custom inference code so that we can send the model a review which has not been processed and have it determine the sentiment of the review.\n",
    "\n",
    "As we saw above, by default the estimator which we created, when deployed, will use the entry script and directory which we provided when creating the model. However, since we now wish to accept a string as input and our model expects a processed review, we need to write some custom inference code.\n",
    "\n",
    "We will store the code that we write in the `serve` directory. Provided in this directory is the `model.py` file that we used to construct our model, a `utils.py` file which contains the `review_to_words` and `convert_and_pad` pre-processing functions which we used during the initial data processing, and `predict.py`, the file which will contain our custom inference code. Note also that `requirements.txt` is present which will tell SageMaker what Python libraries are required by our custom inference code.\n",
    "\n",
    "When deploying a PyTorch model in SageMaker, you are expected to provide four functions which the SageMaker inference container will use.\n",
    " - `model_fn`: This function is the same function that we used in the training script and it tells SageMaker how to load our model.\n",
    " - `input_fn`: This function receives the raw serialized input that has been sent to the model's endpoint and its job is to de-serialize and make the input available for the inference code.\n",
    " - `output_fn`: This function takes the output of the inference code and its job is to serialize this output and return it to the caller of the model's endpoint.\n",
    " - `predict_fn`: The heart of the inference script, this is where the actual prediction is done and is the function which you will need to complete.\n",
    "\n",
    "For the simple website that we are constructing during this project, the `input_fn` and `output_fn` methods are relatively straightforward. We only require being able to accept a string as input and we expect to return a single value as output. You might imagine though that in a more complex application the input or output may be image data or some other binary data which would require some effort to serialize.\n",
    "\n",
    "### (TODO) Writing inference code\n",
    "\n",
    "Before writing our custom inference code, we will begin by taking a look at the code which has been provided."
   ]
  },
  {
   "cell_type": "code",
   "execution_count": 101,
   "metadata": {},
   "outputs": [
    {
     "name": "stdout",
     "output_type": "stream",
     "text": [
      "\u001b[34mimport\u001b[39;49;00m \u001b[04m\u001b[36margparse\u001b[39;49;00m\r\n",
      "\u001b[34mimport\u001b[39;49;00m \u001b[04m\u001b[36mjson\u001b[39;49;00m\r\n",
      "\u001b[34mimport\u001b[39;49;00m \u001b[04m\u001b[36mos\u001b[39;49;00m\r\n",
      "\u001b[34mimport\u001b[39;49;00m \u001b[04m\u001b[36mpickle\u001b[39;49;00m\r\n",
      "\u001b[34mimport\u001b[39;49;00m \u001b[04m\u001b[36msys\u001b[39;49;00m\r\n",
      "\u001b[34mimport\u001b[39;49;00m \u001b[04m\u001b[36msagemaker_containers\u001b[39;49;00m\r\n",
      "\u001b[34mimport\u001b[39;49;00m \u001b[04m\u001b[36mpandas\u001b[39;49;00m \u001b[34mas\u001b[39;49;00m \u001b[04m\u001b[36mpd\u001b[39;49;00m\r\n",
      "\u001b[34mimport\u001b[39;49;00m \u001b[04m\u001b[36mnumpy\u001b[39;49;00m \u001b[34mas\u001b[39;49;00m \u001b[04m\u001b[36mnp\u001b[39;49;00m\r\n",
      "\u001b[34mimport\u001b[39;49;00m \u001b[04m\u001b[36mtorch\u001b[39;49;00m\r\n",
      "\u001b[34mimport\u001b[39;49;00m \u001b[04m\u001b[36mtorch.nn\u001b[39;49;00m \u001b[34mas\u001b[39;49;00m \u001b[04m\u001b[36mnn\u001b[39;49;00m\r\n",
      "\u001b[34mimport\u001b[39;49;00m \u001b[04m\u001b[36mtorch.optim\u001b[39;49;00m \u001b[34mas\u001b[39;49;00m \u001b[04m\u001b[36moptim\u001b[39;49;00m\r\n",
      "\u001b[34mimport\u001b[39;49;00m \u001b[04m\u001b[36mtorch.utils.data\u001b[39;49;00m\r\n",
      "\r\n",
      "\u001b[34mfrom\u001b[39;49;00m \u001b[04m\u001b[36mmodel\u001b[39;49;00m \u001b[34mimport\u001b[39;49;00m LSTMClassifier\r\n",
      "\r\n",
      "\u001b[34mfrom\u001b[39;49;00m \u001b[04m\u001b[36mutils\u001b[39;49;00m \u001b[34mimport\u001b[39;49;00m review_to_words, convert_and_pad\r\n",
      "\r\n",
      "\u001b[34mdef\u001b[39;49;00m \u001b[32mmodel_fn\u001b[39;49;00m(model_dir):\r\n",
      "    \u001b[33m\"\"\"Load the PyTorch model from the `model_dir` directory.\"\"\"\u001b[39;49;00m\r\n",
      "    \u001b[34mprint\u001b[39;49;00m(\u001b[33m\"\u001b[39;49;00m\u001b[33mLoading model.\u001b[39;49;00m\u001b[33m\"\u001b[39;49;00m)\r\n",
      "\r\n",
      "    \u001b[37m# First, load the parameters used to create the model.\u001b[39;49;00m\r\n",
      "    model_info = {}\r\n",
      "    model_info_path = os.path.join(model_dir, \u001b[33m'\u001b[39;49;00m\u001b[33mmodel_info.pth\u001b[39;49;00m\u001b[33m'\u001b[39;49;00m)\r\n",
      "    \u001b[34mwith\u001b[39;49;00m \u001b[36mopen\u001b[39;49;00m(model_info_path, \u001b[33m'\u001b[39;49;00m\u001b[33mrb\u001b[39;49;00m\u001b[33m'\u001b[39;49;00m) \u001b[34mas\u001b[39;49;00m f:\r\n",
      "        model_info = torch.load(f)\r\n",
      "\r\n",
      "    \u001b[34mprint\u001b[39;49;00m(\u001b[33m\"\u001b[39;49;00m\u001b[33mmodel_info: {}\u001b[39;49;00m\u001b[33m\"\u001b[39;49;00m.format(model_info))\r\n",
      "\r\n",
      "    \u001b[37m# Determine the device and construct the model.\u001b[39;49;00m\r\n",
      "    device = torch.device(\u001b[33m\"\u001b[39;49;00m\u001b[33mcuda\u001b[39;49;00m\u001b[33m\"\u001b[39;49;00m \u001b[34mif\u001b[39;49;00m torch.cuda.is_available() \u001b[34melse\u001b[39;49;00m \u001b[33m\"\u001b[39;49;00m\u001b[33mcpu\u001b[39;49;00m\u001b[33m\"\u001b[39;49;00m)\r\n",
      "    model = LSTMClassifier(model_info[\u001b[33m'\u001b[39;49;00m\u001b[33membedding_dim\u001b[39;49;00m\u001b[33m'\u001b[39;49;00m], model_info[\u001b[33m'\u001b[39;49;00m\u001b[33mhidden_dim\u001b[39;49;00m\u001b[33m'\u001b[39;49;00m], model_info[\u001b[33m'\u001b[39;49;00m\u001b[33mvocab_size\u001b[39;49;00m\u001b[33m'\u001b[39;49;00m])\r\n",
      "\r\n",
      "    \u001b[37m# Load the store model parameters.\u001b[39;49;00m\r\n",
      "    model_path = os.path.join(model_dir, \u001b[33m'\u001b[39;49;00m\u001b[33mmodel.pth\u001b[39;49;00m\u001b[33m'\u001b[39;49;00m)\r\n",
      "    \u001b[34mwith\u001b[39;49;00m \u001b[36mopen\u001b[39;49;00m(model_path, \u001b[33m'\u001b[39;49;00m\u001b[33mrb\u001b[39;49;00m\u001b[33m'\u001b[39;49;00m) \u001b[34mas\u001b[39;49;00m f:\r\n",
      "        model.load_state_dict(torch.load(f))\r\n",
      "\r\n",
      "    \u001b[37m# Load the saved word_dict.\u001b[39;49;00m\r\n",
      "    word_dict_path = os.path.join(model_dir, \u001b[33m'\u001b[39;49;00m\u001b[33mword_dict.pkl\u001b[39;49;00m\u001b[33m'\u001b[39;49;00m)\r\n",
      "    \u001b[34mwith\u001b[39;49;00m \u001b[36mopen\u001b[39;49;00m(word_dict_path, \u001b[33m'\u001b[39;49;00m\u001b[33mrb\u001b[39;49;00m\u001b[33m'\u001b[39;49;00m) \u001b[34mas\u001b[39;49;00m f:\r\n",
      "        model.word_dict = pickle.load(f)\r\n",
      "\r\n",
      "    model.to(device).eval()\r\n",
      "\r\n",
      "    \u001b[34mprint\u001b[39;49;00m(\u001b[33m\"\u001b[39;49;00m\u001b[33mDone loading model.\u001b[39;49;00m\u001b[33m\"\u001b[39;49;00m)\r\n",
      "    \u001b[34mreturn\u001b[39;49;00m model\r\n",
      "\r\n",
      "\u001b[34mdef\u001b[39;49;00m \u001b[32minput_fn\u001b[39;49;00m(serialized_input_data, content_type):\r\n",
      "    \u001b[34mprint\u001b[39;49;00m(\u001b[33m'\u001b[39;49;00m\u001b[33mDeserializing the input data.\u001b[39;49;00m\u001b[33m'\u001b[39;49;00m)\r\n",
      "    \u001b[34mif\u001b[39;49;00m content_type == \u001b[33m'\u001b[39;49;00m\u001b[33mtext/plain\u001b[39;49;00m\u001b[33m'\u001b[39;49;00m:\r\n",
      "        data = serialized_input_data.decode(\u001b[33m'\u001b[39;49;00m\u001b[33mutf-8\u001b[39;49;00m\u001b[33m'\u001b[39;49;00m)\r\n",
      "        \u001b[34mreturn\u001b[39;49;00m data\r\n",
      "    \u001b[34mraise\u001b[39;49;00m \u001b[36mException\u001b[39;49;00m(\u001b[33m'\u001b[39;49;00m\u001b[33mRequested unsupported ContentType in content_type: \u001b[39;49;00m\u001b[33m'\u001b[39;49;00m + content_type)\r\n",
      "\r\n",
      "\u001b[34mdef\u001b[39;49;00m \u001b[32moutput_fn\u001b[39;49;00m(prediction_output, accept):\r\n",
      "    \u001b[34mprint\u001b[39;49;00m(\u001b[33m'\u001b[39;49;00m\u001b[33mSerializing the generated output.\u001b[39;49;00m\u001b[33m'\u001b[39;49;00m)\r\n",
      "    \u001b[34mreturn\u001b[39;49;00m \u001b[36mstr\u001b[39;49;00m(prediction_output)\r\n",
      "\r\n",
      "\u001b[34mdef\u001b[39;49;00m \u001b[32mpredict_fn\u001b[39;49;00m(input_data, model):\r\n",
      "    \u001b[34mprint\u001b[39;49;00m(\u001b[33m'\u001b[39;49;00m\u001b[33mInferring sentiment of input data.\u001b[39;49;00m\u001b[33m'\u001b[39;49;00m)\r\n",
      "\r\n",
      "    device = torch.device(\u001b[33m\"\u001b[39;49;00m\u001b[33mcuda\u001b[39;49;00m\u001b[33m\"\u001b[39;49;00m \u001b[34mif\u001b[39;49;00m torch.cuda.is_available() \u001b[34melse\u001b[39;49;00m \u001b[33m\"\u001b[39;49;00m\u001b[33mcpu\u001b[39;49;00m\u001b[33m\"\u001b[39;49;00m)\r\n",
      "    \r\n",
      "    \u001b[34mif\u001b[39;49;00m model.word_dict \u001b[35mis\u001b[39;49;00m \u001b[36mNone\u001b[39;49;00m:\r\n",
      "        \u001b[34mraise\u001b[39;49;00m \u001b[36mException\u001b[39;49;00m(\u001b[33m'\u001b[39;49;00m\u001b[33mModel has not been loaded properly, no word_dict.\u001b[39;49;00m\u001b[33m'\u001b[39;49;00m)\r\n",
      "    \r\n",
      "    \u001b[37m# TODO: Process input_data so that it is ready to be sent to our model.\u001b[39;49;00m\r\n",
      "    \u001b[37m#       You should produce two variables:\u001b[39;49;00m\r\n",
      "    \u001b[37m#         data_X   - A sequence of length 500 which represents the converted review\u001b[39;49;00m\r\n",
      "    \u001b[37m#         data_len - The length of the review\u001b[39;49;00m\r\n",
      "\r\n",
      "    data_X = \u001b[36mNone\u001b[39;49;00m\r\n",
      "    data_len = \u001b[36mNone\u001b[39;49;00m\r\n",
      "\r\n",
      "    \u001b[37m# Using data_X and data_len we construct an appropriate input tensor. Remember\u001b[39;49;00m\r\n",
      "    \u001b[37m# that our model expects input data of the form 'len, review[500]'.\u001b[39;49;00m\r\n",
      "    data_pack = np.hstack((data_len, data_X))\r\n",
      "    data_pack = data_pack.reshape(\u001b[34m1\u001b[39;49;00m, -\u001b[34m1\u001b[39;49;00m)\r\n",
      "    \r\n",
      "    data = torch.from_numpy(data_pack)\r\n",
      "    data = data.to(device)\r\n",
      "\r\n",
      "    \u001b[37m# Make sure to put the model into evaluation mode\u001b[39;49;00m\r\n",
      "    model.eval()\r\n",
      "\r\n",
      "    \u001b[37m# TODO: Compute the result of applying the model to the input data. The variable `result` should\u001b[39;49;00m\r\n",
      "    \u001b[37m#       be a numpy array which contains a single integer which is either 1 or 0\u001b[39;49;00m\r\n",
      "\r\n",
      "    result = \u001b[36mNone\u001b[39;49;00m\r\n",
      "\r\n",
      "    \u001b[34mreturn\u001b[39;49;00m result\r\n"
     ]
    }
   ],
   "source": [
    "!pygmentize serve/predict.py"
   ]
  },
  {
   "cell_type": "markdown",
   "metadata": {},
   "source": [
    "As mentioned earlier, the `model_fn` method is the same as the one provided in the training code and the `input_fn` and `output_fn` methods are very simple and your task will be to complete the `predict_fn` method. Make sure that you save the completed file as `predict.py` in the `serve` directory.\n",
    "\n",
    "**TODO**: Complete the `predict_fn()` method in the `serve/predict.py` file."
   ]
  },
  {
   "cell_type": "markdown",
   "metadata": {},
   "source": [
    "### Deploying the model\n",
    "\n",
    "Now that the custom inference code has been written, we will create and deploy our model. To begin with, we need to construct a new PyTorchModel object which points to the model artifacts created during training and also points to the inference code that we wish to use. Then we can call the deploy method to launch the deployment container.\n",
    "\n",
    "**NOTE**: The default behaviour for a deployed PyTorch model is to assume that any input passed to the predictor is a `numpy` array. In our case we want to send a string so we need to construct a simple wrapper around the `RealTimePredictor` class to accomodate simple strings. In a more complicated situation you may want to provide a serialization object, for example if you wanted to sent image data."
   ]
  },
  {
   "cell_type": "code",
   "execution_count": 26,
   "metadata": {},
   "outputs": [
    {
     "name": "stdout",
     "output_type": "stream",
     "text": [
      "-------------------------------------------------------------------------------------------------!"
     ]
    }
   ],
   "source": [
    "from sagemaker.predictor import RealTimePredictor\n",
    "from sagemaker.pytorch import PyTorchModel\n",
    "\n",
    "class StringPredictor(RealTimePredictor):\n",
    "    def __init__(self, endpoint_name, sagemaker_session):\n",
    "        super(StringPredictor, self).__init__(endpoint_name, sagemaker_session, content_type='text/plain')\n",
    "\n",
    "model = PyTorchModel(model_data=estimator.model_data,\n",
    "                     role = role,\n",
    "                     framework_version='0.4.0',\n",
    "                     entry_point='predict.py',\n",
    "                     source_dir='serve',\n",
    "                     predictor_cls=StringPredictor)\n",
    "predictor = model.deploy(initial_instance_count=1, instance_type='ml.m4.xlarge')"
   ]
  },
  {
   "cell_type": "markdown",
   "metadata": {},
   "source": [
    "### Testing the model\n",
    "\n",
    "Now that we have deployed our model with the custom inference code, we should test to see if everything is working. Here we test our model by loading the first `250` positive and negative reviews and send them to the endpoint, then collect the results. The reason for only sending some of the data is that the amount of time it takes for our model to process the input and then perform inference is quite long and so testing the entire data set would be prohibitive."
   ]
  },
  {
   "cell_type": "code",
   "execution_count": 28,
   "metadata": {},
   "outputs": [],
   "source": [
    "import glob\n",
    "\n",
    "def test_reviews(data_dir='../data/aclImdb', stop=250):\n",
    "    \n",
    "    results = []\n",
    "    ground = []\n",
    "    \n",
    "    # We make sure to test both positive and negative reviews    \n",
    "    for sentiment in ['pos', 'neg']:\n",
    "        \n",
    "        path = os.path.join(data_dir, 'test', sentiment, '*.txt')\n",
    "        files = glob.glob(path)\n",
    "        \n",
    "        files_read = 0\n",
    "        \n",
    "        print('Starting ', sentiment, ' files')\n",
    "        \n",
    "        # Iterate through the files and send them to the predictor\n",
    "        for f in files:\n",
    "            with open(f) as review:\n",
    "                # First, we store the ground truth (was the review positive or negative)\n",
    "                if sentiment == 'pos':\n",
    "                    ground.append(1)\n",
    "                else:\n",
    "                    ground.append(0)\n",
    "                # Read in the review and convert to 'utf-8' for transmission via HTTP\n",
    "                review_input = review.read().encode('utf-8')\n",
    "                # Send the review to the predictor and store the results\n",
    "                results.append(int(predictor.predict(review_input)))\n",
    "                \n",
    "            # Sending reviews to our endpoint one at a time takes a while so we\n",
    "            # only send a small number of reviews\n",
    "            files_read += 1\n",
    "            if files_read == stop:\n",
    "                break\n",
    "            \n",
    "    return ground, results"
   ]
  },
  {
   "cell_type": "code",
   "execution_count": 29,
   "metadata": {},
   "outputs": [
    {
     "name": "stdout",
     "output_type": "stream",
     "text": [
      "Starting  pos  files\n",
      "Starting  neg  files\n"
     ]
    }
   ],
   "source": [
    "ground, results = test_reviews()"
   ]
  },
  {
   "cell_type": "code",
   "execution_count": 30,
   "metadata": {},
   "outputs": [
    {
     "data": {
      "text/plain": [
       "0.852"
      ]
     },
     "execution_count": 30,
     "metadata": {},
     "output_type": "execute_result"
    }
   ],
   "source": [
    "from sklearn.metrics import accuracy_score\n",
    "accuracy_score(ground, results)"
   ]
  },
  {
   "cell_type": "markdown",
   "metadata": {},
   "source": [
    "As an additional test, we can try sending the `test_review` that we looked at earlier."
   ]
  },
  {
   "cell_type": "code",
   "execution_count": 33,
   "metadata": {},
   "outputs": [
    {
     "data": {
      "text/plain": [
       "b'1'"
      ]
     },
     "execution_count": 33,
     "metadata": {},
     "output_type": "execute_result"
    }
   ],
   "source": [
    "predictor.predict(test_review)"
   ]
  },
  {
   "cell_type": "markdown",
   "metadata": {},
   "source": [
    "Now that we know our endpoint is working as expected, we can set up the web page that will interact with it. If you don't have time to finish the project now, make sure to skip down to the end of this notebook and shut down your endpoint. You can deploy it again when you come back."
   ]
  },
  {
   "cell_type": "markdown",
   "metadata": {},
   "source": [
    "## Step 7 (again): Use the model for the web app\n",
    "\n",
    "> **TODO:** This entire section and the next contain tasks for you to complete, mostly using the AWS console.\n",
    "\n",
    "So far we have been accessing our model endpoint by constructing a predictor object which uses the endpoint and then just using the predictor object to perform inference. What if we wanted to create a web app which accessed our model? The way things are set up currently makes that not possible since in order to access a SageMaker endpoint the app would first have to authenticate with AWS using an IAM role which included access to SageMaker endpoints. However, there is an easier way! We just need to use some additional AWS services.\n",
    "\n",
    "<img src=\"Web App Diagram.svg\">\n",
    "\n",
    "The diagram above gives an overview of how the various services will work together. On the far right is the model which we trained above and which is deployed using SageMaker. On the far left is our web app that collects a user's movie review, sends it off and expects a positive or negative sentiment in return.\n",
    "\n",
    "In the middle is where some of the magic happens. We will construct a Lambda function, which you can think of as a straightforward Python function that can be executed whenever a specified event occurs. We will give this function permission to send and recieve data from a SageMaker endpoint.\n",
    "\n",
    "Lastly, the method we will use to execute the Lambda function is a new endpoint that we will create using API Gateway. This endpoint will be a url that listens for data to be sent to it. Once it gets some data it will pass that data on to the Lambda function and then return whatever the Lambda function returns. Essentially it will act as an interface that lets our web app communicate with the Lambda function.\n",
    "\n",
    "### Setting up a Lambda function\n",
    "\n",
    "The first thing we are going to do is set up a Lambda function. This Lambda function will be executed whenever our public API has data sent to it. When it is executed it will receive the data, perform any sort of processing that is required, send the data (the review) to the SageMaker endpoint we've created and then return the result.\n",
    "\n",
    "#### Part A: Create an IAM Role for the Lambda function\n",
    "\n",
    "Since we want the Lambda function to call a SageMaker endpoint, we need to make sure that it has permission to do so. To do this, we will construct a role that we can later give the Lambda function.\n",
    "\n",
    "Using the AWS Console, navigate to the **IAM** page and click on **Roles**. Then, click on **Create role**. Make sure that the **AWS service** is the type of trusted entity selected and choose **Lambda** as the service that will use this role, then click **Next: Permissions**.\n",
    "\n",
    "In the search box type `sagemaker` and select the check box next to the **AmazonSageMakerFullAccess** policy. Then, click on **Next: Review**.\n",
    "\n",
    "Lastly, give this role a name. Make sure you use a name that you will remember later on, for example `LambdaSageMakerRole`. Then, click on **Create role**.\n",
    "\n",
    "#### Part B: Create a Lambda function\n",
    "\n",
    "Now it is time to actually create the Lambda function.\n",
    "\n",
    "Using the AWS Console, navigate to the AWS Lambda page and click on **Create a function**. When you get to the next page, make sure that **Author from scratch** is selected. Now, name your Lambda function, using a name that you will remember later on, for example `sentiment_analysis_func`. Make sure that the **Python 3.6** runtime is selected and then choose the role that you created in the previous part. Then, click on **Create Function**.\n",
    "\n",
    "On the next page you will see some information about the Lambda function you've just created. If you scroll down you should see an editor in which you can write the code that will be executed when your Lambda function is triggered. In our example, we will use the code below. \n",
    "\n",
    "```python\n",
    "# We need to use the low-level library to interact with SageMaker since the SageMaker API\n",
    "# is not available natively through Lambda.\n",
    "import boto3\n",
    "\n",
    "def lambda_handler(event, context):\n",
    "\n",
    "    # The SageMaker runtime is what allows us to invoke the endpoint that we've created.\n",
    "    runtime = boto3.Session().client('sagemaker-runtime')\n",
    "\n",
    "    # Now we use the SageMaker runtime to invoke our endpoint, sending the review we were given\n",
    "    response = runtime.invoke_endpoint(EndpointName = '**ENDPOINT NAME HERE**',    # The name of the endpoint we created\n",
    "                                       ContentType = 'text/plain',                 # The data format that is expected\n",
    "                                       Body = event['body'])                       # The actual review\n",
    "\n",
    "    # The response is an HTTP response whose body contains the result of our inference\n",
    "    result = response['Body'].read().decode('utf-8')\n",
    "\n",
    "    return {\n",
    "        'statusCode' : 200,\n",
    "        'headers' : { 'Content-Type' : 'text/plain', 'Access-Control-Allow-Origin' : '*' },\n",
    "        'body' : result\n",
    "    }\n",
    "```\n",
    "\n",
    "Once you have copy and pasted the code above into the Lambda code editor, replace the `**ENDPOINT NAME HERE**` portion with the name of the endpoint that we deployed earlier. You can determine the name of the endpoint using the code cell below."
   ]
  },
  {
   "cell_type": "code",
   "execution_count": 27,
   "metadata": {},
   "outputs": [
    {
     "data": {
      "text/plain": [
       "'sagemaker-pytorch-2019-09-02-21-03-13-911'"
      ]
     },
     "execution_count": 27,
     "metadata": {},
     "output_type": "execute_result"
    }
   ],
   "source": [
    "predictor.endpoint"
   ]
  },
  {
   "cell_type": "markdown",
   "metadata": {},
   "source": [
    "Once you have added the endpoint name to the Lambda function, click on **Save**. Your Lambda function is now up and running. Next we need to create a way for our web app to execute the Lambda function.\n",
    "\n",
    "### Setting up API Gateway\n",
    "\n",
    "Now that our Lambda function is set up, it is time to create a new API using API Gateway that will trigger the Lambda function we have just created.\n",
    "\n",
    "Using AWS Console, navigate to **Amazon API Gateway** and then click on **Get started**.\n",
    "\n",
    "On the next page, make sure that **New API** is selected and give the new api a name, for example, `sentiment_analysis_api`. Then, click on **Create API**.\n",
    "\n",
    "Now we have created an API, however it doesn't currently do anything. What we want it to do is to trigger the Lambda function that we created earlier.\n",
    "\n",
    "Select the **Actions** dropdown menu and click **Create Method**. A new blank method will be created, select its dropdown menu and select **POST**, then click on the check mark beside it.\n",
    "\n",
    "For the integration point, make sure that **Lambda Function** is selected and click on the **Use Lambda Proxy integration**. This option makes sure that the data that is sent to the API is then sent directly to the Lambda function with no processing. It also means that the return value must be a proper response object as it will also not be processed by API Gateway.\n",
    "\n",
    "Type the name of the Lambda function you created earlier into the **Lambda Function** text entry box and then click on **Save**. Click on **OK** in the pop-up box that then appears, giving permission to API Gateway to invoke the Lambda function you created.\n",
    "\n",
    "The last step in creating the API Gateway is to select the **Actions** dropdown and click on **Deploy API**. You will need to create a new Deployment stage and name it anything you like, for example `prod`.\n",
    "\n",
    "You have now successfully set up a public API to access your SageMaker model. Make sure to copy or write down the URL provided to invoke your newly created public API as this will be needed in the next step. This URL can be found at the top of the page, highlighted in blue next to the text **Invoke URL**."
   ]
  },
  {
   "cell_type": "markdown",
   "metadata": {},
   "source": [
    "## Step 4: Deploying our web app\n",
    "\n",
    "Now that we have a publicly available API, we can start using it in a web app. For our purposes, we have provided a simple static html file which can make use of the public api you created earlier.\n",
    "\n",
    "In the `website` folder there should be a file called `index.html`. Download the file to your computer and open that file up in a text editor of your choice. There should be a line which contains **\\*\\*REPLACE WITH PUBLIC API URL\\*\\***. Replace this string with the url that you wrote down in the last step and then save the file.\n",
    "\n",
    "Now, if you open `index.html` on your local computer, your browser will behave as a local web server and you can use the provided site to interact with your SageMaker model.\n",
    "\n",
    "If you'd like to go further, you can host this html file anywhere you'd like, for example using github or hosting a static site on Amazon's S3. Once you have done this you can share the link with anyone you'd like and have them play with it too!\n",
    "\n",
    "> **Important Note** In order for the web app to communicate with the SageMaker endpoint, the endpoint has to actually be deployed and running. This means that you are paying for it. Make sure that the endpoint is running when you want to use the web app but that you shut it down when you don't need it, otherwise you will end up with a surprisingly large AWS bill.\n",
    "\n",
    "**TODO:** Make sure that you include the edited `index.html` file in your project submission."
   ]
  },
  {
   "cell_type": "markdown",
   "metadata": {},
   "source": [
    "Now that your web app is working, trying playing around with it and see how well it works.\n",
    "\n",
    "**Question**: Give an example of a review that you entered into your web app. What was the predicted sentiment of your example review?"
   ]
  },
  {
   "cell_type": "markdown",
   "metadata": {},
   "source": [
    "**Answer:**\n",
    "- Review: This movie is surprisingly good\n",
    "- Predicted sentiment: Positive"
   ]
  },
  {
   "cell_type": "markdown",
   "metadata": {},
   "source": [
    "### Delete the endpoint\n",
    "\n",
    "Remember to always shut down your endpoint if you are no longer using it. You are charged for the length of time that the endpoint is running so if you forget and leave it on you could end up with an unexpectedly large bill."
   ]
  },
  {
   "cell_type": "code",
   "execution_count": 117,
   "metadata": {},
   "outputs": [
    {
     "ename": "ClientError",
     "evalue": "An error occurred (ValidationException) when calling the DeleteEndpointConfig operation: Could not find endpoint configuration \"arn:aws:sagemaker:us-east-1:117240919775:endpoint-config/sagemaker-pytorch-2019-09-01-22-43-45-371\".",
     "output_type": "error",
     "traceback": [
      "\u001b[0;31m---------------------------------------------------------------------------\u001b[0m",
      "\u001b[0;31mClientError\u001b[0m                               Traceback (most recent call last)",
      "\u001b[0;32m<ipython-input-117-9dbbcf45efe1>\u001b[0m in \u001b[0;36m<module>\u001b[0;34m()\u001b[0m\n\u001b[0;32m----> 1\u001b[0;31m \u001b[0mpredictor\u001b[0m\u001b[0;34m.\u001b[0m\u001b[0mdelete_endpoint\u001b[0m\u001b[0;34m(\u001b[0m\u001b[0;34m)\u001b[0m\u001b[0;34m\u001b[0m\u001b[0m\n\u001b[0m",
      "\u001b[0;32m~/anaconda3/envs/pytorch_p36/lib/python3.6/site-packages/sagemaker/predictor.py\u001b[0m in \u001b[0;36mdelete_endpoint\u001b[0;34m(self, delete_endpoint_config)\u001b[0m\n\u001b[1;32m    152\u001b[0m         \"\"\"\n\u001b[1;32m    153\u001b[0m         \u001b[0;32mif\u001b[0m \u001b[0mdelete_endpoint_config\u001b[0m\u001b[0;34m:\u001b[0m\u001b[0;34m\u001b[0m\u001b[0m\n\u001b[0;32m--> 154\u001b[0;31m             \u001b[0mself\u001b[0m\u001b[0;34m.\u001b[0m\u001b[0m_delete_endpoint_config\u001b[0m\u001b[0;34m(\u001b[0m\u001b[0;34m)\u001b[0m\u001b[0;34m\u001b[0m\u001b[0m\n\u001b[0m\u001b[1;32m    155\u001b[0m \u001b[0;34m\u001b[0m\u001b[0m\n\u001b[1;32m    156\u001b[0m         \u001b[0mself\u001b[0m\u001b[0;34m.\u001b[0m\u001b[0msagemaker_session\u001b[0m\u001b[0;34m.\u001b[0m\u001b[0mdelete_endpoint\u001b[0m\u001b[0;34m(\u001b[0m\u001b[0mself\u001b[0m\u001b[0;34m.\u001b[0m\u001b[0mendpoint\u001b[0m\u001b[0;34m)\u001b[0m\u001b[0;34m\u001b[0m\u001b[0m\n",
      "\u001b[0;32m~/anaconda3/envs/pytorch_p36/lib/python3.6/site-packages/sagemaker/predictor.py\u001b[0m in \u001b[0;36m_delete_endpoint_config\u001b[0;34m(self)\u001b[0m\n\u001b[1;32m    138\u001b[0m     \u001b[0;32mdef\u001b[0m \u001b[0m_delete_endpoint_config\u001b[0m\u001b[0;34m(\u001b[0m\u001b[0mself\u001b[0m\u001b[0;34m)\u001b[0m\u001b[0;34m:\u001b[0m\u001b[0;34m\u001b[0m\u001b[0m\n\u001b[1;32m    139\u001b[0m         \u001b[0;34m\"\"\"Delete the Amazon SageMaker endpoint configuration\"\"\"\u001b[0m\u001b[0;34m\u001b[0m\u001b[0m\n\u001b[0;32m--> 140\u001b[0;31m         \u001b[0mself\u001b[0m\u001b[0;34m.\u001b[0m\u001b[0msagemaker_session\u001b[0m\u001b[0;34m.\u001b[0m\u001b[0mdelete_endpoint_config\u001b[0m\u001b[0;34m(\u001b[0m\u001b[0mself\u001b[0m\u001b[0;34m.\u001b[0m\u001b[0m_endpoint_config_name\u001b[0m\u001b[0;34m)\u001b[0m\u001b[0;34m\u001b[0m\u001b[0m\n\u001b[0m\u001b[1;32m    141\u001b[0m \u001b[0;34m\u001b[0m\u001b[0m\n\u001b[1;32m    142\u001b[0m     \u001b[0;32mdef\u001b[0m \u001b[0mdelete_endpoint\u001b[0m\u001b[0;34m(\u001b[0m\u001b[0mself\u001b[0m\u001b[0;34m,\u001b[0m \u001b[0mdelete_endpoint_config\u001b[0m\u001b[0;34m=\u001b[0m\u001b[0;32mTrue\u001b[0m\u001b[0;34m)\u001b[0m\u001b[0;34m:\u001b[0m\u001b[0;34m\u001b[0m\u001b[0m\n",
      "\u001b[0;32m~/anaconda3/envs/pytorch_p36/lib/python3.6/site-packages/sagemaker/session.py\u001b[0m in \u001b[0;36mdelete_endpoint_config\u001b[0;34m(self, endpoint_config_name)\u001b[0m\n\u001b[1;32m    971\u001b[0m         \"\"\"\n\u001b[1;32m    972\u001b[0m         \u001b[0mLOGGER\u001b[0m\u001b[0;34m.\u001b[0m\u001b[0minfo\u001b[0m\u001b[0;34m(\u001b[0m\u001b[0;34m\"Deleting endpoint configuration with name: %s\"\u001b[0m\u001b[0;34m,\u001b[0m \u001b[0mendpoint_config_name\u001b[0m\u001b[0;34m)\u001b[0m\u001b[0;34m\u001b[0m\u001b[0m\n\u001b[0;32m--> 973\u001b[0;31m         \u001b[0mself\u001b[0m\u001b[0;34m.\u001b[0m\u001b[0msagemaker_client\u001b[0m\u001b[0;34m.\u001b[0m\u001b[0mdelete_endpoint_config\u001b[0m\u001b[0;34m(\u001b[0m\u001b[0mEndpointConfigName\u001b[0m\u001b[0;34m=\u001b[0m\u001b[0mendpoint_config_name\u001b[0m\u001b[0;34m)\u001b[0m\u001b[0;34m\u001b[0m\u001b[0m\n\u001b[0m\u001b[1;32m    974\u001b[0m \u001b[0;34m\u001b[0m\u001b[0m\n\u001b[1;32m    975\u001b[0m     \u001b[0;32mdef\u001b[0m \u001b[0mdelete_model\u001b[0m\u001b[0;34m(\u001b[0m\u001b[0mself\u001b[0m\u001b[0;34m,\u001b[0m \u001b[0mmodel_name\u001b[0m\u001b[0;34m)\u001b[0m\u001b[0;34m:\u001b[0m\u001b[0;34m\u001b[0m\u001b[0m\n",
      "\u001b[0;32m~/anaconda3/envs/pytorch_p36/lib/python3.6/site-packages/botocore/client.py\u001b[0m in \u001b[0;36m_api_call\u001b[0;34m(self, *args, **kwargs)\u001b[0m\n\u001b[1;32m    355\u001b[0m                     \"%s() only accepts keyword arguments.\" % py_operation_name)\n\u001b[1;32m    356\u001b[0m             \u001b[0;31m# The \"self\" in this scope is referring to the BaseClient.\u001b[0m\u001b[0;34m\u001b[0m\u001b[0;34m\u001b[0m\u001b[0m\n\u001b[0;32m--> 357\u001b[0;31m             \u001b[0;32mreturn\u001b[0m \u001b[0mself\u001b[0m\u001b[0;34m.\u001b[0m\u001b[0m_make_api_call\u001b[0m\u001b[0;34m(\u001b[0m\u001b[0moperation_name\u001b[0m\u001b[0;34m,\u001b[0m \u001b[0mkwargs\u001b[0m\u001b[0;34m)\u001b[0m\u001b[0;34m\u001b[0m\u001b[0m\n\u001b[0m\u001b[1;32m    358\u001b[0m \u001b[0;34m\u001b[0m\u001b[0m\n\u001b[1;32m    359\u001b[0m         \u001b[0m_api_call\u001b[0m\u001b[0;34m.\u001b[0m\u001b[0m__name__\u001b[0m \u001b[0;34m=\u001b[0m \u001b[0mstr\u001b[0m\u001b[0;34m(\u001b[0m\u001b[0mpy_operation_name\u001b[0m\u001b[0;34m)\u001b[0m\u001b[0;34m\u001b[0m\u001b[0m\n",
      "\u001b[0;32m~/anaconda3/envs/pytorch_p36/lib/python3.6/site-packages/botocore/client.py\u001b[0m in \u001b[0;36m_make_api_call\u001b[0;34m(self, operation_name, api_params)\u001b[0m\n\u001b[1;32m    659\u001b[0m             \u001b[0merror_code\u001b[0m \u001b[0;34m=\u001b[0m \u001b[0mparsed_response\u001b[0m\u001b[0;34m.\u001b[0m\u001b[0mget\u001b[0m\u001b[0;34m(\u001b[0m\u001b[0;34m\"Error\"\u001b[0m\u001b[0;34m,\u001b[0m \u001b[0;34m{\u001b[0m\u001b[0;34m}\u001b[0m\u001b[0;34m)\u001b[0m\u001b[0;34m.\u001b[0m\u001b[0mget\u001b[0m\u001b[0;34m(\u001b[0m\u001b[0;34m\"Code\"\u001b[0m\u001b[0;34m)\u001b[0m\u001b[0;34m\u001b[0m\u001b[0m\n\u001b[1;32m    660\u001b[0m             \u001b[0merror_class\u001b[0m \u001b[0;34m=\u001b[0m \u001b[0mself\u001b[0m\u001b[0;34m.\u001b[0m\u001b[0mexceptions\u001b[0m\u001b[0;34m.\u001b[0m\u001b[0mfrom_code\u001b[0m\u001b[0;34m(\u001b[0m\u001b[0merror_code\u001b[0m\u001b[0;34m)\u001b[0m\u001b[0;34m\u001b[0m\u001b[0m\n\u001b[0;32m--> 661\u001b[0;31m             \u001b[0;32mraise\u001b[0m \u001b[0merror_class\u001b[0m\u001b[0;34m(\u001b[0m\u001b[0mparsed_response\u001b[0m\u001b[0;34m,\u001b[0m \u001b[0moperation_name\u001b[0m\u001b[0;34m)\u001b[0m\u001b[0;34m\u001b[0m\u001b[0m\n\u001b[0m\u001b[1;32m    662\u001b[0m         \u001b[0;32melse\u001b[0m\u001b[0;34m:\u001b[0m\u001b[0;34m\u001b[0m\u001b[0m\n\u001b[1;32m    663\u001b[0m             \u001b[0;32mreturn\u001b[0m \u001b[0mparsed_response\u001b[0m\u001b[0;34m\u001b[0m\u001b[0m\n",
      "\u001b[0;31mClientError\u001b[0m: An error occurred (ValidationException) when calling the DeleteEndpointConfig operation: Could not find endpoint configuration \"arn:aws:sagemaker:us-east-1:117240919775:endpoint-config/sagemaker-pytorch-2019-09-01-22-43-45-371\"."
     ]
    }
   ],
   "source": [
    "predictor.delete_endpoint()"
   ]
  },
  {
   "cell_type": "code",
   "execution_count": null,
   "metadata": {},
   "outputs": [],
   "source": []
  }
 ],
 "metadata": {
  "kernelspec": {
   "display_name": "conda_pytorch_p36",
   "language": "python",
   "name": "conda_pytorch_p36"
  },
  "language_info": {
   "codemirror_mode": {
    "name": "ipython",
    "version": 3
   },
   "file_extension": ".py",
   "mimetype": "text/x-python",
   "name": "python",
   "nbconvert_exporter": "python",
   "pygments_lexer": "ipython3",
   "version": "3.6.5"
  }
 },
 "nbformat": 4,
 "nbformat_minor": 2
}
